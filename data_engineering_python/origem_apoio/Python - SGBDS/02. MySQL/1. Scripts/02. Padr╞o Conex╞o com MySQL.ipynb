{
 "cells": [
  {
   "cell_type": "markdown",
   "metadata": {},
   "source": [
    "##### Documentação \n",
    "Connector Python\n",
    "https://dev.mysql.com/doc/connector-python/en/connector-python-examples.html\n",
    "\n",
    "\n",
    "Conexão padrão:\n",
    "https://dev.mysql.com/doc/connector-python/en/connector-python-example-connecting.html\n",
    "\n",
    "\n",
    "Connection Arguments (Argumentos ou parametros da conexão)\n",
    "https://dev.mysql.com/doc/connector-python/en/connector-python-connectargs.html\n",
    "\n",
    "\n",
    "\n"
   ]
  },
  {
   "cell_type": "code",
   "execution_count": 17,
   "metadata": {},
   "outputs": [],
   "source": [
    "# pip install mysql-connector-python\n",
    "import mysql.connector\n",
    "\n",
    "cnx = mysql.connector.connect(user='root',      # usuario\n",
    "                              password='12345', # Senha\n",
    "                              host='localhost', # servidor MySQL\n",
    "                              database='sakila' # banco de dados (Schema)                              \n",
    "                              )  \n",
    "\n",
    "cursor = cnx.cursor()        # executa comandos (query,insert,update,delete etc...) \n",
    "\n",
    "\n",
    "cursor.close() # fecha Cursor\n",
    "cnx.close()    # fecha conexão\n"
   ]
  },
  {
   "cell_type": "markdown",
   "metadata": {},
   "source": [
    "#### Parametro 2"
   ]
  },
  {
   "cell_type": "code",
   "execution_count": 19,
   "metadata": {},
   "outputs": [],
   "source": [
    "import mysql.connector\n",
    "\n",
    "config = {\n",
    "  'user': 'root',\n",
    "  'password': '12345',\n",
    "  'host': 'localhost',\n",
    "  'database': 'sakila'  \n",
    "}\n",
    "\n",
    "cnx = mysql.connector.connect(**config)\n",
    "cursor = cnx.cursor()   \n",
    "\n",
    "#Ações em banco de dados \n",
    "    \n",
    "cursor.close() \n",
    "cnx.close()"
   ]
  }
 ],
 "metadata": {
  "kernelspec": {
   "display_name": "sgbds",
   "language": "python",
   "name": "python3"
  },
  "language_info": {
   "codemirror_mode": {
    "name": "ipython",
    "version": 3
   },
   "file_extension": ".py",
   "mimetype": "text/x-python",
   "name": "python",
   "nbconvert_exporter": "python",
   "pygments_lexer": "ipython3",
   "version": "3.11.4"
  }
 },
 "nbformat": 4,
 "nbformat_minor": 2
}
