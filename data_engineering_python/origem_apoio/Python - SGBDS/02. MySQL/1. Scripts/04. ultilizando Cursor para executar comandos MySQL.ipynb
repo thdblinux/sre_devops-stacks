{
 "cells": [
  {
   "cell_type": "markdown",
   "metadata": {},
   "source": [
    "##### Documentação \n",
    "https://dev.mysql.com/doc/connector-python/en/connector-python-example-cursor-select.html\n",
    "\n",
    "\n",
    "##### Insert\n",
    "https://dev.mysql.com/doc/connector-python/en/connector-python-example-cursor-transaction.html"
   ]
  },
  {
   "cell_type": "code",
   "execution_count": 23,
   "metadata": {},
   "outputs": [],
   "source": [
    "# pip install mysql-connector-python\n",
    "import mysql.connector\n",
    "import pandas as pd\n",
    "\n",
    "cnx = mysql.connector.connect(user='root',password='12345',host='localhost',database='python' )  \n",
    "cursor = cnx.cursor() \n",
    "\n",
    "comando= '''\n",
    " \n",
    "insert into python.testepython (id,nome) values (1,\"Edmilson\")  \n",
    "    \n",
    "'''\n",
    "\n",
    "cursor.execute(comando)\n",
    "cnx.commit()\n",
    "\n",
    "cursor.close() \n",
    "cnx.close()  "
   ]
  }
 ],
 "metadata": {
  "kernelspec": {
   "display_name": "sgbds",
   "language": "python",
   "name": "python3"
  },
  "language_info": {
   "codemirror_mode": {
    "name": "ipython",
    "version": 3
   },
   "file_extension": ".py",
   "mimetype": "text/x-python",
   "name": "python",
   "nbconvert_exporter": "python",
   "pygments_lexer": "ipython3",
   "version": "3.11.4"
  }
 },
 "nbformat": 4,
 "nbformat_minor": 2
}
