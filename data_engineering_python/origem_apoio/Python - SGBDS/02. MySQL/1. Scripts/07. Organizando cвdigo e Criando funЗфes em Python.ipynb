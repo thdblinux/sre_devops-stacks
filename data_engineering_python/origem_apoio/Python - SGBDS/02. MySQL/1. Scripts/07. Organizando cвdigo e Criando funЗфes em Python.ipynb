{
 "cells": [
  {
   "cell_type": "code",
   "execution_count": 25,
   "metadata": {},
   "outputs": [],
   "source": [
    "import mysql.connector\n",
    "import pandas as pd\n",
    "\n",
    "def carga_categories(df_categories):\n",
    "    cnx = mysql.connector.connect(user='root',password='12345',host='localhost',database='python' )  \n",
    "    cursor = cnx.cursor() \n",
    "    #interage no df e carrrega os dados para Banco \n",
    "    for i,df_categories_coluna in df_categories.iterrows():\n",
    "        cursor.execute('''select category_id FROM python.categories \n",
    "                       where category_id = %s''',( df_categories_coluna['category_id'],))\n",
    "        result=cursor.fetchone()   \n",
    "        \n",
    "        if not result :    \n",
    "            #inserir dados \n",
    "            cursor.execute(\n",
    "                '''\n",
    "                insert into python.categories(\n",
    "                category_id,\n",
    "                category_name\n",
    "                ) \n",
    "                values (%s,%s)  \n",
    "                ''',(\n",
    "                    df_categories_coluna['category_id'],\n",
    "                    df_categories_coluna['category_name']\n",
    "                )            \n",
    "            ) \n",
    "    cnx.commit()\n",
    "    cursor.close() \n",
    "    cnx.close() \n",
    "\n",
    "\n",
    "\n",
    "df_categories = pd.read_csv(r'C:\\Users\\edmil\\OneDrive\\Documentos\\Cursos\\Python - SGBDS - Arquivos\\Origem de dados\\Bikes\\categories.csv',sep=',')\n",
    "\n",
    "#Executa carga de Dados\n",
    "carga_categories(df_categories)"
   ]
  }
 ],
 "metadata": {
  "kernelspec": {
   "display_name": "sgbds",
   "language": "python",
   "name": "python3"
  },
  "language_info": {
   "codemirror_mode": {
    "name": "ipython",
    "version": 3
   },
   "file_extension": ".py",
   "mimetype": "text/x-python",
   "name": "python",
   "nbconvert_exporter": "python",
   "pygments_lexer": "ipython3",
   "version": "3.11.4"
  }
 },
 "nbformat": 4,
 "nbformat_minor": 2
}
