{
 "cells": [
  {
   "cell_type": "markdown",
   "metadata": {},
   "source": [
    "Ducumentação\n",
    "\n",
    "https://dev.mysql.com/doc/connector-python/en/connector-python-installation.html"
   ]
  },
  {
   "cell_type": "code",
   "execution_count": null,
   "metadata": {},
   "outputs": [],
   "source": [
    "\"\"\"\n",
    "sgbds\\Scripts\\activate\n",
    "pip install mysql-connector-python  # Conexao com banco de dados MySQL\n",
    "pip install mysql-connector-python --upgrade #upgrade\n",
    "pip install openpyxl  # Trabalhar com arquivo Excel\n",
    "pip install pandas    # manipulacao e analise de dados (Df)\n",
    "\n",
    "para upgrade \n",
    "pip install --upgrade pandas\n",
    "\"\"\""
   ]
  }
 ],
 "metadata": {
  "language_info": {
   "name": "python"
  }
 },
 "nbformat": 4,
 "nbformat_minor": 2
}
