{
 "cells": [
  {
   "cell_type": "markdown",
   "metadata": {},
   "source": [
    "##### Documentação \n",
    "\n",
    "https://www.psycopg.org/docs/\n",
    "\n",
    "https://www.postgresql.org/docs/current/plpython.html"
   ]
  },
  {
   "cell_type": "code",
   "execution_count": null,
   "metadata": {},
   "outputs": [],
   "source": [
    "#pip install psycopg2\n",
    "\n",
    "\n",
    "'''\n",
    "dbname   = 'seu_banco_de_dados'\n",
    "user     = 'seu_usuario'\n",
    "password = 'sua_senha'\n",
    "host     = 'localhost'\n",
    "port     = '5432' \n",
    "\n",
    "'''"
   ]
  },
  {
   "cell_type": "code",
   "execution_count": 5,
   "metadata": {},
   "outputs": [],
   "source": [
    "import psycopg2\n",
    "\n",
    "# Parâmetros de conexão\n",
    "dbname   = 'postgres'\n",
    "user     = 'postgres'\n",
    "password = '12345'\n",
    "host     = 'localhost'\n",
    "port     = '5432' \n",
    "\n",
    "# Criar uma conexão\n",
    "conn = psycopg2.connect(dbname=dbname,\n",
    "                        user=user,\n",
    "                        password=password,\n",
    "                        host=host,\n",
    "                        port=port)\n",
    "\n",
    "\n",
    "cur = conn.cursor()# Criar um cursor  deixa manipular os dados\n",
    "\n",
    "#comandos sql transct-sql\n",
    "conn.commit() # validar alterações que agente fez  e subir para o banco de dados \n",
    "\n",
    "# Fechar o cursor e a conexão\n",
    "cur.close()\n",
    "conn.close()"
   ]
  }
 ],
 "metadata": {
  "kernelspec": {
   "display_name": "sgbds",
   "language": "python",
   "name": "python3"
  },
  "language_info": {
   "codemirror_mode": {
    "name": "ipython",
    "version": 3
   },
   "file_extension": ".py",
   "mimetype": "text/x-python",
   "name": "python",
   "nbconvert_exporter": "python",
   "pygments_lexer": "ipython3",
   "version": "3.11.4"
  }
 },
 "nbformat": 4,
 "nbformat_minor": 2
}
