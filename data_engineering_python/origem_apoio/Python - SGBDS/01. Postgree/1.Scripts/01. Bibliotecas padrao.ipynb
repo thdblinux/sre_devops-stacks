{
 "cells": [
  {
   "cell_type": "code",
   "execution_count": null,
   "metadata": {},
   "outputs": [],
   "source": [
    "\"\"\"\n",
    "sgbds\\Scripts\\activate\n",
    "pip install psycopg2  # Conexao com banco de dados postgree\n",
    "pip install openpyxl  # Trabalhar com arquivo Excel\n",
    "pip install pandas    # manipulacao e analise de dados (Df)\n",
    "\n",
    "para upgrade \n",
    "pip install --upgrade pandas\n",
    "\n",
    "\"\"\""
   ]
  }
 ],
 "metadata": {
  "language_info": {
   "name": "python"
  }
 },
 "nbformat": 4,
 "nbformat_minor": 2
}
