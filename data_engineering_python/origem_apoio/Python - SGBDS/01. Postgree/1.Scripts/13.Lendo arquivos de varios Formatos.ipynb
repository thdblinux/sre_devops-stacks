{
 "cells": [
  {
   "cell_type": "code",
   "execution_count": null,
   "metadata": {},
   "outputs": [],
   "source": [
    "import pandas as pd"
   ]
  },
  {
   "cell_type": "markdown",
   "metadata": {},
   "source": [
    "https://pandas.pydata.org/docs/reference/api/pandas.read_json.html"
   ]
  },
  {
   "cell_type": "code",
   "execution_count": null,
   "metadata": {},
   "outputs": [],
   "source": [
    "# JSON\n",
    "pasta_origem_json = r\"C:\\Users\\edmil\\OneDrive\\Documentos\\Cursos\\Python - SGBDS - Arquivos\\Destino\\Anac.json\"\n",
    "df_json=pd.read_json(pasta_origem_json,orient=\"index\")\n",
    "df_json.head()"
   ]
  },
  {
   "cell_type": "markdown",
   "metadata": {},
   "source": [
    "https://pandas.pydata.org/docs/reference/api/pandas.read_excel.html"
   ]
  },
  {
   "cell_type": "code",
   "execution_count": null,
   "metadata": {},
   "outputs": [],
   "source": [
    "#Excel\n",
    "pasta_origem_excel = r\"C:\\Users\\edmil\\OneDrive\\Documentos\\Cursos\\Python - SGBDS - Arquivos\\Destino\\Anac.xlsx\"\n",
    "df_excel=pd.read_excel(pasta_origem_excel)\n",
    "df_excel.head()\n",
    "#sheet_name = guia da planila\n",
    "#index = indice do python"
   ]
  },
  {
   "cell_type": "markdown",
   "metadata": {},
   "source": [
    "https://pandas.pydata.org/docs/reference/api/pandas.read_csv.html"
   ]
  },
  {
   "cell_type": "code",
   "execution_count": null,
   "metadata": {},
   "outputs": [],
   "source": [
    "#CSV\n",
    "pasta_origem_csv = r\"C:\\Users\\edmil\\OneDrive\\Documentos\\Cursos\\Python - SGBDS - Arquivos\\Destino\\Anac.csv\"\n",
    "df_csv=pd.read_csv(pasta_origem_csv,sep=',')\n",
    "df_csv.head()\n",
    "#sep=  separador (delimitador)\n"
   ]
  },
  {
   "cell_type": "markdown",
   "metadata": {},
   "source": [
    "https://pandas.pydata.org/docs/reference/api/pandas.read_parquet.html"
   ]
  },
  {
   "cell_type": "code",
   "execution_count": null,
   "metadata": {},
   "outputs": [],
   "source": [
    "#Parquet\n",
    "pasta_origem_parquet = r\"C:\\Users\\edmil\\OneDrive\\Documentos\\Cursos\\Python - SGBDS - Arquivos\\Destino\\Anac.parquet\"\n",
    "df_parquet=pd.read_parquet(pasta_origem_parquet)\n",
    "df_parquet.head()\n",
    "#engine=\"pyarrow\"\n",
    "#engine=\"fastparquet\""
   ]
  },
  {
   "cell_type": "code",
   "execution_count": null,
   "metadata": {},
   "outputs": [],
   "source": [
    "#Parquet Particionado\n",
    "#pip install --upgrade pyarrow\n",
    "#pip install --upgrade fastparquet\n",
    "\n",
    "pasta_origem_parquet = r\"C:\\Users\\edmil\\OneDrive\\Documentos\\Cursos\\Python - SGBDS - Arquivos\\Destino\\Anac_particonado.parquet\"\n",
    "df_parquet_particionado=pd.read_parquet(pasta_origem_parquet,engine=\"fastparquet\")\n",
    "df_parquet_particionado.head()"
   ]
  },
  {
   "cell_type": "code",
   "execution_count": null,
   "metadata": {},
   "outputs": [],
   "source": [
    "\n",
    "#Parquet Particionado somente uma particao e nao um todo\n",
    "pasta_origem_parquet_regiao = r\"C:\\Users\\edmil\\OneDrive\\Documentos\\Cursos\\Python - SGBDS - Arquivos\\Destino\\Anac_particonado.parquet\\regiao=Sudeste\\uf=MG\"\n",
    "df_parquet_mg = pd.read_parquet(pasta_origem_parquet_regiao,engine=\"fastparquet\")\n",
    "df_parquet_mg.head()\n"
   ]
  },
  {
   "cell_type": "code",
   "execution_count": null,
   "metadata": {},
   "outputs": [],
   "source": [
    "import os\n",
    "\n",
    "pasta_principal = r\"C:\\Users\\edmil\\OneDrive\\Documentos\\Cursos\\Python - SGBDS - Arquivos\\Destino\\Anac_particonado.parquet\\regiao=Sudeste\"\n",
    "df_final = [] # df vazio para receber os dados \n",
    "\n",
    "for pasta_regiao in os.listdir(pasta_principal):    \n",
    "    caminho_particao_estado = os.path.join(pasta_principal, pasta_regiao)      \n",
    "    df_estado = pd.read_parquet(caminho_particao_estado, engine=\"fastparquet\") \n",
    "    df_final.append(df_estado)\n",
    "\n",
    "\n",
    "df_completo_sudeste = pd.concat(df_final, ignore_index=True)\n",
    "df_completo_sudeste.head()\n"
   ]
  }
 ],
 "metadata": {
  "kernelspec": {
   "display_name": "sgbds",
   "language": "python",
   "name": "python3"
  },
  "language_info": {
   "codemirror_mode": {
    "name": "ipython",
    "version": 3
   },
   "file_extension": ".py",
   "mimetype": "text/x-python",
   "name": "python",
   "nbconvert_exporter": "python",
   "pygments_lexer": "ipython3",
   "version": "3.11.4"
  }
 },
 "nbformat": 4,
 "nbformat_minor": 2
}
