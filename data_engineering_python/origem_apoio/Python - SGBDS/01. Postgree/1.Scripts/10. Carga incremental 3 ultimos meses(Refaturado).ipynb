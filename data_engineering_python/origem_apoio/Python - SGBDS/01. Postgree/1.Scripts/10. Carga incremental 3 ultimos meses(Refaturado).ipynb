{
 "cells": [
  {
   "cell_type": "code",
   "execution_count": null,
   "metadata": {},
   "outputs": [],
   "source": [
    "from sqlalchemy import create_engine ,Integer, String, Date,VARCHAR,text\n",
    "import pandas as pd"
   ]
  },
  {
   "cell_type": "code",
   "execution_count": null,
   "metadata": {},
   "outputs": [],
   "source": [
    "\n",
    "pd.set_option('display.max_columns', None)\n",
    "caminho_do_arquivo = r\"C:\\Users\\edmil\\OneDrive\\Documentos\\Cursos\\Python - SGBDS - Arquivos\\Origem de dados\\V_OCORRENCIA_AMPLA.json\"\n",
    "df = pd.read_json(caminho_do_arquivo, encoding='utf-8-sig')\n",
    "colunas = [\"Numero_da_Ocorrencia\", \"Classificacao_da_Ocorrência\", \"Data_da_Ocorrencia\",\"Municipio\",\"UF\",\"Regiao\",\"Nome_do_Fabricante\",\"Modelo\"]\n",
    "df = df[colunas]\n",
    "df.rename( columns={  'Classificacao_da_Ocorrência' : 'Classificacao_da_Ocorrencia'  } ,inplace=True )\n"
   ]
  },
  {
   "cell_type": "code",
   "execution_count": null,
   "metadata": {},
   "outputs": [],
   "source": [
    "df.head()"
   ]
  },
  {
   "cell_type": "code",
   "execution_count": null,
   "metadata": {},
   "outputs": [],
   "source": [
    "df.shape[0]"
   ]
  },
  {
   "cell_type": "code",
   "execution_count": null,
   "metadata": {},
   "outputs": [],
   "source": [
    "from datetime import datetime, timedelta\n",
    "\n",
    "#Método 1\n",
    "data_atual = datetime.now()# Data Atual\n",
    "data_ha_3_meses = data_atual - timedelta(days=3*30) # Subtrai 3 meses usando timedelta \n",
    "data_ha_3_meses_apenas_data = data_ha_3_meses.date() # traz somente a data , exclui hora minuto segundo etc\n",
    "\n",
    "#Obs:Não leva em consideração a variação nos números de dias em cada mês, resultando em uma aproximação.\n",
    "print(data_ha_3_meses_apenas_data)"
   ]
  },
  {
   "cell_type": "code",
   "execution_count": null,
   "metadata": {},
   "outputs": [],
   "source": [
    "from datetime import datetime\n",
    "from dateutil.relativedelta import relativedelta\n",
    "\n",
    "#Método 2\n",
    "data_atual2 = datetime.now()\n",
    "d_menos3M = data_atual - relativedelta(months=3) # Subtrai 3 meses usando relativedelta\n",
    "dt_d_menos3M = d_menos3M.date()\n",
    "\n",
    "#Obs:Leva em consideração a variação nos números de dias em cada mês, fornecendo um resultado mais preciso\n",
    "print(dt_d_menos3M)\n"
   ]
  },
  {
   "cell_type": "code",
   "execution_count": null,
   "metadata": {},
   "outputs": [],
   "source": [
    "df.dtypes"
   ]
  },
  {
   "cell_type": "code",
   "execution_count": null,
   "metadata": {},
   "outputs": [],
   "source": [
    "df.head()"
   ]
  },
  {
   "cell_type": "code",
   "execution_count": null,
   "metadata": {},
   "outputs": [],
   "source": [
    "# Converter tudo para Pandas to_datetime para fazer o filtro na base \n",
    "df['Data_da_Ocorrencia']    = pd.to_datetime(df['Data_da_Ocorrencia'])\n",
    "data_ha_3_meses_apenas_data = pd.to_datetime(data_ha_3_meses_apenas_data)\n",
    "dt_d_menos3M                = pd.to_datetime(dt_d_menos3M)"
   ]
  },
  {
   "cell_type": "code",
   "execution_count": null,
   "metadata": {},
   "outputs": [],
   "source": [
    "df.shape[0]"
   ]
  },
  {
   "cell_type": "code",
   "execution_count": null,
   "metadata": {},
   "outputs": [],
   "source": [
    "df = df[df['Data_da_Ocorrencia'] >= dt_d_menos3M]"
   ]
  },
  {
   "cell_type": "code",
   "execution_count": null,
   "metadata": {},
   "outputs": [],
   "source": [
    "df.head()"
   ]
  },
  {
   "cell_type": "code",
   "execution_count": null,
   "metadata": {},
   "outputs": [],
   "source": [
    "dt_d_menos3M_ajustado=dt_d_menos3M.date()"
   ]
  },
  {
   "cell_type": "code",
   "execution_count": null,
   "metadata": {},
   "outputs": [],
   "source": [
    "#conexao com banco de dados\n",
    "dbname   = 'python'\n",
    "user     = 'postgres'\n",
    "password = '12345'\n",
    "host     = 'localhost'\n",
    "port     = '5432' \n",
    "\n",
    "conexao_str = f'postgresql://{user}:{password}@{host}:{port}/{dbname}'\n",
    "engine = create_engine(conexao_str)\n",
    "\n",
    "nome_tabela = 'anac_sqlalchemy' \n",
    "\n",
    "# Deletar registros com base no ano atual\n",
    "cursor=engine.connect() \n",
    "delete = text(f'''    delete from public.{nome_tabela}\t\n",
    "                      WHERE \"Data_da_Ocorrencia\" >=  '{dt_d_menos3M_ajustado}'\n",
    "                ''')\n",
    "cursor.execute(delete)\n",
    "cursor.commit()\n",
    "\n",
    "# Enviar DataFrame para o banco de dados\n",
    "df.to_sql(nome_tabela, engine, index=False, if_exists='append',\n",
    "                     dtype={ \n",
    "                           'Numero_da_Ocorrencia' :   Integer ,\n",
    "                           'Classificacao_da_Ocorrencia': VARCHAR(50),\n",
    "                           'Data_da_Ocorrencia':Date  \n",
    "                           })\n",
    "\n",
    "engine.dispose()\n",
    "cursor.close()"
   ]
  }
 ],
 "metadata": {
  "kernelspec": {
   "display_name": "sgbds",
   "language": "python",
   "name": "python3"
  },
  "language_info": {
   "codemirror_mode": {
    "name": "ipython",
    "version": 3
   },
   "file_extension": ".py",
   "mimetype": "text/x-python",
   "name": "python",
   "nbconvert_exporter": "python",
   "pygments_lexer": "ipython3",
   "version": "3.11.4"
  }
 },
 "nbformat": 4,
 "nbformat_minor": 2
}
