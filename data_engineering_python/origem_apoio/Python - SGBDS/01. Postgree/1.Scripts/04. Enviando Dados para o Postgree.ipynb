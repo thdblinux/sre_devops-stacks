{
 "cells": [
  {
   "cell_type": "markdown",
   "metadata": {},
   "source": [
    "Projeto inserindo dados Json da Anac em banco postgree\n",
    "\n",
    "Passos do projeto:\n",
    "\n",
    "1°: importar json como DF \n",
    "\n",
    "2°: Tratar os dados levar apenas colunas [\"Numero_da_Ocorrencia\", \"Classificacao_da_Ocorrência\", \"Data_da_Ocorrencia\",\"Municipio\",\"UF\",\"Regiao\",\"Nome_do_Fabricante\"]\n",
    "\n",
    "3°: Tirar acento de nomes de colunas\n",
    "\n",
    "4°: Criar Banco de Dados e Tabela \n",
    "\n",
    "5°: Configurar a conexão \n",
    "\n",
    "6°: Enviar dados para o Postgree\n",
    "\n",
    "7°: Criar um Delete da tabela para nao ter histórico , mantendo em banco sempre os dados mais rescentes \n",
    "\n",
    "8°: Refaturar código (apagar o que nao vai usar)\n",
    "\n",
    "9°: Nas Aulas estamos treinando com arquivo script estensão Ipynb (notebook)  vamos salvar como extensão PY"
   ]
  },
  {
   "cell_type": "code",
   "execution_count": null,
   "metadata": {},
   "outputs": [],
   "source": [
    "import pandas as pd\n",
    "pd.set_option('display.max_columns', None)\n",
    "caminho_do_arquivo = r\"C:\\Users\\edmil\\OneDrive\\Documentos\\Cursos\\Python - SGBDS - Arquivos\\Origem de dados\\V_OCORRENCIA_AMPLA.json\"\n",
    "df = pd.read_json(caminho_do_arquivo, encoding='utf-8-sig')\n",
    "df.head(3)"
   ]
  },
  {
   "cell_type": "code",
   "execution_count": null,
   "metadata": {},
   "outputs": [],
   "source": [
    "df.columns"
   ]
  },
  {
   "cell_type": "code",
   "execution_count": null,
   "metadata": {},
   "outputs": [],
   "source": [
    "colunas = [\"Numero_da_Ocorrencia\", \"Classificacao_da_Ocorrência\", \"Data_da_Ocorrencia\",\"Municipio\",\"UF\",\"Regiao\",\"Nome_do_Fabricante\"]\n",
    "df = df[colunas]"
   ]
  },
  {
   "cell_type": "code",
   "execution_count": null,
   "metadata": {},
   "outputs": [],
   "source": [
    "df.rename( columns={  'Classificacao_da_Ocorrência' : 'Classificacao_da_Ocorrencia'  } ,inplace=True )"
   ]
  },
  {
   "cell_type": "code",
   "execution_count": null,
   "metadata": {},
   "outputs": [],
   "source": [
    "df.head(10)"
   ]
  },
  {
   "cell_type": "code",
   "execution_count": null,
   "metadata": {},
   "outputs": [],
   "source": [
    "import psycopg2\n",
    "\n",
    "# Parâmetros de conexão\n",
    "dbname   = 'python'\n",
    "user     = 'postgres'\n",
    "password = '12345'\n",
    "host     = 'localhost'\n",
    "port     = '5432' \n",
    "\n",
    "# Criar uma conexão\n",
    "conexao = psycopg2.connect(dbname=dbname,\n",
    "                        user=user,\n",
    "                        password=password,\n",
    "                        host=host,\n",
    "                        port=port)\n",
    "\n",
    "\n",
    "cursor = conexao.cursor()\n",
    "\n",
    "#Delete base antes da carga\n",
    "cursor.execute(  \" delete from public.Anac  \")\n",
    "\n",
    "#Carga de Dados\n",
    "for indice,coluna_df in df.iterrows():\n",
    "    cursor.execute( \"\"\"   insert into Anac (     \n",
    "                Numero_da_Ocorrencia, \n",
    "                Classificacao_da_Ocorrencia, \n",
    "                Data_da_Ocorrencia, \n",
    "                Municipio, \n",
    "                UF, \n",
    "                Regiao, \n",
    "                Nome_do_Fabricante\n",
    "            ) VALUES (%s,%s,%s,%s,%s,%s,%s) \n",
    "                \n",
    "            \"\"\" ,(\n",
    "                coluna_df[\"Numero_da_Ocorrencia\"],\n",
    "                coluna_df[\"Classificacao_da_Ocorrencia\"],\n",
    "                coluna_df[\"Data_da_Ocorrencia\"],\n",
    "                coluna_df[\"Municipio\"],\n",
    "                coluna_df[\"UF\"],\n",
    "                coluna_df[\"Regiao\"],\n",
    "                coluna_df[\"Nome_do_Fabricante\"]                            \n",
    "                \n",
    "            )                   \n",
    "            \n",
    "            \n",
    "            )\n",
    "\n",
    "conexao.commit() \n",
    "cursor.close()\n",
    "conexao.close()"
   ]
  }
 ],
 "metadata": {
  "kernelspec": {
   "display_name": "sgbds",
   "language": "python",
   "name": "python3"
  },
  "language_info": {
   "codemirror_mode": {
    "name": "ipython",
    "version": 3
   },
   "file_extension": ".py",
   "mimetype": "text/x-python",
   "name": "python",
   "nbconvert_exporter": "python",
   "pygments_lexer": "ipython3",
   "version": "3.11.4"
  }
 },
 "nbformat": 4,
 "nbformat_minor": 2
}
