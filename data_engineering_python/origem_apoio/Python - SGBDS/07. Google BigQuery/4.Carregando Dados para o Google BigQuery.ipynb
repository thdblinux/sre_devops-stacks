{
 "cells": [
  {
   "cell_type": "code",
   "execution_count": null,
   "metadata": {},
   "outputs": [],
   "source": [
    "#pip install google-cloud-bigquery\n",
    "#pip install --upgrade google-cloud-bigquery\n",
    "#pip install pandas\n",
    "\n",
    "#pip install pandas pandas-gbq"
   ]
  },
  {
   "cell_type": "code",
   "execution_count": null,
   "metadata": {},
   "outputs": [],
   "source": [
    "import pandas as pd\n",
    "from google.cloud import bigquery\n",
    "from google.oauth2 import service_account\n",
    "from pandas_gbq import to_gbq\n",
    "\n",
    "# Carregue suas credenciais\n",
    "credencial = service_account.Credentials.from_service_account_file(\n",
    "    r'C:\\Users\\edmil\\Downloads\\pythoncurso-398511-260383f13f39.json',\n",
    "    scopes=['https://www.googleapis.com/auth/bigquery']\n",
    ")"
   ]
  },
  {
   "cell_type": "code",
   "execution_count": null,
   "metadata": {},
   "outputs": [],
   "source": [
    "df = pd.read_excel(r\"C:\\Users\\edmil\\OneDrive\\Área de Trabalho\\Material Python-Google BigQuery\\Arquivos\\Origem\\arquivos_excel\\Produto.xlsx\")\n",
    "df.head()"
   ]
  },
  {
   "cell_type": "code",
   "execution_count": null,
   "metadata": {},
   "outputs": [],
   "source": [
    "# Envie o DataFrame para o BigQuery\n",
    "df.to_gbq(destination_table='pythoncurso-398511.AulaPython.Produto',  # Substitua pelo nome correto da tabela(obs caminho completo)\n",
    "          project_id='pythoncurso-398511',\n",
    "          if_exists='replace',\n",
    "          credentials=credencial)\n",
    "\n",
    "#replace = subistuir a antiga pela original \n",
    "#append = adiciona dados no fim da tabela"
   ]
  }
 ],
 "metadata": {
  "kernelspec": {
   "display_name": "Python 3",
   "language": "python",
   "name": "python3"
  },
  "language_info": {
   "codemirror_mode": {
    "name": "ipython",
    "version": 3
   },
   "file_extension": ".py",
   "mimetype": "text/x-python",
   "name": "python",
   "nbconvert_exporter": "python",
   "pygments_lexer": "ipython3",
   "version": "3.11.4"
  },
  "orig_nbformat": 4
 },
 "nbformat": 4,
 "nbformat_minor": 2
}
