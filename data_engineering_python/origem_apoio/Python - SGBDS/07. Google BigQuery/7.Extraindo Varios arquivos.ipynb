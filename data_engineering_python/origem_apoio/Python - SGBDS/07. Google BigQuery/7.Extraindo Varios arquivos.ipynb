{
 "cells": [
  {
   "cell_type": "code",
   "execution_count": 105,
   "metadata": {},
   "outputs": [],
   "source": [
    "from google.cloud import bigquery\n",
    "import pandas as pd"
   ]
  },
  {
   "cell_type": "code",
   "execution_count": 106,
   "metadata": {},
   "outputs": [],
   "source": [
    "# Especifique o caminho para o arquivo JSON de credenciais\n",
    "credencial = r\"C:\\Users\\edmil\\Downloads\\pythoncurso-398511-260383f13f39.json\"\n",
    "# Crie um cliente BigQuery usando as credenciais\n",
    "client = bigquery.Client.from_service_account_json(credencial)"
   ]
  },
  {
   "cell_type": "code",
   "execution_count": 107,
   "metadata": {},
   "outputs": [],
   "source": [
    "# querys \n",
    "queryProduto = \"\"\" \n",
    "SELECT * FROM `pythoncurso-398511.Ecommerce.Produto`\n",
    "limit 10\n",
    "\"\"\"\n",
    "queryCategoria=\"\"\" \n",
    "SELECT * FROM `pythoncurso-398511.Ecommerce.Categoria`\n",
    "where id in (0,5,8,10)\n",
    "\"\"\"\n",
    "queryItens=\"\"\"\n",
    "SELECT * FROM `pythoncurso-398511.Ecommerce.Items`\n",
    "\"\"\"\n",
    "queryordens=\"\"\"\n",
    "SELECT * FROM `pythoncurso-398511.Ecommerce.Ordens`\n",
    "limit 20\n",
    "\"\"\"\n",
    "queryClientes=\"\"\"\n",
    "SELECT * FROM `pythoncurso-398511.Ecommerce.clientes`\n",
    "limit 50\n",
    "\"\"\"\n"
   ]
  },
  {
   "cell_type": "code",
   "execution_count": 108,
   "metadata": {},
   "outputs": [],
   "source": [
    "resultadoProduto    = client.query(queryProduto)\n",
    "resultadoCategoria  = client.query(queryCategoria)\n",
    "resultadoItens      = client.query(queryItens)\n",
    "resultadoOrdens     = client.query(queryordens)\n",
    "resultadoClientes   = client.query(queryClientes)"
   ]
  },
  {
   "cell_type": "code",
   "execution_count": 109,
   "metadata": {},
   "outputs": [],
   "source": [
    "# Converta os resultados em um DataFrame\n",
    "Produto     = resultadoProduto.to_dataframe()\n",
    "DfCategoria = resultadoCategoria.to_dataframe()\n",
    "DfItens     = resultadoItens.to_dataframe()\n",
    "DfOrdens    = resultadoOrdens.to_dataframe()\n",
    "DfClientes  = resultadoClientes.to_dataframe()"
   ]
  },
  {
   "cell_type": "code",
   "execution_count": 110,
   "metadata": {},
   "outputs": [],
   "source": [
    "#DfOrdens.head()"
   ]
  },
  {
   "cell_type": "code",
   "execution_count": 111,
   "metadata": {},
   "outputs": [],
   "source": [
    "DfOrdens['created_at'] = DfOrdens['created_at'].dt.tz_convert(None)"
   ]
  },
  {
   "cell_type": "code",
   "execution_count": 112,
   "metadata": {},
   "outputs": [],
   "source": [
    "pasta = r'C:\\Users\\edmil\\OneDrive\\Documentos\\Material Python-Google BigQuery\\Arquivos\\Origem\\arquivos_excel\\Extracao\\\\'\n",
    "ExcelProduto   = 'Produto.xlsx'\n",
    "ExcelCategoria ='Categoria.xlsx'\n",
    "ExcelItens     = 'Itens.xlsx'\n",
    "ExcelOrdens    = 'Ordens.xlsx'\n",
    "ExcelClientes  = 'Clientes.xlsx'\n",
    "\n",
    "Produto.to_excel(pasta+ExcelProduto, index=False)  \n",
    "DfCategoria.to_excel(pasta+ExcelCategoria, index=False)  \n",
    "DfItens.to_excel(pasta+ExcelItens, index=False)  \n",
    "DfOrdens.to_excel(pasta+ExcelOrdens, index=False)  \n",
    "DfClientes.to_excel(pasta+ExcelClientes, index=False)  "
   ]
  }
 ],
 "metadata": {
  "kernelspec": {
   "display_name": "Python 3",
   "language": "python",
   "name": "python3"
  },
  "language_info": {
   "codemirror_mode": {
    "name": "ipython",
    "version": 3
   },
   "file_extension": ".py",
   "mimetype": "text/x-python",
   "name": "python",
   "nbconvert_exporter": "python",
   "pygments_lexer": "ipython3",
   "version": "3.11.4"
  },
  "orig_nbformat": 4
 },
 "nbformat": 4,
 "nbformat_minor": 2
}
