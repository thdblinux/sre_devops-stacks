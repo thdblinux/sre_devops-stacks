{
 "cells": [
  {
   "cell_type": "markdown",
   "metadata": {},
   "source": [
    "#### Trabalhando com Datas e mantendo histórico"
   ]
  },
  {
   "cell_type": "code",
   "execution_count": 51,
   "metadata": {},
   "outputs": [],
   "source": [
    "import pandas as pd\n",
    "from google.cloud import bigquery\n",
    "from google.oauth2 import service_account\n",
    "from pandas_gbq import to_gbq\n",
    "from datetime import datetime"
   ]
  },
  {
   "cell_type": "code",
   "execution_count": 52,
   "metadata": {},
   "outputs": [
    {
     "data": {
      "text/html": [
       "<div>\n",
       "<style scoped>\n",
       "    .dataframe tbody tr th:only-of-type {\n",
       "        vertical-align: middle;\n",
       "    }\n",
       "\n",
       "    .dataframe tbody tr th {\n",
       "        vertical-align: top;\n",
       "    }\n",
       "\n",
       "    .dataframe thead th {\n",
       "        text-align: right;\n",
       "    }\n",
       "</style>\n",
       "<table border=\"1\" class=\"dataframe\">\n",
       "  <thead>\n",
       "    <tr style=\"text-align: right;\">\n",
       "      <th></th>\n",
       "      <th>ID</th>\n",
       "      <th>Nome</th>\n",
       "      <th>Price</th>\n",
       "      <th>Id_Category</th>\n",
       "    </tr>\n",
       "  </thead>\n",
       "  <tbody>\n",
       "    <tr>\n",
       "      <th>0</th>\n",
       "      <td>0</td>\n",
       "      <td>Sapato Roxo</td>\n",
       "      <td>96</td>\n",
       "      <td>0</td>\n",
       "    </tr>\n",
       "    <tr>\n",
       "      <th>1</th>\n",
       "      <td>1</td>\n",
       "      <td>Bolsa mais que Velha e cara</td>\n",
       "      <td>8000</td>\n",
       "      <td>0</td>\n",
       "    </tr>\n",
       "    <tr>\n",
       "      <th>2</th>\n",
       "      <td>2</td>\n",
       "      <td>Calça rasgada</td>\n",
       "      <td>75</td>\n",
       "      <td>0</td>\n",
       "    </tr>\n",
       "    <tr>\n",
       "      <th>3</th>\n",
       "      <td>3</td>\n",
       "      <td>Camisa apertadinha</td>\n",
       "      <td>170</td>\n",
       "      <td>0</td>\n",
       "    </tr>\n",
       "    <tr>\n",
       "      <th>4</th>\n",
       "      <td>4</td>\n",
       "      <td>Vestido Super curto</td>\n",
       "      <td>57</td>\n",
       "      <td>0</td>\n",
       "    </tr>\n",
       "  </tbody>\n",
       "</table>\n",
       "</div>"
      ],
      "text/plain": [
       "   ID                         Nome  Price  Id_Category\n",
       "0   0                  Sapato Roxo     96            0\n",
       "1   1  Bolsa mais que Velha e cara   8000            0\n",
       "2   2                Calça rasgada     75            0\n",
       "3   3           Camisa apertadinha    170            0\n",
       "4   4          Vestido Super curto     57            0"
      ]
     },
     "execution_count": 52,
     "metadata": {},
     "output_type": "execute_result"
    }
   ],
   "source": [
    "df = pd.read_excel(r\"K:\\Python\\Arquivos\\Origem\\arquivos_excel\\Produto.xlsx\")\n",
    "df.head()"
   ]
  },
  {
   "cell_type": "code",
   "execution_count": 53,
   "metadata": {},
   "outputs": [],
   "source": [
    "df['DataHoraCarga'] = datetime.now()"
   ]
  },
  {
   "cell_type": "code",
   "execution_count": 54,
   "metadata": {},
   "outputs": [
    {
     "data": {
      "text/html": [
       "<div>\n",
       "<style scoped>\n",
       "    .dataframe tbody tr th:only-of-type {\n",
       "        vertical-align: middle;\n",
       "    }\n",
       "\n",
       "    .dataframe tbody tr th {\n",
       "        vertical-align: top;\n",
       "    }\n",
       "\n",
       "    .dataframe thead th {\n",
       "        text-align: right;\n",
       "    }\n",
       "</style>\n",
       "<table border=\"1\" class=\"dataframe\">\n",
       "  <thead>\n",
       "    <tr style=\"text-align: right;\">\n",
       "      <th></th>\n",
       "      <th>ID</th>\n",
       "      <th>Nome</th>\n",
       "      <th>Price</th>\n",
       "      <th>Id_Category</th>\n",
       "      <th>DataHoraCarga</th>\n",
       "    </tr>\n",
       "  </thead>\n",
       "  <tbody>\n",
       "    <tr>\n",
       "      <th>0</th>\n",
       "      <td>0</td>\n",
       "      <td>Sapato Roxo</td>\n",
       "      <td>96</td>\n",
       "      <td>0</td>\n",
       "      <td>2023-09-18 19:45:19.891206</td>\n",
       "    </tr>\n",
       "    <tr>\n",
       "      <th>1</th>\n",
       "      <td>1</td>\n",
       "      <td>Bolsa mais que Velha e cara</td>\n",
       "      <td>8000</td>\n",
       "      <td>0</td>\n",
       "      <td>2023-09-18 19:45:19.891206</td>\n",
       "    </tr>\n",
       "    <tr>\n",
       "      <th>2</th>\n",
       "      <td>2</td>\n",
       "      <td>Calça rasgada</td>\n",
       "      <td>75</td>\n",
       "      <td>0</td>\n",
       "      <td>2023-09-18 19:45:19.891206</td>\n",
       "    </tr>\n",
       "    <tr>\n",
       "      <th>3</th>\n",
       "      <td>3</td>\n",
       "      <td>Camisa apertadinha</td>\n",
       "      <td>170</td>\n",
       "      <td>0</td>\n",
       "      <td>2023-09-18 19:45:19.891206</td>\n",
       "    </tr>\n",
       "    <tr>\n",
       "      <th>4</th>\n",
       "      <td>4</td>\n",
       "      <td>Vestido Super curto</td>\n",
       "      <td>57</td>\n",
       "      <td>0</td>\n",
       "      <td>2023-09-18 19:45:19.891206</td>\n",
       "    </tr>\n",
       "  </tbody>\n",
       "</table>\n",
       "</div>"
      ],
      "text/plain": [
       "   ID                         Nome  Price  Id_Category  \\\n",
       "0   0                  Sapato Roxo     96            0   \n",
       "1   1  Bolsa mais que Velha e cara   8000            0   \n",
       "2   2                Calça rasgada     75            0   \n",
       "3   3           Camisa apertadinha    170            0   \n",
       "4   4          Vestido Super curto     57            0   \n",
       "\n",
       "               DataHoraCarga  \n",
       "0 2023-09-18 19:45:19.891206  \n",
       "1 2023-09-18 19:45:19.891206  \n",
       "2 2023-09-18 19:45:19.891206  \n",
       "3 2023-09-18 19:45:19.891206  \n",
       "4 2023-09-18 19:45:19.891206  "
      ]
     },
     "execution_count": 54,
     "metadata": {},
     "output_type": "execute_result"
    }
   ],
   "source": [
    "df.head(5)"
   ]
  },
  {
   "cell_type": "code",
   "execution_count": 55,
   "metadata": {},
   "outputs": [],
   "source": [
    "df['DataHoraCarga'] = datetime.now().strftime('%Y-%m-%d %H:%M:%S')  # prescisa desta conversao para o bigquery aceitar "
   ]
  },
  {
   "cell_type": "code",
   "execution_count": 56,
   "metadata": {},
   "outputs": [
    {
     "data": {
      "text/html": [
       "<div>\n",
       "<style scoped>\n",
       "    .dataframe tbody tr th:only-of-type {\n",
       "        vertical-align: middle;\n",
       "    }\n",
       "\n",
       "    .dataframe tbody tr th {\n",
       "        vertical-align: top;\n",
       "    }\n",
       "\n",
       "    .dataframe thead th {\n",
       "        text-align: right;\n",
       "    }\n",
       "</style>\n",
       "<table border=\"1\" class=\"dataframe\">\n",
       "  <thead>\n",
       "    <tr style=\"text-align: right;\">\n",
       "      <th></th>\n",
       "      <th>ID</th>\n",
       "      <th>Nome</th>\n",
       "      <th>Price</th>\n",
       "      <th>Id_Category</th>\n",
       "      <th>DataHoraCarga</th>\n",
       "    </tr>\n",
       "  </thead>\n",
       "  <tbody>\n",
       "    <tr>\n",
       "      <th>0</th>\n",
       "      <td>0</td>\n",
       "      <td>Sapato Roxo</td>\n",
       "      <td>96</td>\n",
       "      <td>0</td>\n",
       "      <td>2023-09-18 19:45:19</td>\n",
       "    </tr>\n",
       "    <tr>\n",
       "      <th>1</th>\n",
       "      <td>1</td>\n",
       "      <td>Bolsa mais que Velha e cara</td>\n",
       "      <td>8000</td>\n",
       "      <td>0</td>\n",
       "      <td>2023-09-18 19:45:19</td>\n",
       "    </tr>\n",
       "    <tr>\n",
       "      <th>2</th>\n",
       "      <td>2</td>\n",
       "      <td>Calça rasgada</td>\n",
       "      <td>75</td>\n",
       "      <td>0</td>\n",
       "      <td>2023-09-18 19:45:19</td>\n",
       "    </tr>\n",
       "    <tr>\n",
       "      <th>3</th>\n",
       "      <td>3</td>\n",
       "      <td>Camisa apertadinha</td>\n",
       "      <td>170</td>\n",
       "      <td>0</td>\n",
       "      <td>2023-09-18 19:45:19</td>\n",
       "    </tr>\n",
       "    <tr>\n",
       "      <th>4</th>\n",
       "      <td>4</td>\n",
       "      <td>Vestido Super curto</td>\n",
       "      <td>57</td>\n",
       "      <td>0</td>\n",
       "      <td>2023-09-18 19:45:19</td>\n",
       "    </tr>\n",
       "  </tbody>\n",
       "</table>\n",
       "</div>"
      ],
      "text/plain": [
       "   ID                         Nome  Price  Id_Category        DataHoraCarga\n",
       "0   0                  Sapato Roxo     96            0  2023-09-18 19:45:19\n",
       "1   1  Bolsa mais que Velha e cara   8000            0  2023-09-18 19:45:19\n",
       "2   2                Calça rasgada     75            0  2023-09-18 19:45:19\n",
       "3   3           Camisa apertadinha    170            0  2023-09-18 19:45:19\n",
       "4   4          Vestido Super curto     57            0  2023-09-18 19:45:19"
      ]
     },
     "execution_count": 56,
     "metadata": {},
     "output_type": "execute_result"
    }
   ],
   "source": [
    "df.head(5)\n"
   ]
  },
  {
   "cell_type": "code",
   "execution_count": 57,
   "metadata": {},
   "outputs": [],
   "source": [
    "df['DataCarga'] = datetime.now().date()"
   ]
  },
  {
   "cell_type": "code",
   "execution_count": 58,
   "metadata": {},
   "outputs": [
    {
     "data": {
      "text/html": [
       "<div>\n",
       "<style scoped>\n",
       "    .dataframe tbody tr th:only-of-type {\n",
       "        vertical-align: middle;\n",
       "    }\n",
       "\n",
       "    .dataframe tbody tr th {\n",
       "        vertical-align: top;\n",
       "    }\n",
       "\n",
       "    .dataframe thead th {\n",
       "        text-align: right;\n",
       "    }\n",
       "</style>\n",
       "<table border=\"1\" class=\"dataframe\">\n",
       "  <thead>\n",
       "    <tr style=\"text-align: right;\">\n",
       "      <th></th>\n",
       "      <th>ID</th>\n",
       "      <th>Nome</th>\n",
       "      <th>Price</th>\n",
       "      <th>Id_Category</th>\n",
       "      <th>DataHoraCarga</th>\n",
       "      <th>DataCarga</th>\n",
       "    </tr>\n",
       "  </thead>\n",
       "  <tbody>\n",
       "    <tr>\n",
       "      <th>0</th>\n",
       "      <td>0</td>\n",
       "      <td>Sapato Roxo</td>\n",
       "      <td>96</td>\n",
       "      <td>0</td>\n",
       "      <td>2023-09-18 19:45:19</td>\n",
       "      <td>2023-09-18</td>\n",
       "    </tr>\n",
       "    <tr>\n",
       "      <th>1</th>\n",
       "      <td>1</td>\n",
       "      <td>Bolsa mais que Velha e cara</td>\n",
       "      <td>8000</td>\n",
       "      <td>0</td>\n",
       "      <td>2023-09-18 19:45:19</td>\n",
       "      <td>2023-09-18</td>\n",
       "    </tr>\n",
       "    <tr>\n",
       "      <th>2</th>\n",
       "      <td>2</td>\n",
       "      <td>Calça rasgada</td>\n",
       "      <td>75</td>\n",
       "      <td>0</td>\n",
       "      <td>2023-09-18 19:45:19</td>\n",
       "      <td>2023-09-18</td>\n",
       "    </tr>\n",
       "    <tr>\n",
       "      <th>3</th>\n",
       "      <td>3</td>\n",
       "      <td>Camisa apertadinha</td>\n",
       "      <td>170</td>\n",
       "      <td>0</td>\n",
       "      <td>2023-09-18 19:45:19</td>\n",
       "      <td>2023-09-18</td>\n",
       "    </tr>\n",
       "    <tr>\n",
       "      <th>4</th>\n",
       "      <td>4</td>\n",
       "      <td>Vestido Super curto</td>\n",
       "      <td>57</td>\n",
       "      <td>0</td>\n",
       "      <td>2023-09-18 19:45:19</td>\n",
       "      <td>2023-09-18</td>\n",
       "    </tr>\n",
       "  </tbody>\n",
       "</table>\n",
       "</div>"
      ],
      "text/plain": [
       "   ID                         Nome  Price  Id_Category        DataHoraCarga  \\\n",
       "0   0                  Sapato Roxo     96            0  2023-09-18 19:45:19   \n",
       "1   1  Bolsa mais que Velha e cara   8000            0  2023-09-18 19:45:19   \n",
       "2   2                Calça rasgada     75            0  2023-09-18 19:45:19   \n",
       "3   3           Camisa apertadinha    170            0  2023-09-18 19:45:19   \n",
       "4   4          Vestido Super curto     57            0  2023-09-18 19:45:19   \n",
       "\n",
       "    DataCarga  \n",
       "0  2023-09-18  \n",
       "1  2023-09-18  \n",
       "2  2023-09-18  \n",
       "3  2023-09-18  \n",
       "4  2023-09-18  "
      ]
     },
     "execution_count": 58,
     "metadata": {},
     "output_type": "execute_result"
    }
   ],
   "source": [
    "df.head(5)"
   ]
  },
  {
   "cell_type": "code",
   "execution_count": 59,
   "metadata": {},
   "outputs": [],
   "source": [
    "df['DataCargaPTBR'] = datetime.now().strftime('%d/%m/%Y')"
   ]
  },
  {
   "cell_type": "code",
   "execution_count": 60,
   "metadata": {},
   "outputs": [
    {
     "data": {
      "text/html": [
       "<div>\n",
       "<style scoped>\n",
       "    .dataframe tbody tr th:only-of-type {\n",
       "        vertical-align: middle;\n",
       "    }\n",
       "\n",
       "    .dataframe tbody tr th {\n",
       "        vertical-align: top;\n",
       "    }\n",
       "\n",
       "    .dataframe thead th {\n",
       "        text-align: right;\n",
       "    }\n",
       "</style>\n",
       "<table border=\"1\" class=\"dataframe\">\n",
       "  <thead>\n",
       "    <tr style=\"text-align: right;\">\n",
       "      <th></th>\n",
       "      <th>ID</th>\n",
       "      <th>Nome</th>\n",
       "      <th>Price</th>\n",
       "      <th>Id_Category</th>\n",
       "      <th>DataHoraCarga</th>\n",
       "      <th>DataCarga</th>\n",
       "      <th>DataCargaPTBR</th>\n",
       "    </tr>\n",
       "  </thead>\n",
       "  <tbody>\n",
       "    <tr>\n",
       "      <th>0</th>\n",
       "      <td>0</td>\n",
       "      <td>Sapato Roxo</td>\n",
       "      <td>96</td>\n",
       "      <td>0</td>\n",
       "      <td>2023-09-18 19:45:19</td>\n",
       "      <td>2023-09-18</td>\n",
       "      <td>18/09/2023</td>\n",
       "    </tr>\n",
       "    <tr>\n",
       "      <th>1</th>\n",
       "      <td>1</td>\n",
       "      <td>Bolsa mais que Velha e cara</td>\n",
       "      <td>8000</td>\n",
       "      <td>0</td>\n",
       "      <td>2023-09-18 19:45:19</td>\n",
       "      <td>2023-09-18</td>\n",
       "      <td>18/09/2023</td>\n",
       "    </tr>\n",
       "    <tr>\n",
       "      <th>2</th>\n",
       "      <td>2</td>\n",
       "      <td>Calça rasgada</td>\n",
       "      <td>75</td>\n",
       "      <td>0</td>\n",
       "      <td>2023-09-18 19:45:19</td>\n",
       "      <td>2023-09-18</td>\n",
       "      <td>18/09/2023</td>\n",
       "    </tr>\n",
       "    <tr>\n",
       "      <th>3</th>\n",
       "      <td>3</td>\n",
       "      <td>Camisa apertadinha</td>\n",
       "      <td>170</td>\n",
       "      <td>0</td>\n",
       "      <td>2023-09-18 19:45:19</td>\n",
       "      <td>2023-09-18</td>\n",
       "      <td>18/09/2023</td>\n",
       "    </tr>\n",
       "    <tr>\n",
       "      <th>4</th>\n",
       "      <td>4</td>\n",
       "      <td>Vestido Super curto</td>\n",
       "      <td>57</td>\n",
       "      <td>0</td>\n",
       "      <td>2023-09-18 19:45:19</td>\n",
       "      <td>2023-09-18</td>\n",
       "      <td>18/09/2023</td>\n",
       "    </tr>\n",
       "  </tbody>\n",
       "</table>\n",
       "</div>"
      ],
      "text/plain": [
       "   ID                         Nome  Price  Id_Category        DataHoraCarga  \\\n",
       "0   0                  Sapato Roxo     96            0  2023-09-18 19:45:19   \n",
       "1   1  Bolsa mais que Velha e cara   8000            0  2023-09-18 19:45:19   \n",
       "2   2                Calça rasgada     75            0  2023-09-18 19:45:19   \n",
       "3   3           Camisa apertadinha    170            0  2023-09-18 19:45:19   \n",
       "4   4          Vestido Super curto     57            0  2023-09-18 19:45:19   \n",
       "\n",
       "    DataCarga DataCargaPTBR  \n",
       "0  2023-09-18    18/09/2023  \n",
       "1  2023-09-18    18/09/2023  \n",
       "2  2023-09-18    18/09/2023  \n",
       "3  2023-09-18    18/09/2023  \n",
       "4  2023-09-18    18/09/2023  "
      ]
     },
     "execution_count": 60,
     "metadata": {},
     "output_type": "execute_result"
    }
   ],
   "source": [
    "df.head(5)"
   ]
  },
  {
   "cell_type": "code",
   "execution_count": 61,
   "metadata": {},
   "outputs": [],
   "source": [
    "df['HoraCarga'] = datetime.now().strftime('%H:%M:%S')"
   ]
  },
  {
   "cell_type": "code",
   "execution_count": 62,
   "metadata": {},
   "outputs": [
    {
     "data": {
      "text/html": [
       "<div>\n",
       "<style scoped>\n",
       "    .dataframe tbody tr th:only-of-type {\n",
       "        vertical-align: middle;\n",
       "    }\n",
       "\n",
       "    .dataframe tbody tr th {\n",
       "        vertical-align: top;\n",
       "    }\n",
       "\n",
       "    .dataframe thead th {\n",
       "        text-align: right;\n",
       "    }\n",
       "</style>\n",
       "<table border=\"1\" class=\"dataframe\">\n",
       "  <thead>\n",
       "    <tr style=\"text-align: right;\">\n",
       "      <th></th>\n",
       "      <th>ID</th>\n",
       "      <th>Nome</th>\n",
       "      <th>Price</th>\n",
       "      <th>Id_Category</th>\n",
       "      <th>DataHoraCarga</th>\n",
       "      <th>DataCarga</th>\n",
       "      <th>DataCargaPTBR</th>\n",
       "      <th>HoraCarga</th>\n",
       "    </tr>\n",
       "  </thead>\n",
       "  <tbody>\n",
       "    <tr>\n",
       "      <th>0</th>\n",
       "      <td>0</td>\n",
       "      <td>Sapato Roxo</td>\n",
       "      <td>96</td>\n",
       "      <td>0</td>\n",
       "      <td>2023-09-18 19:45:19</td>\n",
       "      <td>2023-09-18</td>\n",
       "      <td>18/09/2023</td>\n",
       "      <td>19:45:20</td>\n",
       "    </tr>\n",
       "    <tr>\n",
       "      <th>1</th>\n",
       "      <td>1</td>\n",
       "      <td>Bolsa mais que Velha e cara</td>\n",
       "      <td>8000</td>\n",
       "      <td>0</td>\n",
       "      <td>2023-09-18 19:45:19</td>\n",
       "      <td>2023-09-18</td>\n",
       "      <td>18/09/2023</td>\n",
       "      <td>19:45:20</td>\n",
       "    </tr>\n",
       "    <tr>\n",
       "      <th>2</th>\n",
       "      <td>2</td>\n",
       "      <td>Calça rasgada</td>\n",
       "      <td>75</td>\n",
       "      <td>0</td>\n",
       "      <td>2023-09-18 19:45:19</td>\n",
       "      <td>2023-09-18</td>\n",
       "      <td>18/09/2023</td>\n",
       "      <td>19:45:20</td>\n",
       "    </tr>\n",
       "    <tr>\n",
       "      <th>3</th>\n",
       "      <td>3</td>\n",
       "      <td>Camisa apertadinha</td>\n",
       "      <td>170</td>\n",
       "      <td>0</td>\n",
       "      <td>2023-09-18 19:45:19</td>\n",
       "      <td>2023-09-18</td>\n",
       "      <td>18/09/2023</td>\n",
       "      <td>19:45:20</td>\n",
       "    </tr>\n",
       "    <tr>\n",
       "      <th>4</th>\n",
       "      <td>4</td>\n",
       "      <td>Vestido Super curto</td>\n",
       "      <td>57</td>\n",
       "      <td>0</td>\n",
       "      <td>2023-09-18 19:45:19</td>\n",
       "      <td>2023-09-18</td>\n",
       "      <td>18/09/2023</td>\n",
       "      <td>19:45:20</td>\n",
       "    </tr>\n",
       "  </tbody>\n",
       "</table>\n",
       "</div>"
      ],
      "text/plain": [
       "   ID                         Nome  Price  Id_Category        DataHoraCarga  \\\n",
       "0   0                  Sapato Roxo     96            0  2023-09-18 19:45:19   \n",
       "1   1  Bolsa mais que Velha e cara   8000            0  2023-09-18 19:45:19   \n",
       "2   2                Calça rasgada     75            0  2023-09-18 19:45:19   \n",
       "3   3           Camisa apertadinha    170            0  2023-09-18 19:45:19   \n",
       "4   4          Vestido Super curto     57            0  2023-09-18 19:45:19   \n",
       "\n",
       "    DataCarga DataCargaPTBR HoraCarga  \n",
       "0  2023-09-18    18/09/2023  19:45:20  \n",
       "1  2023-09-18    18/09/2023  19:45:20  \n",
       "2  2023-09-18    18/09/2023  19:45:20  \n",
       "3  2023-09-18    18/09/2023  19:45:20  \n",
       "4  2023-09-18    18/09/2023  19:45:20  "
      ]
     },
     "execution_count": 62,
     "metadata": {},
     "output_type": "execute_result"
    }
   ],
   "source": [
    "df.head(5)"
   ]
  },
  {
   "cell_type": "code",
   "execution_count": 63,
   "metadata": {},
   "outputs": [
    {
     "data": {
      "text/plain": [
       "ID                int64\n",
       "Nome             object\n",
       "Price             int64\n",
       "Id_Category       int64\n",
       "DataHoraCarga    object\n",
       "DataCarga        object\n",
       "DataCargaPTBR    object\n",
       "HoraCarga        object\n",
       "dtype: object"
      ]
     },
     "execution_count": 63,
     "metadata": {},
     "output_type": "execute_result"
    }
   ],
   "source": [
    "df.dtypes"
   ]
  },
  {
   "cell_type": "markdown",
   "metadata": {},
   "source": [
    "##### https://docs.python.org/pt-br/3/library/datetime.html"
   ]
  },
  {
   "cell_type": "code",
   "execution_count": 64,
   "metadata": {},
   "outputs": [],
   "source": [
    "#converter para BQ Aceitar\n",
    "df['DataHoraCarga'] = pd.to_datetime(df['DataHoraCarga'])\n",
    "df['DataCarga'] = pd.to_datetime(df['DataCarga'])"
   ]
  },
  {
   "cell_type": "code",
   "execution_count": 65,
   "metadata": {},
   "outputs": [
    {
     "data": {
      "text/plain": [
       "ID                        int64\n",
       "Nome                     object\n",
       "Price                     int64\n",
       "Id_Category               int64\n",
       "DataHoraCarga    datetime64[ns]\n",
       "DataCarga        datetime64[ns]\n",
       "DataCargaPTBR            object\n",
       "HoraCarga                object\n",
       "dtype: object"
      ]
     },
     "execution_count": 65,
     "metadata": {},
     "output_type": "execute_result"
    }
   ],
   "source": [
    "df.dtypes"
   ]
  },
  {
   "cell_type": "code",
   "execution_count": 66,
   "metadata": {},
   "outputs": [
    {
     "data": {
      "text/html": [
       "<div>\n",
       "<style scoped>\n",
       "    .dataframe tbody tr th:only-of-type {\n",
       "        vertical-align: middle;\n",
       "    }\n",
       "\n",
       "    .dataframe tbody tr th {\n",
       "        vertical-align: top;\n",
       "    }\n",
       "\n",
       "    .dataframe thead th {\n",
       "        text-align: right;\n",
       "    }\n",
       "</style>\n",
       "<table border=\"1\" class=\"dataframe\">\n",
       "  <thead>\n",
       "    <tr style=\"text-align: right;\">\n",
       "      <th></th>\n",
       "      <th>ID</th>\n",
       "      <th>Nome</th>\n",
       "      <th>Price</th>\n",
       "      <th>Id_Category</th>\n",
       "      <th>DataHoraCarga</th>\n",
       "      <th>DataCarga</th>\n",
       "      <th>DataCargaPTBR</th>\n",
       "      <th>HoraCarga</th>\n",
       "    </tr>\n",
       "  </thead>\n",
       "  <tbody>\n",
       "    <tr>\n",
       "      <th>0</th>\n",
       "      <td>0</td>\n",
       "      <td>Sapato Roxo</td>\n",
       "      <td>96</td>\n",
       "      <td>0</td>\n",
       "      <td>2023-09-18 19:45:19</td>\n",
       "      <td>2023-09-18</td>\n",
       "      <td>18/09/2023</td>\n",
       "      <td>19:45:20</td>\n",
       "    </tr>\n",
       "    <tr>\n",
       "      <th>1</th>\n",
       "      <td>1</td>\n",
       "      <td>Bolsa mais que Velha e cara</td>\n",
       "      <td>8000</td>\n",
       "      <td>0</td>\n",
       "      <td>2023-09-18 19:45:19</td>\n",
       "      <td>2023-09-18</td>\n",
       "      <td>18/09/2023</td>\n",
       "      <td>19:45:20</td>\n",
       "    </tr>\n",
       "    <tr>\n",
       "      <th>2</th>\n",
       "      <td>2</td>\n",
       "      <td>Calça rasgada</td>\n",
       "      <td>75</td>\n",
       "      <td>0</td>\n",
       "      <td>2023-09-18 19:45:19</td>\n",
       "      <td>2023-09-18</td>\n",
       "      <td>18/09/2023</td>\n",
       "      <td>19:45:20</td>\n",
       "    </tr>\n",
       "    <tr>\n",
       "      <th>3</th>\n",
       "      <td>3</td>\n",
       "      <td>Camisa apertadinha</td>\n",
       "      <td>170</td>\n",
       "      <td>0</td>\n",
       "      <td>2023-09-18 19:45:19</td>\n",
       "      <td>2023-09-18</td>\n",
       "      <td>18/09/2023</td>\n",
       "      <td>19:45:20</td>\n",
       "    </tr>\n",
       "    <tr>\n",
       "      <th>4</th>\n",
       "      <td>4</td>\n",
       "      <td>Vestido Super curto</td>\n",
       "      <td>57</td>\n",
       "      <td>0</td>\n",
       "      <td>2023-09-18 19:45:19</td>\n",
       "      <td>2023-09-18</td>\n",
       "      <td>18/09/2023</td>\n",
       "      <td>19:45:20</td>\n",
       "    </tr>\n",
       "  </tbody>\n",
       "</table>\n",
       "</div>"
      ],
      "text/plain": [
       "   ID                         Nome  Price  Id_Category       DataHoraCarga  \\\n",
       "0   0                  Sapato Roxo     96            0 2023-09-18 19:45:19   \n",
       "1   1  Bolsa mais que Velha e cara   8000            0 2023-09-18 19:45:19   \n",
       "2   2                Calça rasgada     75            0 2023-09-18 19:45:19   \n",
       "3   3           Camisa apertadinha    170            0 2023-09-18 19:45:19   \n",
       "4   4          Vestido Super curto     57            0 2023-09-18 19:45:19   \n",
       "\n",
       "   DataCarga DataCargaPTBR HoraCarga  \n",
       "0 2023-09-18    18/09/2023  19:45:20  \n",
       "1 2023-09-18    18/09/2023  19:45:20  \n",
       "2 2023-09-18    18/09/2023  19:45:20  \n",
       "3 2023-09-18    18/09/2023  19:45:20  \n",
       "4 2023-09-18    18/09/2023  19:45:20  "
      ]
     },
     "execution_count": 66,
     "metadata": {},
     "output_type": "execute_result"
    }
   ],
   "source": [
    "df.head(5)"
   ]
  },
  {
   "cell_type": "code",
   "execution_count": 67,
   "metadata": {},
   "outputs": [],
   "source": [
    "# credenciais para validar importar dados para o google bigquery\n",
    "credencial = r\"C:\\Users\\edmil\\Downloads\\pythoncurso-398511-260383f13f39.json\"\n",
    "CredImportacao = service_account.Credentials.from_service_account_file(\n",
    "    credencial,\n",
    "    scopes=['https://www.googleapis.com/auth/bigquery']\n",
    ")\n",
    "\n",
    "# variaveis do projeto \n",
    "projeto = 'pythoncurso-398511'\n",
    "dataset = 'AulaPython'\n",
    "tabela = 'ProdutoHistorico'\n",
    "parameretro ='append'      \n",
    "#replace = subistuir a antiga pela original \n",
    "#append = adiciona dados no fim da tabela "
   ]
  },
  {
   "cell_type": "code",
   "execution_count": 68,
   "metadata": {},
   "outputs": [],
   "source": [
    "#df['Price'] = df['Price'].astype(int)\n",
    "#df['Id_Category'] = df['Id_Category'].astype(int)"
   ]
  },
  {
   "cell_type": "code",
   "execution_count": 69,
   "metadata": {},
   "outputs": [
    {
     "data": {
      "text/plain": [
       "ID                        int64\n",
       "Nome                     object\n",
       "Price                     int64\n",
       "Id_Category               int64\n",
       "DataHoraCarga    datetime64[ns]\n",
       "DataCarga        datetime64[ns]\n",
       "DataCargaPTBR            object\n",
       "HoraCarga                object\n",
       "dtype: object"
      ]
     },
     "execution_count": 69,
     "metadata": {},
     "output_type": "execute_result"
    }
   ],
   "source": [
    "df.dtypes"
   ]
  },
  {
   "cell_type": "code",
   "execution_count": 70,
   "metadata": {},
   "outputs": [],
   "source": [
    "schema = [\n",
    "    {'name': 'DataHoraCarga', 'type': 'TIMESTAMP'},# Use 'TIMESTAMP' para datetime64[ns] (pode ser tambem da certo)\n",
    "    {'name': 'Price', 'type': 'INTEGER'},\n",
    "    {'name': 'Id_Category', 'type': 'INTEGER'},\n",
    "    {'name': 'DataCarga', 'type': 'DATE'} #SOMENTE DATA\n",
    "]\n",
    "\n"
   ]
  },
  {
   "cell_type": "code",
   "execution_count": 71,
   "metadata": {},
   "outputs": [
    {
     "name": "stderr",
     "output_type": "stream",
     "text": [
      "100%|██████████| 1/1 [00:00<00:00, 995.33it/s]\n"
     ]
    }
   ],
   "source": [
    "# Use o método to_gbq para enviar o DataFrame para o BigQuery\n",
    "df.to_gbq(destination_table=f'{projeto}.{dataset}.{tabela}',\n",
    "          project_id=projeto,\n",
    "          if_exists=parameretro,\n",
    "          credentials=CredImportacao,\n",
    "          table_schema=schema)"
   ]
  },
  {
   "cell_type": "code",
   "execution_count": 72,
   "metadata": {},
   "outputs": [
    {
     "data": {
      "text/plain": [
       "'\\n\\nSELECT * FROM `pythoncurso-398511.AulaPython.ProdutoHistorico`\\nwhere HoraCarga = \\n  (SELECT max(HoraCarga)FROM `pythoncurso-398511.AulaPython.ProdutoHistorico`)\\n\\n'"
      ]
     },
     "execution_count": 72,
     "metadata": {},
     "output_type": "execute_result"
    }
   ],
   "source": [
    "\"\"\"\n",
    "\n",
    "SELECT * FROM `pythoncurso-398511.AulaPython.ProdutoHistorico`\n",
    "where HoraCarga = \n",
    "  (SELECT max(HoraCarga)FROM `pythoncurso-398511.AulaPython.ProdutoHistorico`)\n",
    "\n",
    "\"\"\"\n"
   ]
  }
 ],
 "metadata": {
  "kernelspec": {
   "display_name": "Python 3",
   "language": "python",
   "name": "python3"
  },
  "language_info": {
   "codemirror_mode": {
    "name": "ipython",
    "version": 3
   },
   "file_extension": ".py",
   "mimetype": "text/x-python",
   "name": "python",
   "nbconvert_exporter": "python",
   "pygments_lexer": "ipython3",
   "version": "3.11.4"
  },
  "orig_nbformat": 4
 },
 "nbformat": 4,
 "nbformat_minor": 2
}
