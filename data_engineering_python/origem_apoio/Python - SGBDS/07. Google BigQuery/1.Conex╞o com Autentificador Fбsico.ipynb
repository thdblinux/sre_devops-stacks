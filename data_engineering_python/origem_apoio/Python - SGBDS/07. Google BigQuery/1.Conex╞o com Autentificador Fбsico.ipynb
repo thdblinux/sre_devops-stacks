{
 "cells": [
  {
   "cell_type": "code",
   "execution_count": null,
   "metadata": {},
   "outputs": [],
   "source": [
    "#pip install  google-cloud-bigquery\n",
    "#pip install --upgrade google-cloud-bigquery\n",
    "#pip install  pandas_gbq\n",
    "#pip install  pandas"
   ]
  },
  {
   "cell_type": "code",
   "execution_count": 6,
   "metadata": {},
   "outputs": [],
   "source": [
    "from google.cloud import bigquery\n",
    "import pandas as pd\n",
    "\n",
    "# Especifique o caminho para o arquivo JSON de credenciais\n",
    "credencial = r\"C:\\Users\\edmil\\Downloads\\pythoncurso-398511-260383f13f39.json\"\n",
    "\n",
    "# Crie um cliente BigQuery usando as credenciais\n",
    "client = bigquery.Client.from_service_account_json(credencial)\n",
    "\n",
    "# Construa sua consulta\n",
    "query = \"\"\" \n",
    "\n",
    "  SELECT \n",
    "  id\n",
    "  ,first_name\n",
    "  ,last_name\n",
    "  ,email  \n",
    " FROM `pythoncurso-398511.AulaPython.Clientes` \n",
    " where state in ('Piauí','Alagoas','Amazonas')\n",
    "\n",
    "\"\"\"\n",
    "# Execute a consulta\n",
    "resultado = client.query(query)\n",
    "\n",
    "\"\"\"\n",
    "for row in resultado:\n",
    "    print(row)\n",
    "\"\"\"\n",
    "\n",
    "# Converta os resultados em um DataFrame\n",
    "df = resultado.to_dataframe()\n",
    "\n"
   ]
  },
  {
   "cell_type": "code",
   "execution_count": 7,
   "metadata": {},
   "outputs": [
    {
     "data": {
      "text/html": [
       "<div>\n",
       "<style scoped>\n",
       "    .dataframe tbody tr th:only-of-type {\n",
       "        vertical-align: middle;\n",
       "    }\n",
       "\n",
       "    .dataframe tbody tr th {\n",
       "        vertical-align: top;\n",
       "    }\n",
       "\n",
       "    .dataframe thead th {\n",
       "        text-align: right;\n",
       "    }\n",
       "</style>\n",
       "<table border=\"1\" class=\"dataframe\">\n",
       "  <thead>\n",
       "    <tr style=\"text-align: right;\">\n",
       "      <th></th>\n",
       "      <th>id</th>\n",
       "      <th>first_name</th>\n",
       "      <th>last_name</th>\n",
       "      <th>email</th>\n",
       "    </tr>\n",
       "  </thead>\n",
       "  <tbody>\n",
       "    <tr>\n",
       "      <th>0</th>\n",
       "      <td>19</td>\n",
       "      <td>Caíque</td>\n",
       "      <td>Monteiro</td>\n",
       "      <td>caíque@exemplo.com</td>\n",
       "    </tr>\n",
       "    <tr>\n",
       "      <th>1</th>\n",
       "      <td>56</td>\n",
       "      <td>Cristiano</td>\n",
       "      <td>Fagundes</td>\n",
       "      <td>cristiano@usuario.com</td>\n",
       "    </tr>\n",
       "    <tr>\n",
       "      <th>2</th>\n",
       "      <td>94</td>\n",
       "      <td>Cristiano</td>\n",
       "      <td>Pereira</td>\n",
       "      <td>cristiano@meu_email.com</td>\n",
       "    </tr>\n",
       "    <tr>\n",
       "      <th>3</th>\n",
       "      <td>18</td>\n",
       "      <td>Jair</td>\n",
       "      <td>Magalhães</td>\n",
       "      <td>jair@exemplo.com</td>\n",
       "    </tr>\n",
       "    <tr>\n",
       "      <th>4</th>\n",
       "      <td>80</td>\n",
       "      <td>Daniela</td>\n",
       "      <td>Góes</td>\n",
       "      <td>daniela@usuario.com</td>\n",
       "    </tr>\n",
       "  </tbody>\n",
       "</table>\n",
       "</div>"
      ],
      "text/plain": [
       "   id first_name  last_name                    email\n",
       "0  19     Caíque   Monteiro       caíque@exemplo.com\n",
       "1  56  Cristiano   Fagundes    cristiano@usuario.com\n",
       "2  94  Cristiano    Pereira  cristiano@meu_email.com\n",
       "3  18       Jair  Magalhães         jair@exemplo.com\n",
       "4  80    Daniela       Góes      daniela@usuario.com"
      ]
     },
     "execution_count": 7,
     "metadata": {},
     "output_type": "execute_result"
    }
   ],
   "source": [
    "df.head(5)"
   ]
  }
 ],
 "metadata": {
  "kernelspec": {
   "display_name": "Python 3",
   "language": "python",
   "name": "python3"
  },
  "language_info": {
   "codemirror_mode": {
    "name": "ipython",
    "version": 3
   },
   "file_extension": ".py",
   "mimetype": "text/x-python",
   "name": "python",
   "nbconvert_exporter": "python",
   "pygments_lexer": "ipython3",
   "version": "3.11.4"
  },
  "orig_nbformat": 4
 },
 "nbformat": 4,
 "nbformat_minor": 2
}
