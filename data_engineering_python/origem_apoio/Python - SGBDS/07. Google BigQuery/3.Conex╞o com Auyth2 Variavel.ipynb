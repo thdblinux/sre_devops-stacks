{
 "cells": [
  {
   "cell_type": "code",
   "execution_count": null,
   "metadata": {},
   "outputs": [],
   "source": [
    "from google.cloud import bigquery\n",
    "import pandas as pd\n",
    "from google.oauth2 import service_account"
   ]
  },
  {
   "cell_type": "code",
   "execution_count": null,
   "metadata": {},
   "outputs": [],
   "source": [
    "# Especifique as informaçoes de credenciais\n",
    "credencial = {\n",
    "  \"type\": \"\",\n",
    "  \"project_id\": \"-\",\n",
    "  \"private_key_id\": \"\",\n",
    "  \"private_key\": \"- PRIVATE KEY-\",\n",
    "  \"client_email\": \"\",\n",
    "  \"client_id\": \"\",\n",
    "  \"auth_uri\": \"https://..com///auth\",\n",
    "  \"token_uri\": \"https://..com/token\",\n",
    "  \"auth_provider_x509_cert_url\": \"..///\",\n",
    "  \"client_x509_cert_url\": \"\",\n",
    "  \"universe_domain\": \".com\"\n",
    "}\n",
    "\n",
    "# Crie o cliente BigQuery\n",
    "client = bigquery.Client(credentials=service_account.Credentials.from_service_account_info(credencial))"
   ]
  },
  {
   "cell_type": "code",
   "execution_count": null,
   "metadata": {},
   "outputs": [],
   "source": [
    "# Construa sua consulta\n",
    "query = \"\"\" \n",
    "\n",
    "  SELECT \n",
    "  id\n",
    "  ,first_name\n",
    "  ,last_name\n",
    "  ,email  \n",
    "  ,state\n",
    " FROM `pythoncurso-398511.AulaPython.Clientes` \n",
    " where state in ('Piauí','Alagoas',\n",
    " 'Amazonas','Maranhão','Rondônia')\n",
    "\"\"\"\n",
    "# Execute a consulta\n",
    "resultado = client.query(query)\n",
    "\n",
    "# Converta os resultados em um DataFrame\n",
    "df = resultado.to_dataframe()\n",
    "df.head(30)\n"
   ]
  }
 ],
 "metadata": {
  "kernelspec": {
   "display_name": "Python 3",
   "language": "python",
   "name": "python3"
  },
  "language_info": {
   "codemirror_mode": {
    "name": "ipython",
    "version": 3
   },
   "file_extension": ".py",
   "mimetype": "text/x-python",
   "name": "python",
   "nbconvert_exporter": "python",
   "pygments_lexer": "ipython3",
   "version": "3.11.4"
  },
  "orig_nbformat": 4
 },
 "nbformat": 4,
 "nbformat_minor": 2
}
