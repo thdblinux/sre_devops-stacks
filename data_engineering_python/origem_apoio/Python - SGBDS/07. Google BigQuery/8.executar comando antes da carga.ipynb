{
 "cells": [
  {
   "cell_type": "code",
   "execution_count": null,
   "metadata": {},
   "outputs": [],
   "source": [
    "import pandas as pd\n",
    "from google.cloud import bigquery\n",
    "from google.oauth2 import service_account\n",
    "from pandas_gbq import to_gbq\n",
    "from datetime import datetime"
   ]
  },
  {
   "cell_type": "code",
   "execution_count": null,
   "metadata": {},
   "outputs": [],
   "source": [
    "df = pd.read_excel(r\"C:\\Users\\edmil\\OneDrive\\Documentos\\Material Python-Google BigQuery\\Arquivos\\Origem\\arquivos_excel\\Ordens.xlsx\")\n",
    "df.head()"
   ]
  },
  {
   "cell_type": "code",
   "execution_count": null,
   "metadata": {},
   "outputs": [],
   "source": [
    "tipos_de_dados = df.dtypes\n",
    "print(tipos_de_dados)\n"
   ]
  },
  {
   "cell_type": "code",
   "execution_count": null,
   "metadata": {},
   "outputs": [],
   "source": [
    "# filto no meu dataflame antes de realizar a carga (apenas o mês e ano atuais)\n",
    "\"\"\"\n",
    "hoje = datetime.now()\n",
    "mes_atual = hoje.month\n",
    "ano_atual = hoje.year\n",
    "\n",
    "df_filtrado = df[(df['created_at'].dt.month == mes_atual) & (df['created_at'].dt.year == ano_atual)]\n",
    "\n",
    "\n",
    "\"\"\""
   ]
  },
  {
   "cell_type": "code",
   "execution_count": null,
   "metadata": {},
   "outputs": [],
   "source": [
    "#hoje = datetime.now().year\n",
    "#print(hoje)"
   ]
  },
  {
   "cell_type": "code",
   "execution_count": null,
   "metadata": {},
   "outputs": [],
   "source": [
    "#df_filtrado.head(5)\n"
   ]
  },
  {
   "cell_type": "code",
   "execution_count": null,
   "metadata": {},
   "outputs": [],
   "source": [
    "hoje = datetime.now()\n",
    "mes_atual = hoje.month\n",
    "ano_atual = hoje.year\n",
    "\n",
    "df = df[(df['created_at'].dt.month == mes_atual) & (df['created_at'].dt.year == ano_atual)]"
   ]
  },
  {
   "cell_type": "code",
   "execution_count": null,
   "metadata": {},
   "outputs": [],
   "source": [
    "df.head()"
   ]
  },
  {
   "cell_type": "code",
   "execution_count": null,
   "metadata": {},
   "outputs": [],
   "source": [
    "\n",
    "\n",
    "# Especifique o caminho para o arquivo JSON de credenciais\n",
    "credencial = r\"C:\\Users\\edmil\\Downloads\\pythoncurso-398511-260383f13f39.json\"\n",
    "\n",
    "# Crie um cliente BigQuery usando as credenciais\n",
    "clientacao = bigquery.Client.from_service_account_json(credencial)"
   ]
  },
  {
   "cell_type": "code",
   "execution_count": null,
   "metadata": {},
   "outputs": [],
   "source": [
    "comandoapagar = \"\"\" \n",
    "\n",
    " delete\n",
    " FROM `pythoncurso-398511.AulaPython.Ordens`\n",
    " where FORMAT_TIMESTAMP('%Y', created_at)  = FORMAT_TIMESTAMP('%Y', CURRENT_DATE())\n",
    " and  FORMAT_TIMESTAMP('%m', created_at)  = FORMAT_TIMESTAMP('%m', CURRENT_DATE())\n",
    "\n",
    "\n",
    "\"\"\"\n",
    "# Execute a consulta\n",
    "apagardados = clientacao.query(comandoapagar)"
   ]
  },
  {
   "cell_type": "markdown",
   "metadata": {},
   "source": [
    "https://cloud.google.com/bigquery/docs/reference/standard-sql/format-elements"
   ]
  },
  {
   "cell_type": "code",
   "execution_count": null,
   "metadata": {},
   "outputs": [],
   "source": [
    "\n",
    "# credenciais para validar importar dados para o google bigquery\n",
    "CredImportacao = service_account.Credentials.from_service_account_file(\n",
    "    credencial,\n",
    "    scopes=['https://www.googleapis.com/auth/bigquery']\n",
    ")\n",
    "\n",
    "#variaveis do projeto \n",
    "projeto = 'pythoncurso-398511'\n",
    "dataset = 'AulaPython'\n",
    "tabela = 'Ordens'\n",
    "parameretro ='append'      \n",
    "#replace = subistuir a antiga pela original \n",
    "#append = adiciona dados no fim da tabela "
   ]
  },
  {
   "cell_type": "code",
   "execution_count": null,
   "metadata": {},
   "outputs": [],
   "source": [
    "df.to_gbq(destination_table=f'{projeto}.{dataset}.{tabela}',   \n",
    "          project_id=projeto,\n",
    "          if_exists=parameretro,\n",
    "          credentials=CredImportacao)"
   ]
  },
  {
   "cell_type": "code",
   "execution_count": null,
   "metadata": {},
   "outputs": [],
   "source": [
    "\"\"\"  \n",
    "\n",
    "SELECT *\n",
    ",extract(YEAR  FROM created_at) as ano\n",
    ",extract(month  FROM created_at) as mes\n",
    ",FORMAT_TIMESTAMP('%Y', created_at) AS anoFormat\n",
    ",FORMAT_TIMESTAMP('%m', created_at) AS mesformat\n",
    ",CURRENT_DATE() hoje\n",
    " FROM `pythoncurso-398511.AulaPython.Ordens` \n",
    "\n",
    "\n",
    "\"\"\""
   ]
  },
  {
   "cell_type": "code",
   "execution_count": null,
   "metadata": {},
   "outputs": [],
   "source": [
    "#Delete\n",
    "\"\"\"\n",
    "\n",
    "delete FROM `pythoncurso-398511.AulaPython.Ordens` \n",
    " where FORMAT_TIMESTAMP('%Y', created_at) = FORMAT_TIMESTAMP('%Y', CURRENT_DATE())\n",
    " and  FORMAT_TIMESTAMP('%m', created_at) = FORMAT_TIMESTAMP('%m', CURRENT_DATE())\n",
    "\"\"\""
   ]
  },
  {
   "cell_type": "code",
   "execution_count": null,
   "metadata": {},
   "outputs": [],
   "source": []
  }
 ],
 "metadata": {
  "kernelspec": {
   "display_name": "Python 3",
   "language": "python",
   "name": "python3"
  },
  "language_info": {
   "codemirror_mode": {
    "name": "ipython",
    "version": 3
   },
   "file_extension": ".py",
   "mimetype": "text/x-python",
   "name": "python",
   "nbconvert_exporter": "python",
   "pygments_lexer": "ipython3",
   "version": "3.11.4"
  },
  "orig_nbformat": 4
 },
 "nbformat": 4,
 "nbformat_minor": 2
}
