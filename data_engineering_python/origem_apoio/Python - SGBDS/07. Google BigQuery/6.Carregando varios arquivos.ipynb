{
 "cells": [
  {
   "cell_type": "code",
   "execution_count": null,
   "metadata": {},
   "outputs": [],
   "source": [
    "import pandas as pd\n",
    "from google.cloud import bigquery\n",
    "from google.oauth2 import service_account\n",
    "from pandas_gbq import to_gbq"
   ]
  },
  {
   "cell_type": "code",
   "execution_count": null,
   "metadata": {},
   "outputs": [],
   "source": [
    "Produto     = pd.read_excel(r\"C:\\Users\\edmil\\OneDrive\\Área de Trabalho\\Material Python-Google BigQuery\\Arquivos\\Origem\\arquivos_excel\\Produto.xlsx\")\n",
    "items       = pd.read_excel(r\"C:\\Users\\edmil\\OneDrive\\Área de Trabalho\\Material Python-Google BigQuery\\Arquivos\\Origem\\arquivos_excel\\items.xlsx\")\n",
    "ordens      = pd.read_excel(r\"C:\\Users\\edmil\\OneDrive\\Área de Trabalho\\Material Python-Google BigQuery\\Arquivos\\Origem\\arquivos_excel\\Ordens.xlsx\")\n",
    "Categoria   = pd.read_excel(r\"C:\\Users\\edmil\\OneDrive\\Área de Trabalho\\Material Python-Google BigQuery\\Arquivos\\Origem\\arquivos_excel\\Categoria.xlsx\")\n",
    "clientes    = pd.read_csv  (r\"C:\\Users\\edmil\\OneDrive\\Área de Trabalho\\Material Python-Google BigQuery\\Arquivos\\Origem\\arquivos_csv\\Clientes.csv\",delimiter=\",\")"
   ]
  },
  {
   "cell_type": "code",
   "execution_count": null,
   "metadata": {},
   "outputs": [],
   "source": [
    "#Categoria.head()"
   ]
  },
  {
   "cell_type": "code",
   "execution_count": null,
   "metadata": {},
   "outputs": [],
   "source": [
    "projeto     ='pythoncurso-398511'\n",
    "dataset     ='Ecommerce'\n",
    "BQproduto   ='Produto'\n",
    "BQitems     ='Items'\n",
    "BQordens    ='Ordens'\n",
    "BQCategoria ='Categoria'\n",
    "BQclientes  ='clientes'\n",
    "parameretro ='replace'    "
   ]
  },
  {
   "cell_type": "code",
   "execution_count": null,
   "metadata": {},
   "outputs": [],
   "source": [
    "credencial = service_account.Credentials.from_service_account_file(\n",
    "    r'C:\\Users\\edmil\\Downloads\\pythoncurso-398511-260383f13f39.json',\n",
    "    scopes=['https://www.googleapis.com/auth/bigquery']\n",
    ")"
   ]
  },
  {
   "cell_type": "code",
   "execution_count": null,
   "metadata": {},
   "outputs": [],
   "source": [
    "Produto.to_gbq(destination_table=f'{projeto}.{dataset}.{BQproduto}',   \n",
    "          project_id=projeto,\n",
    "          if_exists=parameretro,\n",
    "          credentials=credencial)"
   ]
  },
  {
   "cell_type": "code",
   "execution_count": null,
   "metadata": {},
   "outputs": [],
   "source": [
    "items.to_gbq(destination_table=f'{projeto}.{dataset}.{BQitems}',   \n",
    "          project_id=projeto,\n",
    "          if_exists=parameretro,\n",
    "          credentials=credencial)"
   ]
  },
  {
   "cell_type": "code",
   "execution_count": null,
   "metadata": {},
   "outputs": [],
   "source": [
    "ordens.to_gbq(destination_table=f'{projeto}.{dataset}.{BQordens}',   \n",
    "          project_id=projeto,\n",
    "          if_exists=parameretro,\n",
    "          credentials=credencial)"
   ]
  },
  {
   "cell_type": "code",
   "execution_count": null,
   "metadata": {},
   "outputs": [],
   "source": [
    "Categoria.to_gbq(destination_table=f'{projeto}.{dataset}.{BQCategoria}',   \n",
    "          project_id=projeto,\n",
    "          if_exists=parameretro,\n",
    "          credentials=credencial)"
   ]
  },
  {
   "cell_type": "code",
   "execution_count": null,
   "metadata": {},
   "outputs": [],
   "source": [
    "# Realiza a carga de tabela de clientes \n",
    "clientes.to_gbq(destination_table=f'{projeto}.{dataset}.{BQclientes}',   \n",
    "          project_id=projeto,\n",
    "          if_exists=parameretro,\n",
    "          credentials=credencial)"
   ]
  }
 ],
 "metadata": {
  "kernelspec": {
   "display_name": "Python 3",
   "language": "python",
   "name": "python3"
  },
  "language_info": {
   "codemirror_mode": {
    "name": "ipython",
    "version": 3
   },
   "file_extension": ".py",
   "mimetype": "text/x-python",
   "name": "python",
   "nbconvert_exporter": "python",
   "pygments_lexer": "ipython3",
   "version": "3.11.4"
  },
  "orig_nbformat": 4
 },
 "nbformat": 4,
 "nbformat_minor": 2
}
