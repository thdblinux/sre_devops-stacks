{
 "cells": [
  {
   "cell_type": "code",
   "execution_count": 7,
   "metadata": {},
   "outputs": [
    {
     "data": {
      "text/html": [
       "<div>\n",
       "<style scoped>\n",
       "    .dataframe tbody tr th:only-of-type {\n",
       "        vertical-align: middle;\n",
       "    }\n",
       "\n",
       "    .dataframe tbody tr th {\n",
       "        vertical-align: top;\n",
       "    }\n",
       "\n",
       "    .dataframe thead th {\n",
       "        text-align: right;\n",
       "    }\n",
       "</style>\n",
       "<table border=\"1\" class=\"dataframe\">\n",
       "  <thead>\n",
       "    <tr style=\"text-align: right;\">\n",
       "      <th></th>\n",
       "      <th>ProductKey</th>\n",
       "      <th>ProductAlternateKey</th>\n",
       "      <th>FrenchProductName</th>\n",
       "      <th>EnglishProductName</th>\n",
       "      <th>Color</th>\n",
       "      <th>StandardCost</th>\n",
       "    </tr>\n",
       "  </thead>\n",
       "  <tbody>\n",
       "    <tr>\n",
       "      <th>0</th>\n",
       "      <td>212</td>\n",
       "      <td>HL-U509-R</td>\n",
       "      <td>Casque sport 100, rouge</td>\n",
       "      <td>Sport-100 Helmet, Red</td>\n",
       "      <td>Red</td>\n",
       "      <td>12.0278</td>\n",
       "    </tr>\n",
       "    <tr>\n",
       "      <th>1</th>\n",
       "      <td>213</td>\n",
       "      <td>HL-U509-R</td>\n",
       "      <td>Casque sport 100, rouge</td>\n",
       "      <td>Sport-100 Helmet, Red</td>\n",
       "      <td>Red</td>\n",
       "      <td>13.8782</td>\n",
       "    </tr>\n",
       "    <tr>\n",
       "      <th>2</th>\n",
       "      <td>214</td>\n",
       "      <td>HL-U509-R</td>\n",
       "      <td>Casque sport 100, rouge</td>\n",
       "      <td>Sport-100 Helmet, Red</td>\n",
       "      <td>Red</td>\n",
       "      <td>13.0863</td>\n",
       "    </tr>\n",
       "    <tr>\n",
       "      <th>3</th>\n",
       "      <td>215</td>\n",
       "      <td>HL-U509</td>\n",
       "      <td>Casque sport 100, noir</td>\n",
       "      <td>Sport-100 Helmet, Black</td>\n",
       "      <td>Black</td>\n",
       "      <td>12.0278</td>\n",
       "    </tr>\n",
       "    <tr>\n",
       "      <th>4</th>\n",
       "      <td>216</td>\n",
       "      <td>HL-U509</td>\n",
       "      <td>Casque sport 100, noir</td>\n",
       "      <td>Sport-100 Helmet, Black</td>\n",
       "      <td>Black</td>\n",
       "      <td>13.8782</td>\n",
       "    </tr>\n",
       "  </tbody>\n",
       "</table>\n",
       "</div>"
      ],
      "text/plain": [
       "   ProductKey ProductAlternateKey        FrenchProductName  \\\n",
       "0         212           HL-U509-R  Casque sport 100, rouge   \n",
       "1         213           HL-U509-R  Casque sport 100, rouge   \n",
       "2         214           HL-U509-R  Casque sport 100, rouge   \n",
       "3         215             HL-U509   Casque sport 100, noir   \n",
       "4         216             HL-U509   Casque sport 100, noir   \n",
       "\n",
       "        EnglishProductName  Color  StandardCost  \n",
       "0    Sport-100 Helmet, Red    Red       12.0278  \n",
       "1    Sport-100 Helmet, Red    Red       13.8782  \n",
       "2    Sport-100 Helmet, Red    Red       13.0863  \n",
       "3  Sport-100 Helmet, Black  Black       12.0278  \n",
       "4  Sport-100 Helmet, Black  Black       13.8782  "
      ]
     },
     "execution_count": 7,
     "metadata": {},
     "output_type": "execute_result"
    }
   ],
   "source": [
    "import pandas as pd\n",
    "from sqlalchemy import create_engine,VARCHAR,NUMERIC,INTEGER,DATE,DATETIME,String,text\n",
    "\n",
    "#Origem\n",
    "conexaoDB = ('DRIVER={ODBC Driver 17 for SQL Server};''SERVER=EDMILSON\\MSSQLSERVER01;''DATABASE=AdventureWorksDW2019;''Trusted_Connection=yes;')\n",
    "engine = create_engine(f'mssql+pyodbc:///?odbc_connect={conexaoDB}')\n",
    "\n",
    "query = '''\n",
    "SELECT \n",
    "ProductKey\n",
    ",ProductAlternateKey\n",
    ",FrenchProductName\n",
    ",EnglishProductName\n",
    ",Color \n",
    ",StandardCost\n",
    "  FROM [AdventureWorksDW2019].[dbo].[DimProduct]\n",
    "  where StandardCost is not null\n",
    "\n",
    "'''\n",
    "\n",
    "df = pd.read_sql_query(query, engine)\n",
    "\n",
    "# Exiba  DataFrame\n",
    "engine.dispose()\n",
    "df.head()\n"
   ]
  },
  {
   "cell_type": "markdown",
   "metadata": {},
   "source": [
    "Envio de dados para SQL Server "
   ]
  },
  {
   "cell_type": "code",
   "execution_count": 8,
   "metadata": {},
   "outputs": [
    {
     "data": {
      "text/plain": [
       "' parametros para to_sql (enviar dados pra banco)\\nname = tabela destino\\ncon = conexão\\nif_exists = se existir a tabela o que faço?  replace ou append\\nindex= index do python df \\ntext = transformar strig de conexão em texto para sqlalchemy  reconhecer \\ndtype = tipos das colunas de destino\\n\\n'"
      ]
     },
     "execution_count": 8,
     "metadata": {},
     "output_type": "execute_result"
    }
   ],
   "source": [
    "#Conexão envio\n",
    "''' parametros para to_sql (enviar dados pra banco)\n",
    "name = tabela destino\n",
    "con = conexão\n",
    "if_exists = se existir a tabela o que faço?  replace ou append\n",
    "index= index do python df \n",
    "text = transformar strig de conexão em texto para sqlalchemy  reconhecer \n",
    "dtype = tipos das colunas de destino\n",
    "\n",
    "'''"
   ]
  },
  {
   "cell_type": "code",
   "execution_count": 9,
   "metadata": {},
   "outputs": [],
   "source": [
    "#conexao Destino - inferindo os tipos  dados \n",
    "conexao_destino = ('DRIVER={ODBC Driver 17 for SQL Server};''SERVER=EDMILSON\\MSSQLSERVER01;''DATABASE=Python;''Trusted_Connection=yes;')\n",
    "engine_destino = create_engine(f'mssql+pyodbc:///?odbc_connect={conexao_destino}')\n",
    "\n",
    "tabela_destino= 'produto_etl'\n",
    "\n",
    "tipo_colnas = {\n",
    "    \n",
    "    'ProductAlternateKey':VARCHAR(10),\n",
    "    'Color':VARCHAR(15),\n",
    "    'FrenchProductName':VARCHAR(50)\n",
    "    }\n",
    "\n",
    "df.to_sql(name= tabela_destino,con=engine_destino,if_exists='replace' ,index=False , dtype=tipo_colnas)\n",
    "\n",
    "engine_destino.dispose()\n"
   ]
  },
  {
   "cell_type": "code",
   "execution_count": 10,
   "metadata": {},
   "outputs": [],
   "source": [
    "#conexao Destino\n",
    "conexao_destino = ('DRIVER={ODBC Driver 17 for SQL Server};''SERVER=EDMILSON\\MSSQLSERVER01;''DATABASE=Python;''Trusted_Connection=yes;')\n",
    "engine_destino = create_engine(f'mssql+pyodbc:///?odbc_connect={conexao_destino}')\n",
    "\n",
    "tabela_destino= 'produto_etl'\n",
    "\n",
    "df.to_sql(name= tabela_destino,con=engine_destino,if_exists='replace' ,index=False )\n",
    "\n",
    "engine_destino.dispose()\n",
    "\n"
   ]
  },
  {
   "cell_type": "markdown",
   "metadata": {},
   "source": [
    "Tipos de dados sqlalchemy\n",
    "\n",
    "https://docs.sqlalchemy.org/en/20/core/type_basics.html#generic-camelcase-types"
   ]
  },
  {
   "cell_type": "markdown",
   "metadata": {},
   "source": [
    "https://learn.microsoft.com/pt-br/sql/t-sql/data-types/char-and-varchar-transact-sql?view=sql-server-ver16"
   ]
  }
 ],
 "metadata": {
  "kernelspec": {
   "display_name": "sgbds",
   "language": "python",
   "name": "python3"
  },
  "language_info": {
   "codemirror_mode": {
    "name": "ipython",
    "version": 3
   },
   "file_extension": ".py",
   "mimetype": "text/x-python",
   "name": "python",
   "nbconvert_exporter": "python",
   "pygments_lexer": "ipython3",
   "version": "3.11.4"
  }
 },
 "nbformat": 4,
 "nbformat_minor": 2
}
