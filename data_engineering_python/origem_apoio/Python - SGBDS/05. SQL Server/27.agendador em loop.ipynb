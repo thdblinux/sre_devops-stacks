{
 "cells": [
  {
   "cell_type": "markdown",
   "metadata": {},
   "source": [
    "https://schedule.readthedocs.io/en/stable/"
   ]
  },
  {
   "cell_type": "code",
   "execution_count": null,
   "metadata": {},
   "outputs": [],
   "source": [
    "# pip install schedule\n",
    "# pip install -- upgrade schedule"
   ]
  },
  {
   "cell_type": "code",
   "execution_count": null,
   "metadata": {},
   "outputs": [],
   "source": [
    "import schedule  # Importa agendamento de tarefas\n",
    "import time  # Importa a biblioteca 'time' para pausas de tempo\n",
    "\n",
    "\n",
    "def job():                      # def = uma função depois de o nome dessa função\n",
    "    print(\"estou funcionando\")  # Imprime uma mensagem indicando (Trocar pelo seu script)\n",
    "    \n",
    "# Agendando tarefas com diferentes intervalos e horários\n",
    "schedule.every(10).minutes.do(job)                              # Executa a cada 10 minutos\n",
    "schedule.every().hour.do(job)                                   # Executa a cada hora\n",
    "schedule.every().day.at(\"10:30\").do(job)                        # Executa diariamente às 10:30\n",
    "schedule.every().monday.do(job)                                 # Executa toda segunda-feira\n",
    "schedule.every().wednesday.at(\"13:15\").do(job)                  # Executa toda quarta-feira às 13:15\n",
    "schedule.every().day.at(\"12:42\", \"Europe/Amsterdam\").do(job)    # Executa diariamente às 12:42 (usando fuso horário Europe/Amsterdam)\n",
    "schedule.every().day.at(\"12:42\").do(job)                        # Executa diariamente às 12:42 (usando fuso horário Seu PC)\n",
    "schedule.every().minute.at(\":17\").do(job)                       # Executa' a cada minuto quando o segundo é 17\n",
    "\n",
    "# Executar as tarefas agendadas em um loop contínuo\n",
    "\n",
    "while True: # loop contínuo\n",
    "    schedule.run_pending()  # Executa tarefas agendadas que estão prontas para serem executadas\n",
    "    time.sleep(1)  # Pausa por 1 segundo antes de verificar novamente as tarefas agendadas(em segundos )\n"
   ]
  },
  {
   "cell_type": "code",
   "execution_count": null,
   "metadata": {},
   "outputs": [],
   "source": [
    "schedule.clear()  # limpar todas as jobs\n",
    "## intenroperno CMD ou Terminal \n",
    "# Ctrl + \\\n",
    "# Ctrl + C"
   ]
  },
  {
   "cell_type": "markdown",
   "metadata": {},
   "source": [
    "Exemplo pratico"
   ]
  },
  {
   "cell_type": "code",
   "execution_count": null,
   "metadata": {},
   "outputs": [],
   "source": [
    "import schedule  \n",
    "import time  \n",
    "\n",
    "\n",
    "def job():                      # def = uma função depois de o nome dessa função\n",
    "    \n",
    "    print(\"Estou funcionando teste Final\")  # Colar meu script dando a identação (Tab)\n",
    "    \n",
    "    \n",
    "schedule.every(1).seconds.do(job) \n",
    "while True: # loop contínuo\n",
    "    schedule.run_pending()  # Executa tarefas agendadas que estão prontas para serem executadas\n",
    "    time.sleep(1)  # Pausa por 1 segundo antes de verificar novamente as tarefas agendadas     \n",
    "    "
   ]
  },
  {
   "cell_type": "code",
   "execution_count": null,
   "metadata": {},
   "outputs": [],
   "source": [
    "schedule.clear()  # limpar todas as jobs"
   ]
  },
  {
   "cell_type": "code",
   "execution_count": null,
   "metadata": {},
   "outputs": [],
   "source": [
    "import schedule  \n",
    "import time  \n",
    "import pandas as pd\n",
    "import pyodbc \n",
    "\n",
    "\n",
    "\n",
    "def job():  \n",
    "    server = 'EDMILSON\\MSSQL' \n",
    "    database = 'Python' \n",
    "    conexaoDB = pyodbc.connect('DRIVER={ODBC Driver 17 for SQL Server};'\n",
    "                        f'SERVER={server};'\n",
    "                        f'DATABASE={database};'\n",
    "                        'Trusted_Connection=yes;')\n",
    "\n",
    "    cursor = conexaoDB.cursor()   # criando cursor de comando \n",
    "\n",
    "    dados = pd.read_excel(r\"K:\\Python\\Arquivos\\Origem\\arquivos_excel\\Categoria.xlsx\")\n",
    "    str(dados.columns).replace(\"'\",\"\") \n",
    "\n",
    "    # faz carga no banco de dados\n",
    "    for index, linha in dados.iterrows():\n",
    "        \n",
    "        cursor.execute(\"Insert into [Categoria](ID,Categoria)values(?,?)\",linha.id,linha.Nome) \n",
    "        \n",
    "    cursor.commit()   \n",
    "    cursor.close() \n",
    "    conexaoDB.close() \n",
    "    \n",
    "schedule.every(10).seconds.do(job) # escolher a frequencia \n",
    "while True: # loop contínuo\n",
    "    schedule.run_pending()  # Executa tarefas agendadas que estão prontas para serem executadas\n",
    "    time.sleep(1)  # Pausa por 1 segundo antes de verificar novamente as tarefas agendadas   \n",
    "    "
   ]
  },
  {
   "cell_type": "markdown",
   "metadata": {},
   "source": [
    "Script em um bloco"
   ]
  },
  {
   "cell_type": "code",
   "execution_count": null,
   "metadata": {},
   "outputs": [],
   "source": [
    "\n",
    "import pandas as pd\n",
    "import pyodbc \n",
    "\n",
    "server = 'EDMILSON\\MSSQL' \n",
    "database = 'Python' \n",
    "conexaoDB = pyodbc.connect('DRIVER={ODBC Driver 17 for SQL Server};'\n",
    "                      f'SERVER={server};'\n",
    "                      f'DATABASE={database};'\n",
    "                      'Trusted_Connection=yes;')\n",
    "\n",
    "cursor = conexaoDB.cursor()   # criando cursor de comando \n",
    "\n",
    "dados = pd.read_excel(r\"K:\\Python\\Arquivos\\Origem\\arquivos_excel\\Categoria.xlsx\")\n",
    "str(dados.columns).replace(\"'\",\"\") \n",
    "\n",
    "#limpa banco de dados antes da carga \n",
    "cursor.execute('truncate table [Categoria]')  \n",
    "cursor.commit()\n",
    "\n",
    "# faz carga no banco de dados\n",
    "for index, linha in dados.iterrows():\n",
    "    \n",
    "    cursor.execute(\"Insert into [Categoria](ID,Categoria)values(?,?)\",linha.id,linha.Nome) \n",
    "     \n",
    "cursor.commit()   \n",
    "cursor.close() \n",
    "conexaoDB.close() "
   ]
  }
 ],
 "metadata": {
  "kernelspec": {
   "display_name": "Python 3",
   "language": "python",
   "name": "python3"
  },
  "language_info": {
   "codemirror_mode": {
    "name": "ipython",
    "version": 3
   },
   "file_extension": ".py",
   "mimetype": "text/x-python",
   "name": "python",
   "nbconvert_exporter": "python",
   "pygments_lexer": "ipython3",
   "version": "3.11.4"
  },
  "vscode": {
   "interpreter": {
    "hash": "c347c8f9a7ef94e4c9e03b4513be7835ed18f45b99a2a817fb579f408b867b16"
   }
  }
 },
 "nbformat": 4,
 "nbformat_minor": 4
}
