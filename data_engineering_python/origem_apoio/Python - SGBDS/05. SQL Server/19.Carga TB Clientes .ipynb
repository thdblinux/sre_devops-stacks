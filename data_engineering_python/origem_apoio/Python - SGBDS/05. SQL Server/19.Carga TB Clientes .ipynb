{
 "cells": [
  {
   "cell_type": "code",
   "execution_count": 1,
   "metadata": {},
   "outputs": [
    {
     "data": {
      "text/plain": [
       "'\\ncreate table Clientes(\\nid\\t\\t\\tint,\\ncreated_at datetime,\\nfirst_name nvarchar(255),\\nlast_name  nvarchar(255),\\nemail nvarchar(255),\\ncell_phone nvarchar(255),\\ncountry nvarchar(255),\\nstate nvarchar(255),\\nstreet nvarchar(255),\\nnumber  nvarchar(255),\\nadditionals  nvarchar(255)\\n)\\n\\n'"
      ]
     },
     "execution_count": 1,
     "metadata": {},
     "output_type": "execute_result"
    }
   ],
   "source": [
    "\"\"\"\n",
    "create table Clientes(\n",
    "id\t\t\tint,\n",
    "created_at datetime,\n",
    "first_name nvarchar(255),\n",
    "last_name  nvarchar(255),\n",
    "email nvarchar(255),\n",
    "cell_phone nvarchar(255),\n",
    "country nvarchar(255),\n",
    "state nvarchar(255),\n",
    "street nvarchar(255),\n",
    "number  nvarchar(255),\n",
    "additionals  nvarchar(255)\n",
    ")\n",
    "\n",
    "\"\"\""
   ]
  },
  {
   "cell_type": "code",
   "execution_count": 2,
   "metadata": {},
   "outputs": [],
   "source": [
    "\n",
    "import pandas as pd\n",
    "import pyodbc \n",
    "\n",
    "server = 'EDMILSON\\MSSQL' # Substitua pelo nome do servidor SQL Server\n",
    "database = 'Python'  # Substitua pelo nome do banco de dados\n",
    "conexaoDB = pyodbc.connect('DRIVER={ODBC Driver 17 for SQL Server};'\n",
    "                      f'SERVER={server};'\n",
    "                      f'DATABASE={database};'\n",
    "                      'Trusted_Connection=yes;'\n",
    "                      #'charset=UTF-16'\n",
    "                      \n",
    "                      )\n",
    "\n",
    "cursor = conexaoDB.cursor()   # criando cursor de comando "
   ]
  },
  {
   "cell_type": "code",
   "execution_count": 3,
   "metadata": {},
   "outputs": [
    {
     "data": {
      "text/html": [
       "<div>\n",
       "<style scoped>\n",
       "    .dataframe tbody tr th:only-of-type {\n",
       "        vertical-align: middle;\n",
       "    }\n",
       "\n",
       "    .dataframe tbody tr th {\n",
       "        vertical-align: top;\n",
       "    }\n",
       "\n",
       "    .dataframe thead th {\n",
       "        text-align: right;\n",
       "    }\n",
       "</style>\n",
       "<table border=\"1\" class=\"dataframe\">\n",
       "  <thead>\n",
       "    <tr style=\"text-align: right;\">\n",
       "      <th></th>\n",
       "      <th>id</th>\n",
       "      <th>created_at</th>\n",
       "      <th>first_name</th>\n",
       "      <th>last_name</th>\n",
       "      <th>email</th>\n",
       "      <th>cell_phone</th>\n",
       "      <th>country</th>\n",
       "      <th>state</th>\n",
       "      <th>street</th>\n",
       "      <th>number</th>\n",
       "      <th>additionals</th>\n",
       "    </tr>\n",
       "  </thead>\n",
       "  <tbody>\n",
       "    <tr>\n",
       "      <th>0</th>\n",
       "      <td>0</td>\n",
       "      <td>2017-11-01 14:45:41</td>\n",
       "      <td>Marta</td>\n",
       "      <td>Jesus</td>\n",
       "      <td>NaN</td>\n",
       "      <td>9 9102-7834</td>\n",
       "      <td>Brasil</td>\n",
       "      <td>Acre</td>\n",
       "      <td>NaN</td>\n",
       "      <td>NaN</td>\n",
       "      <td>Conjunto 16</td>\n",
       "    </tr>\n",
       "    <tr>\n",
       "      <th>1</th>\n",
       "      <td>1</td>\n",
       "      <td>2017-10-16 00:50:39</td>\n",
       "      <td>Luana</td>\n",
       "      <td>Almeida</td>\n",
       "      <td>NaN</td>\n",
       "      <td>9 7328-8718</td>\n",
       "      <td>Brasil</td>\n",
       "      <td>Rio Grande do Sul</td>\n",
       "      <td>Avenida 56 do Estado Rio Grande do Sul</td>\n",
       "      <td>989.0</td>\n",
       "      <td>Conjunto 17</td>\n",
       "    </tr>\n",
       "    <tr>\n",
       "      <th>2</th>\n",
       "      <td>2</td>\n",
       "      <td>2018-06-16 17:51:29</td>\n",
       "      <td>Frida</td>\n",
       "      <td>Mendes</td>\n",
       "      <td>frida@meu_email.com</td>\n",
       "      <td>9 5906-7552</td>\n",
       "      <td>Brasil</td>\n",
       "      <td>São Paulo</td>\n",
       "      <td>Avenida 59 do Estado São Paulo</td>\n",
       "      <td>534.0</td>\n",
       "      <td>NaN</td>\n",
       "    </tr>\n",
       "    <tr>\n",
       "      <th>3</th>\n",
       "      <td>3</td>\n",
       "      <td>2018-01-17 03:02:58</td>\n",
       "      <td>Daniela</td>\n",
       "      <td>Avelino</td>\n",
       "      <td>daniela@exemplo.com</td>\n",
       "      <td>9 4642-9486</td>\n",
       "      <td>Brasil</td>\n",
       "      <td>Mato Grosso</td>\n",
       "      <td>NaN</td>\n",
       "      <td>NaN</td>\n",
       "      <td>NaN</td>\n",
       "    </tr>\n",
       "    <tr>\n",
       "      <th>4</th>\n",
       "      <td>4</td>\n",
       "      <td>2018-08-06 07:24:16</td>\n",
       "      <td>Romário</td>\n",
       "      <td>Teixeira</td>\n",
       "      <td>NaN</td>\n",
       "      <td>9 3093-6522</td>\n",
       "      <td>Brasil</td>\n",
       "      <td>Bahia</td>\n",
       "      <td>Praça 56 do Estado Bahia</td>\n",
       "      <td>191.0</td>\n",
       "      <td>Apto 12</td>\n",
       "    </tr>\n",
       "  </tbody>\n",
       "</table>\n",
       "</div>"
      ],
      "text/plain": [
       "   id           created_at first_name last_name                email  \\\n",
       "0   0  2017-11-01 14:45:41      Marta     Jesus                  NaN   \n",
       "1   1  2017-10-16 00:50:39      Luana   Almeida                  NaN   \n",
       "2   2  2018-06-16 17:51:29      Frida    Mendes  frida@meu_email.com   \n",
       "3   3  2018-01-17 03:02:58    Daniela   Avelino  daniela@exemplo.com   \n",
       "4   4  2018-08-06 07:24:16    Romário  Teixeira                  NaN   \n",
       "\n",
       "    cell_phone country              state  \\\n",
       "0  9 9102-7834  Brasil               Acre   \n",
       "1  9 7328-8718  Brasil  Rio Grande do Sul   \n",
       "2  9 5906-7552  Brasil          São Paulo   \n",
       "3  9 4642-9486  Brasil        Mato Grosso   \n",
       "4  9 3093-6522  Brasil              Bahia   \n",
       "\n",
       "                                   street  number  additionals  \n",
       "0                                     NaN     NaN  Conjunto 16  \n",
       "1  Avenida 56 do Estado Rio Grande do Sul   989.0  Conjunto 17  \n",
       "2          Avenida 59 do Estado São Paulo   534.0          NaN  \n",
       "3                                     NaN     NaN          NaN  \n",
       "4                Praça 56 do Estado Bahia   191.0      Apto 12  "
      ]
     },
     "execution_count": 3,
     "metadata": {},
     "output_type": "execute_result"
    }
   ],
   "source": [
    "dados = pd.read_csv(r\"K:\\Python\\Arquivos\\Origem\\arquivos_csv\\Clientes.csv\",delimiter=',')\n",
    "#str(dados.columns).replace(\"'\",\"\") \n",
    "dados.head(5)\n"
   ]
  },
  {
   "cell_type": "code",
   "execution_count": 4,
   "metadata": {},
   "outputs": [],
   "source": [
    "# Converter a coluna 'created_at' para o formato de data e hora\n",
    "dados['created_at'] = pd.to_datetime(dados['created_at'])\n",
    "dados['email'] = dados['email'].fillna('Sem registro')\n",
    "dados['street'] = dados['street'].fillna('Sem Info')\n",
    "dados['number'] = dados['number'].fillna('Sem Numero')\n",
    "dados['additionals'] = dados['additionals'].fillna('Sem Info')\n"
   ]
  },
  {
   "cell_type": "code",
   "execution_count": 5,
   "metadata": {},
   "outputs": [
    {
     "name": "stdout",
     "output_type": "stream",
     "text": [
      "Coluna: id, Tipo de dados: int64\n",
      "Coluna: created_at, Tipo de dados: datetime64[ns]\n",
      "Coluna: first_name, Tipo de dados: object\n",
      "Coluna: last_name, Tipo de dados: object\n",
      "Coluna: email, Tipo de dados: object\n",
      "Coluna: cell_phone, Tipo de dados: object\n",
      "Coluna: country, Tipo de dados: object\n",
      "Coluna: state, Tipo de dados: object\n",
      "Coluna: street, Tipo de dados: object\n",
      "Coluna: number, Tipo de dados: object\n",
      "Coluna: additionals, Tipo de dados: object\n"
     ]
    }
   ],
   "source": [
    "for coluna in dados.columns:\n",
    "    print(f\"Coluna: {coluna}, Tipo de dados: {dados[coluna].dtypes}\")"
   ]
  },
  {
   "cell_type": "markdown",
   "metadata": {},
   "source": []
  },
  {
   "cell_type": "code",
   "execution_count": 6,
   "metadata": {},
   "outputs": [
    {
     "data": {
      "text/plain": [
       "'Index([id, created_at, first_name, last_name, email, cell_phone,\\n       country, state, street, number, additionals],\\n      dtype=object)'"
      ]
     },
     "execution_count": 6,
     "metadata": {},
     "output_type": "execute_result"
    }
   ],
   "source": [
    "str(dados.columns).replace(\"'\",\"\")  # coluna de origem "
   ]
  },
  {
   "cell_type": "code",
   "execution_count": 7,
   "metadata": {},
   "outputs": [],
   "source": [
    "cursor.execute('truncate table  [Clientes]')   #executa tarefa de  apagar dados\n",
    "cursor.commit()"
   ]
  },
  {
   "cell_type": "code",
   "execution_count": 8,
   "metadata": {},
   "outputs": [],
   "source": [
    "# Exemplo de inserção usando tupla de parâmetros\n",
    "for index, linha in dados.iterrows():   \n",
    "    linha.email = str(linha.email)  # Converter para o tipo 'str' antes da inserção\n",
    "    linha.country = str(linha.country)\n",
    "    linha.state = str(linha.state)\n",
    "    linha.street = str(linha.street)\n",
    "    linha.number = str(linha.number)\n",
    "    linha.additionals = str(linha.additionals)\n",
    "    \n",
    "    #linha.cell_phone = str(linha.cell_phone)\n",
    "    cursor.execute(\"INSERT INTO [Clientes] (id, created_at,first_name, last_name,email,cell_phone,country, state,street, number, additionals) VALUES (?,?,?,?,?,?,?,?,?,?,?)\",linha.id, linha.created_at,linha.first_name,\n",
    "                   linha.last_name,linha.email,linha.cell_phone,linha.country,linha.state,linha.street,linha.number,linha.additionals)\n",
    "cursor.commit()   # validar dados no SQL Server\n",
    "cursor.close()    #Fechar Cursor\n",
    "conexaoDB.close() #Fechar Conexao"
   ]
  }
 ],
 "metadata": {
  "kernelspec": {
   "display_name": "Python 3",
   "language": "python",
   "name": "python3"
  },
  "language_info": {
   "codemirror_mode": {
    "name": "ipython",
    "version": 3
   },
   "file_extension": ".py",
   "mimetype": "text/x-python",
   "name": "python",
   "nbconvert_exporter": "python",
   "pygments_lexer": "ipython3",
   "version": "3.11.4"
  },
  "vscode": {
   "interpreter": {
    "hash": "c347c8f9a7ef94e4c9e03b4513be7835ed18f45b99a2a817fb579f408b867b16"
   }
  }
 },
 "nbformat": 4,
 "nbformat_minor": 4
}
