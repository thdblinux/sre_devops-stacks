{
 "cells": [
  {
   "cell_type": "code",
   "execution_count": null,
   "metadata": {},
   "outputs": [],
   "source": [
    "import pandas as pd\n",
    "import os"
   ]
  },
  {
   "cell_type": "code",
   "execution_count": null,
   "metadata": {},
   "outputs": [],
   "source": [
    "vendas2021 = pd.read_excel(r\"K:\\Python\\Arquivos\\Origem\\arquivos_excel\\Consolidar\\Vendas2021.xlsx\")\n",
    "vendas2022 = pd.read_excel(r\"K:\\Python\\Arquivos\\Origem\\arquivos_excel\\Consolidar\\Vendas2022.xlsx\")\n",
    "vendas2023 = pd.read_excel(r\"K:\\Python\\Arquivos\\Origem\\arquivos_excel\\Consolidar\\Vendas2023.xlsx\")"
   ]
  },
  {
   "cell_type": "code",
   "execution_count": null,
   "metadata": {},
   "outputs": [],
   "source": [
    "vendas2021.head(3)"
   ]
  },
  {
   "cell_type": "code",
   "execution_count": null,
   "metadata": {},
   "outputs": [],
   "source": [
    "vendas2022.head(3)"
   ]
  },
  {
   "cell_type": "code",
   "execution_count": null,
   "metadata": {},
   "outputs": [],
   "source": [
    "vendas2023.head(3)"
   ]
  },
  {
   "attachments": {},
   "cell_type": "markdown",
   "metadata": {},
   "source": [
    "### Consolidando arquivos de uma pasta"
   ]
  },
  {
   "cell_type": "code",
   "execution_count": null,
   "metadata": {},
   "outputs": [],
   "source": [
    "import pandas as pd\n",
    "import os\n",
    "\n",
    "# Diretório dos arquivos Excel\n",
    "diretorio = (r\"K:\\Python\\Arquivos\\Origem\\arquivos_excel\\Consolidar\")\n",
    "\n",
    "# Lista para armazenar os dados dos arquivos\n",
    "dados = []\n",
    "\n",
    "# Iterar sobre os arquivos Excel no diretório\n",
    "for arquivo in os.listdir(diretorio):\n",
    "    if arquivo.endswith('.xlsx'):\n",
    "        caminho_arquivo = os.path.join(diretorio, arquivo)\n",
    "        df = pd.read_excel(caminho_arquivo)\n",
    "        dados.append(df)\n",
    "\n",
    "# Consolidar os dados em um único DataFrame\n",
    "consolidado = pd.concat(dados)\n",
    "consolidado\n",
    "\n"
   ]
  },
  {
   "attachments": {},
   "cell_type": "markdown",
   "metadata": {},
   "source": [
    "##### Salvando consolidado em uma pasta especifica Formato Excel"
   ]
  },
  {
   "cell_type": "code",
   "execution_count": null,
   "metadata": {},
   "outputs": [],
   "source": [
    "# Caminho da pasta onde será salvo o arquivo Excel\n",
    "pasta_destino = r'K:\\\\Python\\Arquivos\\\\Origem\\\\arquivos_excel\\\\Consolidar\\\\Arquivos consolidados\\\\'\n",
    "\n",
    "# Nome do arquivo Excel (variável)\n",
    "nome_arquivo = 'VendasGeral.xlsx'\n",
    "\n",
    "# Caminho completo do arquivo Excel\n",
    "Caminho_Completo = pasta_destino + nome_arquivo \n",
    "\n",
    "# Salvar o DataFrame como arquivo Excel\n",
    "consolidado.to_excel(Caminho_Completo, index=False)\n"
   ]
  },
  {
   "attachments": {},
   "cell_type": "markdown",
   "metadata": {},
   "source": [
    "##### Salvando consolidado em uma pasta especifica Formato CSV"
   ]
  },
  {
   "cell_type": "code",
   "execution_count": null,
   "metadata": {},
   "outputs": [],
   "source": [
    "# Caminho da pasta onde será salvo o arquivo CSV\n",
    "pasta_destino = r'K:\\\\Python\\\\Arquivos\\\\Origem\\\\arquivos_excel\\\\Consolidar\\\\Arquivos consolidados\\\\'\n",
    "\n",
    "# Nome do arquivo Excel (variável)\n",
    "nome_arquivo = 'VendasGeral.csv'\n",
    "\n",
    "# Caminho completo do arquivo Excel\n",
    "Caminho_Completo = pasta_destino + nome_arquivo\n",
    "\n",
    "# Salvar o DataFrame como arquivo CSV\n",
    "consolidado.to_csv(Caminho_Completo, index=False,sep=',')\n"
   ]
  },
  {
   "attachments": {},
   "cell_type": "markdown",
   "metadata": {},
   "source": [
    "##### Salvando consolidado em uma pasta especifica Formato TXT"
   ]
  },
  {
   "cell_type": "code",
   "execution_count": null,
   "metadata": {},
   "outputs": [],
   "source": [
    "\n",
    "# Caminho da pasta onde será salvo o arquivo Excel\n",
    "pasta_destino = r'K:\\\\Python\\\\Arquivos\\\\Origem\\\\arquivos_excel\\\\Consolidar\\\\Arquivos consolidados\\\\'\n",
    "\n",
    "# Nome do arquivo Excel (variável)\n",
    "nome_arquivo = 'VendasGeral.txt'\n",
    "\n",
    "# Caminho completo do arquivo Excel\n",
    "Caminho_Completo = pasta_destino + nome_arquivo\n",
    "\n",
    "# Salvar o DataFrame como arquivo Excel\n",
    "consolidado.to_csv(Caminho_Completo, index=False,sep=',')"
   ]
  },
  {
   "attachments": {},
   "cell_type": "markdown",
   "metadata": {},
   "source": [
    "###                             Resmumo treino"
   ]
  },
  {
   "cell_type": "code",
   "execution_count": null,
   "metadata": {},
   "outputs": [],
   "source": [
    "# bibliotecas\n",
    "import pandas as pd\n",
    "import os\n",
    "\n",
    "# Diretório dos arquivos CSV\n",
    "diretorio = (r\"K:\\Python\\Arquivos\\Origem\\arquivos_excel\\Consolidar\")\n",
    "\n",
    "# Lista para armazenar os dados dos arquivos\n",
    "dados = []\n",
    "\n",
    "# Iterar sobre os arquivos Excel no diretório\n",
    "for arquivo in os.listdir(diretorio):                        # loop na pasta (diretório)\n",
    "    if arquivo.endswith('.xlsx'):                            # achar somente arquivos excel\n",
    "        caminho_arquivo = os.path.join(diretorio, arquivo)   # pecorrer cada arquivo \n",
    "        df = pd.read_excel(caminho_arquivo)                  # ler os dados \n",
    "        dados.append(df)                                     # armazenar na ultima linh 1 a 1 dos arquivos\n",
    "\n",
    "# Consolidar os dados em um único DataFrame\n",
    "consolidado = pd.concat(dados)\n",
    "consolidado.head()\n"
   ]
  }
 ],
 "metadata": {
  "kernelspec": {
   "display_name": "Python 3",
   "language": "python",
   "name": "python3"
  },
  "language_info": {
   "codemirror_mode": {
    "name": "ipython",
    "version": 3
   },
   "file_extension": ".py",
   "mimetype": "text/x-python",
   "name": "python",
   "nbconvert_exporter": "python",
   "pygments_lexer": "ipython3",
   "version": "3.11.4"
  },
  "orig_nbformat": 4
 },
 "nbformat": 4,
 "nbformat_minor": 2
}
