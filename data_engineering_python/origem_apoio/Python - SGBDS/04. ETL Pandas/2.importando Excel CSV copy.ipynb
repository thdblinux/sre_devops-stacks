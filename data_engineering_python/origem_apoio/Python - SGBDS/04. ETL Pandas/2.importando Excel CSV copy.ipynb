{
 "cells": [
  {
   "cell_type": "code",
   "execution_count": null,
   "metadata": {},
   "outputs": [],
   "source": [
    "\n",
    "\"\"\"\n",
    "pip install pandas\n",
    "pip install --upgrade pandas\n",
    "\"\"\""
   ]
  },
  {
   "cell_type": "code",
   "execution_count": 1,
   "metadata": {},
   "outputs": [],
   "source": [
    "import pandas as pd"
   ]
  },
  {
   "cell_type": "code",
   "execution_count": 2,
   "metadata": {},
   "outputs": [
    {
     "data": {
      "text/html": [
       "<div>\n",
       "<style scoped>\n",
       "    .dataframe tbody tr th:only-of-type {\n",
       "        vertical-align: middle;\n",
       "    }\n",
       "\n",
       "    .dataframe tbody tr th {\n",
       "        vertical-align: top;\n",
       "    }\n",
       "\n",
       "    .dataframe thead th {\n",
       "        text-align: right;\n",
       "    }\n",
       "</style>\n",
       "<table border=\"1\" class=\"dataframe\">\n",
       "  <thead>\n",
       "    <tr style=\"text-align: right;\">\n",
       "      <th></th>\n",
       "      <th>id</th>\n",
       "      <th>created_at</th>\n",
       "      <th>first_name</th>\n",
       "      <th>last_name</th>\n",
       "      <th>email</th>\n",
       "      <th>cell_phone</th>\n",
       "      <th>country</th>\n",
       "      <th>state</th>\n",
       "      <th>street</th>\n",
       "      <th>number</th>\n",
       "      <th>additionals</th>\n",
       "    </tr>\n",
       "  </thead>\n",
       "  <tbody>\n",
       "    <tr>\n",
       "      <th>0</th>\n",
       "      <td>0</td>\n",
       "      <td>2017-11-01 14:45:41</td>\n",
       "      <td>Marta</td>\n",
       "      <td>Jesus</td>\n",
       "      <td>NaN</td>\n",
       "      <td>9 9102-7834</td>\n",
       "      <td>Brasil</td>\n",
       "      <td>Acre</td>\n",
       "      <td>NaN</td>\n",
       "      <td>NaN</td>\n",
       "      <td>Conjunto 16</td>\n",
       "    </tr>\n",
       "    <tr>\n",
       "      <th>1</th>\n",
       "      <td>1</td>\n",
       "      <td>2017-10-16 00:50:39</td>\n",
       "      <td>Luana</td>\n",
       "      <td>Almeida</td>\n",
       "      <td>NaN</td>\n",
       "      <td>9 7328-8718</td>\n",
       "      <td>Brasil</td>\n",
       "      <td>Rio Grande do Sul</td>\n",
       "      <td>Avenida 56 do Estado Rio Grande do Sul</td>\n",
       "      <td>989.0</td>\n",
       "      <td>Conjunto 17</td>\n",
       "    </tr>\n",
       "    <tr>\n",
       "      <th>2</th>\n",
       "      <td>2</td>\n",
       "      <td>2018-06-16 17:51:29</td>\n",
       "      <td>Frida</td>\n",
       "      <td>Mendes</td>\n",
       "      <td>frida@meu_email.com</td>\n",
       "      <td>9 5906-7552</td>\n",
       "      <td>Brasil</td>\n",
       "      <td>São Paulo</td>\n",
       "      <td>Avenida 59 do Estado São Paulo</td>\n",
       "      <td>534.0</td>\n",
       "      <td>NaN</td>\n",
       "    </tr>\n",
       "    <tr>\n",
       "      <th>3</th>\n",
       "      <td>3</td>\n",
       "      <td>2018-01-17 03:02:58</td>\n",
       "      <td>Daniela</td>\n",
       "      <td>Avelino</td>\n",
       "      <td>daniela@exemplo.com</td>\n",
       "      <td>9 4642-9486</td>\n",
       "      <td>Brasil</td>\n",
       "      <td>Mato Grosso</td>\n",
       "      <td>NaN</td>\n",
       "      <td>NaN</td>\n",
       "      <td>NaN</td>\n",
       "    </tr>\n",
       "    <tr>\n",
       "      <th>4</th>\n",
       "      <td>4</td>\n",
       "      <td>2018-08-06 07:24:16</td>\n",
       "      <td>Romário</td>\n",
       "      <td>Teixeira</td>\n",
       "      <td>NaN</td>\n",
       "      <td>9 3093-6522</td>\n",
       "      <td>Brasil</td>\n",
       "      <td>Bahia</td>\n",
       "      <td>Praça 56 do Estado Bahia</td>\n",
       "      <td>191.0</td>\n",
       "      <td>Apto 12</td>\n",
       "    </tr>\n",
       "  </tbody>\n",
       "</table>\n",
       "</div>"
      ],
      "text/plain": [
       "   id           created_at first_name last_name                email  \\\n",
       "0   0  2017-11-01 14:45:41      Marta     Jesus                  NaN   \n",
       "1   1  2017-10-16 00:50:39      Luana   Almeida                  NaN   \n",
       "2   2  2018-06-16 17:51:29      Frida    Mendes  frida@meu_email.com   \n",
       "3   3  2018-01-17 03:02:58    Daniela   Avelino  daniela@exemplo.com   \n",
       "4   4  2018-08-06 07:24:16    Romário  Teixeira                  NaN   \n",
       "\n",
       "    cell_phone country              state  \\\n",
       "0  9 9102-7834  Brasil               Acre   \n",
       "1  9 7328-8718  Brasil  Rio Grande do Sul   \n",
       "2  9 5906-7552  Brasil          São Paulo   \n",
       "3  9 4642-9486  Brasil        Mato Grosso   \n",
       "4  9 3093-6522  Brasil              Bahia   \n",
       "\n",
       "                                   street  number  additionals  \n",
       "0                                     NaN     NaN  Conjunto 16  \n",
       "1  Avenida 56 do Estado Rio Grande do Sul   989.0  Conjunto 17  \n",
       "2          Avenida 59 do Estado São Paulo   534.0          NaN  \n",
       "3                                     NaN     NaN          NaN  \n",
       "4                Praça 56 do Estado Bahia   191.0      Apto 12  "
      ]
     },
     "execution_count": 2,
     "metadata": {},
     "output_type": "execute_result"
    }
   ],
   "source": [
    "df = pd.read_csv(r\"K:\\Python\\Arquivos\\Origem\\arquivos_csv\\Clientes.csv\",delimiter=',')\n",
    "df.head()"
   ]
  },
  {
   "cell_type": "code",
   "execution_count": null,
   "metadata": {},
   "outputs": [],
   "source": [
    "# Filtrar 1 item especifico de uma coluna\n",
    "estado = df.loc[df['state'] == 'Mato Grosso']"
   ]
  },
  {
   "cell_type": "code",
   "execution_count": null,
   "metadata": {},
   "outputs": [],
   "source": [
    "estado"
   ]
  },
  {
   "cell_type": "code",
   "execution_count": null,
   "metadata": {},
   "outputs": [],
   "source": [
    "df"
   ]
  },
  {
   "cell_type": "code",
   "execution_count": null,
   "metadata": {},
   "outputs": [],
   "source": [
    "# escolher estados especificos\n",
    "estados = ['Rio de Janeiro','Ceará', 'Rondônia','Bahia']\n",
    "Df_estados = df.loc[df['state'].isin(estados)]\n",
    "Df_estados\n"
   ]
  },
  {
   "cell_type": "code",
   "execution_count": null,
   "metadata": {},
   "outputs": [],
   "source": [
    "Df_estados2 = df.loc[df['state'].isin(['Rio de Janeiro','Ceará', 'Rondônia','Bahia','Ceará', 'Rondônia','Bahia','Ceará',    \n",
    "                                       'Rondônia','Bahia','Ceará', 'Rondônia','Bahia','Ceará', 'Rondônia','Bahia','Ceará',  \n",
    "                                       'Rondônia','Bahia','Ceará', 'Rondônia','Bahia','Ceará', 'Rondônia','Bahia','Ceará',  \n",
    "                                       'Rondônia','Bahia'])]\n",
    "Df_estados2"
   ]
  },
  {
   "attachments": {},
   "cell_type": "markdown",
   "metadata": {},
   "source": [
    "#### Tratando Nulos"
   ]
  },
  {
   "cell_type": "code",
   "execution_count": null,
   "metadata": {},
   "outputs": [],
   "source": [
    "import pandas as pd"
   ]
  },
  {
   "cell_type": "code",
   "execution_count": null,
   "metadata": {},
   "outputs": [],
   "source": [
    "df = pd.read_csv(r\"K:\\Python\\Arquivos\\Origem\\arquivos_csv\\Clientes.csv\",delimiter=',')\n",
    "df.head(5)"
   ]
  },
  {
   "cell_type": "code",
   "execution_count": null,
   "metadata": {},
   "outputs": [],
   "source": [
    "#Substituir valores nulos\n",
    "df['street'] =           df['street'].fillna('Nao Cadasatrado')\n",
    "df['email'] =            df['email'].fillna('Email Não Cadastrado')\n",
    "df['number'] =           df['number'].fillna('Sem Numero')\n",
    "df['additionals'] =      df['additionals'].fillna('Sem Info')\n"
   ]
  },
  {
   "cell_type": "code",
   "execution_count": null,
   "metadata": {},
   "outputs": [],
   "source": [
    "df"
   ]
  },
  {
   "attachments": {},
   "cell_type": "markdown",
   "metadata": {},
   "source": [
    "#### Metodo Replace"
   ]
  },
  {
   "cell_type": "code",
   "execution_count": null,
   "metadata": {},
   "outputs": [],
   "source": [
    "# Substituindo os nomes dos estados no DataFrame\n",
    "\"\"\"\n",
    "df['Coluna'] = df['coluna'].replace(valor_original, valor_substituto)\n",
    "\"\"\""
   ]
  },
  {
   "cell_type": "code",
   "execution_count": null,
   "metadata": {},
   "outputs": [],
   "source": [
    "\n",
    "# Resetar DF\n",
    "df = pd.read_csv(r\"K:\\Python\\Arquivos\\Origem\\arquivos_csv\\Clientes.csv\", delimiter=',')\n",
    "df.head(15)"
   ]
  },
  {
   "cell_type": "code",
   "execution_count": null,
   "metadata": {},
   "outputs": [],
   "source": [
    "df['state'] = df['state'].replace('São Paulo', 'SP')\n",
    "df['state'] = df['state'].replace('Acre', 'AC')\n",
    "df['state'] = df['state'].replace('Distrito Federal', 'DF')\n"
   ]
  },
  {
   "cell_type": "code",
   "execution_count": null,
   "metadata": {},
   "outputs": [],
   "source": [
    "df.head(20)"
   ]
  },
  {
   "cell_type": "code",
   "execution_count": null,
   "metadata": {},
   "outputs": [],
   "source": [
    "\n",
    "# Resetar DF\n",
    "df = pd.read_csv(r\"K:\\Python\\Arquivos\\Origem\\arquivos_csv\\Clientes.csv\", delimiter=',')\n",
    "df.head(10)"
   ]
  },
  {
   "cell_type": "code",
   "execution_count": null,
   "metadata": {},
   "outputs": [],
   "source": [
    "# Fazendo a substituição de um valor específico\n",
    "valor_original = 'São Paulo'\n",
    "valor_substituto = 'SP'\n",
    "df['state'] = df['state'].replace(valor_original, valor_substituto)\n"
   ]
  },
  {
   "cell_type": "code",
   "execution_count": null,
   "metadata": {},
   "outputs": [],
   "source": [
    "df.head(30)"
   ]
  },
  {
   "cell_type": "code",
   "execution_count": null,
   "metadata": {},
   "outputs": [],
   "source": [
    "import pandas as pd\n",
    "# Resetar DF\n",
    "df = pd.read_csv(r\"K:\\Python\\Arquivos\\Origem\\arquivos_csv\\Clientes.csv\", delimiter=',')\n",
    "df.head()"
   ]
  },
  {
   "cell_type": "code",
   "execution_count": null,
   "metadata": {},
   "outputs": [],
   "source": [
    "# Mapeando os nomes dos estados para substituição\n",
    "# Obs itens criados entre chves {} significa dicionario\n",
    "mapeamento = {'Maranhão': 'Maranhao', 'Piauí': 'Piaui', 'Goiás': 'Goias','São Paulo':'SPteste'}\n",
    "\n",
    "# Substituindo os nomes dos estados no DataFrame\n",
    "df['state'] = df['state'].replace(mapeamento)\n"
   ]
  },
  {
   "cell_type": "code",
   "execution_count": null,
   "metadata": {},
   "outputs": [],
   "source": [
    "df.head(30)"
   ]
  }
 ],
 "metadata": {
  "kernelspec": {
   "display_name": "Python 3",
   "language": "python",
   "name": "python3"
  },
  "language_info": {
   "codemirror_mode": {
    "name": "ipython",
    "version": 3
   },
   "file_extension": ".py",
   "mimetype": "text/x-python",
   "name": "python",
   "nbconvert_exporter": "python",
   "pygments_lexer": "ipython3",
   "version": "3.11.4"
  },
  "orig_nbformat": 4
 },
 "nbformat": 4,
 "nbformat_minor": 2
}
