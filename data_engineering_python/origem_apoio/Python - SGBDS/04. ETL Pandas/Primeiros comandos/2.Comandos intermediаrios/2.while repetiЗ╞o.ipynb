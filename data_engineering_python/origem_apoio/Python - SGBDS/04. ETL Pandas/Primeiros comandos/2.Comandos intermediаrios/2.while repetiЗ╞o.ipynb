{
 "cells": [
  {
   "cell_type": "markdown",
   "metadata": {},
   "source": [
    "# Comando while\n",
    "\n",
    "O while é o comando utilizado para programar repetições no Python baseadas na avaliação de uma condição. Enquanto a condição for verdadeira, o bloco de comandos interno ao while é repetido. Quando a condição se torna falsa, o bloco de comandos deixa de repetir.\n",
    "\n",
    "```python\n",
    "while (cond):\n",
    "    bloco de comandos\n",
    "```"
   ]
  },
  {
   "cell_type": "markdown",
   "metadata": {},
   "source": [
    "Exemplo 1: Digitar os nomes e idades de diversas pessoas, armazenando esses dados em 2 listas."
   ]
  },
  {
   "cell_type": "code",
   "execution_count": 4,
   "metadata": {},
   "outputs": [
    {
     "name": "stdout",
     "output_type": "stream",
     "text": [
      "\n",
      "\n",
      "Nomes digitados\n",
      "===============\n",
      "['Edmilson', 'maria']\n",
      "\n",
      "Idades\n",
      "===============\n",
      "[11, 25]\n"
     ]
    }
   ],
   "source": [
    "lista_idades = []\n",
    "lista_pessoas = []\n",
    "\n",
    "nome = input(\"Digite um nome: \")\n",
    "while (nome.lower() != 'fim'):\n",
    "    idade = int(input(\"Digite uma idade: \"))\n",
    "    lista_idades.append(idade)\n",
    "    lista_pessoas.append(nome)\n",
    "    nome = input(\"Digite um nome: \")\n",
    "    \n",
    "print(\"\\n\\nNomes digitados\\n===============\")\n",
    "print(lista_pessoas)\n",
    "print(\"\\nIdades\\n===============\")\n",
    "print(lista_idades)"
   ]
  },
  {
   "cell_type": "markdown",
   "metadata": {},
   "source": [
    "Exemplo 2: Digitar os nomes e idades de 5 pessoas, armazenando esses dados em 2 listas."
   ]
  },
  {
   "cell_type": "code",
   "execution_count": null,
   "metadata": {},
   "outputs": [],
   "source": [
    "lista_idades = []\n",
    "lista_pessoas = []\n",
    "cont = 0\n",
    "\n",
    "while (cont < 5):\n",
    "    nome = input(\"Digite um nome: \")    \n",
    "    idade = int(input(\"Digite uma idade: \"))\n",
    "    lista_idades.append(idade)\n",
    "    lista_pessoas.append(nome)\n",
    "    cont = cont + 1 # ou cont += 1\n",
    "    \n",
    "print(\"\\n\\nNomes digitados\\n===============\")\n",
    "print(lista_pessoas)\n",
    "print(\"\\nIdades\\n===============\")\n",
    "print(lista_idades)"
   ]
  },
  {
   "cell_type": "markdown",
   "metadata": {},
   "source": [
    "Exemplo 3: Calcular a soma dos termos da série, enquanto o valor dos termos for maior que 0.0001\n",
    "\n",
    "$S = \\frac{1}{1}+\\frac{1}{4}+\\frac{1}{9}+\\frac{1}{16}+...$"
   ]
  },
  {
   "cell_type": "code",
   "execution_count": null,
   "metadata": {},
   "outputs": [],
   "source": [
    "soma = 0 # Acumulador que representa a soma de todos os termos da série\n",
    "qtde = 0 # Inicialização do contador que conta a quantidade de termos calculados\n",
    "den = 0 # Inicialização da variável que representa o denominador\n",
    "termo = 1 # Inicialização do termo = 1 (para conseguir entrar no loop while)\n",
    "while (termo > 0.0001):\n",
    "    qtde += 1 # Incrementa a quantidade de termos calculados na série\n",
    "    den = qtde ** 2 # Calcula o valor do denominador em relação à quantidade\n",
    "    termo = 1 / den\n",
    "    soma += termo # Acumula o valor do termo à soma\n",
    "    print(\"{}o termo {}/{} = {}\".format(qtde, 1, den, termo))    \n",
    "    \n",
    "print(soma)"
   ]
  },
  {
   "cell_type": "code",
   "execution_count": null,
   "metadata": {},
   "outputs": [],
   "source": []
  }
 ],
 "metadata": {
  "kernelspec": {
   "display_name": "Python 3",
   "language": "python",
   "name": "python3"
  },
  "language_info": {
   "codemirror_mode": {
    "name": "ipython",
    "version": 3
   },
   "file_extension": ".py",
   "mimetype": "text/x-python",
   "name": "python",
   "nbconvert_exporter": "python",
   "pygments_lexer": "ipython3",
   "version": "3.11.2"
  }
 },
 "nbformat": 4,
 "nbformat_minor": 2
}
