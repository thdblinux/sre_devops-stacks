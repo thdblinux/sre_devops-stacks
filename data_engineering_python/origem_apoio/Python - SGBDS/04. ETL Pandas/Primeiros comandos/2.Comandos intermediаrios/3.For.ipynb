{
 "cells": [
  {
   "cell_type": "markdown",
   "metadata": {},
   "source": [
    "# Comando for - Iterando sobre sequências de dados (percorrendo iteráveis)"
   ]
  },
  {
   "cell_type": "markdown",
   "metadata": {},
   "source": [
    "### Iterando sobre uma lista"
   ]
  },
  {
   "cell_type": "code",
   "execution_count": null,
   "metadata": {},
   "outputs": [],
   "source": [
    "lista = [1, 19, 2, 15, 21, 12, 2]\n",
    "for num in lista:\n",
    "    print(num)"
   ]
  },
  {
   "cell_type": "code",
   "execution_count": null,
   "metadata": {},
   "outputs": [],
   "source": [
    "print(num)"
   ]
  },
  {
   "cell_type": "code",
   "execution_count": null,
   "metadata": {},
   "outputs": [],
   "source": [
    "# Verificando se um número é par ou ímpar\n",
    "for num in lista:\n",
    "    if num % 2 == 0:\n",
    "        print (\"{} é par.\".format(num))\n",
    "    else:\n",
    "        print(num,\"é ímpar.\")"
   ]
  },
  {
   "cell_type": "code",
   "execution_count": null,
   "metadata": {},
   "outputs": [],
   "source": [
    "# Contador [impares e pares]\n",
    "cont_impar = 0\n",
    "cont_par = 0\n",
    "for num in lista:\n",
    "    if num % 2 == 0:\n",
    "        cont_par += 1\n",
    "    else:\n",
    "        cont_impar += 1\n",
    "print(\"A lista contem {} números pares e {} números ímpares.\".format(cont_par, cont_impar))"
   ]
  },
  {
   "cell_type": "code",
   "execution_count": null,
   "metadata": {},
   "outputs": [],
   "source": [
    "# Somatório\n",
    "soma = 0\n",
    "for n in lista:\n",
    "    soma += n\n",
    "print(\"A soma dos elementos da lista = \", soma)"
   ]
  },
  {
   "cell_type": "code",
   "execution_count": null,
   "metadata": {},
   "outputs": [],
   "source": [
    "# Há uma forma mais simples de calcular somatórios\n",
    "print(\"A soma dos elementos da lista = \", sum(lista))"
   ]
  },
  {
   "cell_type": "code",
   "execution_count": null,
   "metadata": {},
   "outputs": [],
   "source": [
    "# Mas a função sum() não permite somar elementos específicos\n",
    "soma_impar = 0\n",
    "for n in lista:\n",
    "    if n % 2 == 1:\n",
    "        soma_impar = soma_impar + n # sompa_impar += n\n",
    "print(\"A soma dos elementos ímpares da lista = \", soma_impar)"
   ]
  },
  {
   "cell_type": "markdown",
   "metadata": {},
   "source": [
    "### Iterando sobre uma faixa de valores gerada com a função range()"
   ]
  },
  {
   "cell_type": "code",
   "execution_count": null,
   "metadata": {},
   "outputs": [],
   "source": [
    "# Iterando sobre uma faixa de valores gerada com a função range()\n",
    "for i in range(5):\n",
    "    print(i)"
   ]
  },
  {
   "cell_type": "code",
   "execution_count": null,
   "metadata": {},
   "outputs": [],
   "source": [
    "# Somatório dos múltiplos de 3 entre 1 e 100\n",
    "soma_mult_3 = 0\n",
    "for x in range(3, 100, 3):\n",
    "    soma_mult_3 += x\n",
    "print(soma_mult_3)"
   ]
  },
  {
   "cell_type": "code",
   "execution_count": null,
   "metadata": {},
   "outputs": [],
   "source": [
    "# Imprimindo a taboada de um número qualquer\n",
    "num = int(input(\"Digite o número que deseja imprimir a taboada: \"))\n",
    "for mult in range(1,11):\n",
    "    print(\"{} x {} = {}\".format(num, mult, num*mult))"
   ]
  },
  {
   "cell_type": "code",
   "execution_count": null,
   "metadata": {},
   "outputs": [],
   "source": [
    "# Imprimindo a taboada de 1 a 9\n",
    "for num in range(1,10):\n",
    "    for mult in range(1,11):\n",
    "        print(\"{} x {} = {}\".format(num, mult, num*mult))\n",
    "    print()"
   ]
  },
  {
   "cell_type": "markdown",
   "metadata": {},
   "source": [
    "### Iterando sobre um string"
   ]
  },
  {
   "cell_type": "code",
   "execution_count": null,
   "metadata": {},
   "outputs": [],
   "source": [
    "maiorpalavra  = \"pneumoultramicroscopicossilicovulcanoconiótico\"\n",
    "for letra in maiorpalavra:\n",
    "    print(letra)"
   ]
  },
  {
   "cell_type": "markdown",
   "metadata": {},
   "source": [
    "### Iterando sobre uma tupla"
   ]
  },
  {
   "cell_type": "code",
   "execution_count": null,
   "metadata": {},
   "outputs": [],
   "source": [
    "tupla = (1, 19, 5, 12, 6)\n",
    "for ele in tupla:\n",
    "    print(ele)"
   ]
  },
  {
   "cell_type": "code",
   "execution_count": null,
   "metadata": {},
   "outputs": [],
   "source": [
    "lista_tupla = [(1, 2, 3), (4, 5, 6), (7, 8, 9)]\n",
    "(t1, t2, t3) = lista_tupla[1] # desmembrando a tupla\n",
    "print(type(lista_tupla))\n",
    "print(type(lista_tupla[1]))\n",
    "print(type(t1))"
   ]
  },
  {
   "cell_type": "code",
   "execution_count": null,
   "metadata": {},
   "outputs": [],
   "source": [
    "lista_tupla"
   ]
  },
  {
   "cell_type": "code",
   "execution_count": null,
   "metadata": {},
   "outputs": [],
   "source": [
    "lista_tupla[1]"
   ]
  },
  {
   "cell_type": "code",
   "execution_count": null,
   "metadata": {},
   "outputs": [],
   "source": [
    "t1"
   ]
  },
  {
   "cell_type": "code",
   "execution_count": null,
   "metadata": {},
   "outputs": [],
   "source": [
    "t2"
   ]
  },
  {
   "cell_type": "code",
   "execution_count": null,
   "metadata": {},
   "outputs": [],
   "source": [
    "t3"
   ]
  },
  {
   "cell_type": "code",
   "execution_count": null,
   "metadata": {},
   "outputs": [],
   "source": [
    "lista_tupla_notas = [(18, 20, 15, 22), (10, 15, 25, 19), (16, 24, 21, 20), (10, 13, 18, 13)]\n",
    "for (ele1, ele2, ele3, ele4) in lista_tupla_notas:\n",
    "    print(\"A 3a nota = {}.\".format(ele3))"
   ]
  },
  {
   "cell_type": "markdown",
   "metadata": {},
   "source": [
    "### Iterando em um conjunto"
   ]
  },
  {
   "cell_type": "code",
   "execution_count": null,
   "metadata": {},
   "outputs": [],
   "source": [
    "conj1 = {1, 5, 2, 6, 3, 4}\n",
    "\n",
    "for ele in conj1:\n",
    "    print(ele)"
   ]
  },
  {
   "cell_type": "code",
   "execution_count": null,
   "metadata": {},
   "outputs": [],
   "source": [
    "conj2 = {1, 17, 12, 4, 2, 20}\n",
    "\n",
    "for ele in conj1:\n",
    "    if ele in conj2:\n",
    "        print(\"O elemento {} está contido em conj2.\".format(ele))\n",
    "    else:\n",
    "        print(\"O elemento {} não está contido em conj2.\".format(ele))"
   ]
  },
  {
   "cell_type": "markdown",
   "metadata": {},
   "source": [
    "### Iterando em um dicionário"
   ]
  },
  {
   "cell_type": "code",
   "execution_count": null,
   "metadata": {},
   "outputs": [],
   "source": [
    "dic_estados = { \"MG\":\"Minas Gerais\", \"PR\": \"Paraná\", \"BA\": \"Bahia\", \"RN\": \"Rio Grande do Norte\", \"AM\": \"Amzonas\"}\n",
    "for est in dic_estados:\n",
    "    print(est)"
   ]
  },
  {
   "cell_type": "code",
   "execution_count": null,
   "metadata": {},
   "outputs": [],
   "source": [
    "for est in dic_estados.values():\n",
    "    print(est)"
   ]
  },
  {
   "cell_type": "code",
   "execution_count": null,
   "metadata": {},
   "outputs": [],
   "source": [
    "for (sig,est) in dic_estados.items():\n",
    "    print(\"A sigla para {} é {}.\".format(est, sig))"
   ]
  },
  {
   "cell_type": "markdown",
   "metadata": {
    "collapsed": true
   },
   "source": [
    "### Comprehensions\n",
    "\n",
    "Uma maneira bastante concisa que o Python fornece para a criação de sequencias (listas, tuplas, dicionários, strings, etc).\n",
    "\n",
    "**Sintaxe:**\n",
    "\n",
    "```python\n",
    "listasaida = [expressão for var in listaentrada]\n",
    "\n",
    "listasaida = [expressão for var in listaentrada if condição]\n",
    "```\n",
    "\n",
    "**Exemplo:**\n",
    "\n",
    "Como criar uma lista com 20 elementos (1 a 20) no Python?"
   ]
  },
  {
   "cell_type": "code",
   "execution_count": null,
   "metadata": {},
   "outputs": [],
   "source": [
    "# 1a maneira - digitando todos os elementos\n",
    "lista = [1, 2, 3, 4, 5, 6, 7, 8, 9, 10, 11, 12, 13, 14, 15, 16, 17, 18, 19, 20]\n",
    "lista"
   ]
  },
  {
   "cell_type": "code",
   "execution_count": null,
   "metadata": {},
   "outputs": [],
   "source": [
    "# 2a maneira - usando a função range\n",
    "lista1= list(range(1, 21))\n",
    "lista1"
   ]
  },
  {
   "cell_type": "code",
   "execution_count": null,
   "metadata": {},
   "outputs": [],
   "source": [
    "# 3a maneira - usando o for\n",
    "lista3 = []\n",
    "for i in range(1, 21):\n",
    "    lista3.append(i)\n",
    "lista3"
   ]
  },
  {
   "cell_type": "code",
   "execution_count": null,
   "metadata": {},
   "outputs": [],
   "source": [
    "# 4a maneira - usando comprehensions\n",
    "lista4 = [i for i in range(1,21)]\n",
    "lista4"
   ]
  },
  {
   "cell_type": "code",
   "execution_count": null,
   "metadata": {},
   "outputs": [],
   "source": [
    "# Outro exemplo: criar uma lista de números pares entre 1 e 50\n",
    "pares = []\n",
    "for i in range(1, 51):\n",
    "    if i%2 == 0:\n",
    "        pares.append(i)\n",
    "pares"
   ]
  },
  {
   "cell_type": "code",
   "execution_count": null,
   "metadata": {},
   "outputs": [],
   "source": [
    "pares2 = [num for num in range (1,51) if num % 2 == 0]\n",
    "pares2"
   ]
  },
  {
   "cell_type": "code",
   "execution_count": null,
   "metadata": {},
   "outputs": [],
   "source": [
    "divisiveis3e7 = [num for num in range(1,100) if num % 3 == 0 and num % 7 == 0]\n",
    "divisiveis3e7"
   ]
  },
  {
   "cell_type": "code",
   "execution_count": null,
   "metadata": {},
   "outputs": [],
   "source": [
    "letras = [l.upper() for l in \"palavra\"]\n",
    "letras"
   ]
  },
  {
   "cell_type": "code",
   "execution_count": null,
   "metadata": {},
   "outputs": [],
   "source": []
  }
 ],
 "metadata": {
  "kernelspec": {
   "display_name": "Python 3",
   "language": "python",
   "name": "python3"
  },
  "language_info": {
   "codemirror_mode": {
    "name": "ipython",
    "version": 3
   },
   "file_extension": ".py",
   "mimetype": "text/x-python",
   "name": "python",
   "nbconvert_exporter": "python",
   "pygments_lexer": "ipython3",
   "version": "3.7.3"
  }
 },
 "nbformat": 4,
 "nbformat_minor": 2
}
