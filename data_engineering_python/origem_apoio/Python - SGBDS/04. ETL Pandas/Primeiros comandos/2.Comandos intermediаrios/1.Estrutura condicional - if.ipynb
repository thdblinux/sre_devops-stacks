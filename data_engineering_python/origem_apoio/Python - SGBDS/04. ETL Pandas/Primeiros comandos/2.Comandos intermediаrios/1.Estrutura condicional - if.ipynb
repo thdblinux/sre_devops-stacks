{
 "cells": [
  {
   "cell_type": "markdown",
   "metadata": {},
   "source": [
    "# Estrutura condicional - comando if\n",
    "\n",
    "#### 1ª forma\n",
    "```\n",
    "if (condição):\n",
    "    bloco_de_comandos\n",
    "```"
   ]
  },
  {
   "cell_type": "code",
   "execution_count": 2,
   "metadata": {},
   "outputs": [],
   "source": [
    "x = int(input(\"Digite o valor de x: \"))\n",
    "y = int(input(\"Digite o valor de y:\"))\n",
    "if x < y:\n",
    "    \n",
    "    nt(\"{} é menor que {}.\".format(x, y))"
   ]
  },
  {
   "cell_type": "markdown",
   "metadata": {},
   "source": [
    "#### 2ª forma\n",
    "```\n",
    "if (condição):\n",
    "    bloco_de_comandos_1\n",
    "else:\n",
    "    bloco_de_comandos_2\n",
    "```"
   ]
  },
  {
   "cell_type": "code",
   "execution_count": 1,
   "metadata": {},
   "outputs": [
    {
     "name": "stdout",
     "output_type": "stream",
     "text": [
      "10 é menor que 20.\n"
     ]
    }
   ],
   "source": [
    "x = int(input(\"Digite o valor de x: \"))\n",
    "y = int(input(\"Digite o valor de y: \"))\n",
    "\n",
    "if x < y:\n",
    "    print(\"{} é menor que {}.\".format(x, y))\n",
    "else:\n",
    "    print(\"{} é maior ou igual a {}.\".format(x, y))\n"
   ]
  },
  {
   "cell_type": "code",
   "execution_count": null,
   "metadata": {},
   "outputs": [],
   "source": [
    "x = int(input(\"Digite o valor de x:1 \"))\n",
    "y = int(input(\"Digite o valor de y:20 \"))\n",
    "\n",
    "if x < y:\n",
    "    print(\"{} é menor que {}.\".format(x, y))\n",
    "else:\n",
    "    if x == y:\n",
    "        print(\"{} é igual a {}.\".format(x, y))\n",
    "    else:\n",
    "        print(\"{} é maior que {}.\".format(x, y))"
   ]
  },
  {
   "cell_type": "markdown",
   "metadata": {},
   "source": [
    "#### 3ª forma\n",
    "```\n",
    "if (condição_1):\n",
    "    bloco_de_comandos_1\n",
    "elif (condição_2):\n",
    "    bloco_de_comandos_2\n",
    "...\n",
    "elif (condição_n):\n",
    "    bloco_de_comandos_n\n",
    "```"
   ]
  },
  {
   "cell_type": "code",
   "execution_count": null,
   "metadata": {},
   "outputs": [],
   "source": [
    "x = int(input(\"Digite o valor de x: \"))\n",
    "y = int(input(\"Digite o valor de y: \"))\n",
    "if x < y:\n",
    "    print(\"{} é menor que {}.\".format(x, y))\n",
    "elif x == y:\n",
    "    print(\"{} é igual a {}.\".format(x, y))\n",
    "elif x > y:\n",
    "    print(\"{} é maior que {}.\".format(x, y))"
   ]
  },
  {
   "cell_type": "markdown",
   "metadata": {},
   "source": [
    "#### 4ª forma\n",
    "```\n",
    "if (condição_1):\n",
    "    bloco_de_comandos_1\n",
    "elif (condição_2):\n",
    "    bloco_de_comandos_2\n",
    "...\n",
    "elif (condição_n):\n",
    "    bloco_de_comandos_n\n",
    "else:\n",
    "    bloco_de_comandos_else\n",
    "```"
   ]
  },
  {
   "cell_type": "code",
   "execution_count": null,
   "metadata": {},
   "outputs": [],
   "source": [
    "x = int(input(\"Digite o valor de x: \"))\n",
    "y = int(input(\"Digite o valor de y: \"))\n",
    "if x < y:\n",
    "    print(\"{} é menor que {}.\".format(x, y))\n",
    "elif x == y:\n",
    "    print(\"{} é igual a {}.\".format(x, y))\n",
    "else:\n",
    "    print(\"{} é maior que {}.\".format(x, y))"
   ]
  },
  {
   "cell_type": "code",
   "execution_count": null,
   "metadata": {},
   "outputs": [],
   "source": []
  }
 ],
 "metadata": {
  "kernelspec": {
   "display_name": "Python 3",
   "language": "python",
   "name": "python3"
  },
  "language_info": {
   "codemirror_mode": {
    "name": "ipython",
    "version": 3
   },
   "file_extension": ".py",
   "mimetype": "text/x-python",
   "name": "python",
   "nbconvert_exporter": "python",
   "pygments_lexer": "ipython3",
   "version": "3.11.4"
  }
 },
 "nbformat": 4,
 "nbformat_minor": 2
}
