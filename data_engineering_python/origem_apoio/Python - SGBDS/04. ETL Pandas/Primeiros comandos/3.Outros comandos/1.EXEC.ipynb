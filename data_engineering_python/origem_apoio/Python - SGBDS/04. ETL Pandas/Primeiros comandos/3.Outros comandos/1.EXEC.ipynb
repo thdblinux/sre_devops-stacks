{
 "cells": [
  {
   "cell_type": "code",
   "execution_count": null,
   "metadata": {},
   "outputs": [],
   "source": [
    "\"\"\" ctrl + aspas simples digitar no terminal \n",
    "pip install pyinstaller   - caso nao tenha instalado \n",
    "pip install --trusted-host pypi.org --trusted-host files.pythonhosted.org pyinstaller   -- se der erro ssl\n",
    "\n",
    "\n",
    "1° importar nootbook para script (botao direito mouse) depois passar comando do arquivo completo para inserir exec\n",
    "pyinstaller --onefile \"G:\\Outros computadores\\Meu comput.py\"\n",
    "\n",
    "\n",
    "Modo oculto no windows (noconsole) adicionar isso antes do nome do arquivo\n",
    "pyinstaller --onefile --noconsole \"G:\\Outros computadores\\Meu computador.py\"\n",
    "\n",
    "\n",
    "inserir via interface grafica\n",
    "pip install auto-py-to-exe\n",
    "pip install -U auto-py-to-exe  -  inserir para upgrade\n",
    "\n",
    "para abrir\n",
    "auto-py-to-exe   - digitar no prompt comando\n",
    "\"\"\"\n"
   ]
  }
 ],
 "metadata": {
  "language_info": {
   "name": "python"
  },
  "orig_nbformat": 4
 },
 "nbformat": 4,
 "nbformat_minor": 2
}
