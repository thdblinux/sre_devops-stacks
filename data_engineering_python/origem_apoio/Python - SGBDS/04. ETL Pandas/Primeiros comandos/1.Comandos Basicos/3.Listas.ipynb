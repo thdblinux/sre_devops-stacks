{
 "cells": [
  {
   "attachments": {},
   "cell_type": "markdown",
   "metadata": {},
   "source": [
    "https://docs.python.org/pt-br/3/tutorial/datastructures.html  Estruturas de dados"
   ]
  },
  {
   "attachments": {},
   "cell_type": "markdown",
   "metadata": {},
   "source": [
    "# Listas\n",
    "\n",
    "* Lista é uma coleção de elementos \n",
    "* Cada elemento possui uma posição dentro de uma lista. Essa posição é chamada índice\n",
    "* O primeiro elemento fica armazenado na posição *0*, enquanto o último elemento fica armazenado na posição *n-1* (onde *n* é a quantidade de elementos da lista)\n"
   ]
  },
  {
   "attachments": {},
   "cell_type": "markdown",
   "metadata": {},
   "source": [
    "### 1. Como criar uma lista"
   ]
  },
  {
   "cell_type": "code",
   "execution_count": null,
   "metadata": {
    "collapsed": true
   },
   "outputs": [],
   "source": [
    "# Criando uma lista vazia\n",
    "lista_vazia = [25,30]\n",
    "lista_vazia2 = list()"
   ]
  },
  {
   "cell_type": "code",
   "execution_count": null,
   "metadata": {
    "collapsed": true
   },
   "outputs": [],
   "source": [
    "# Visualizando o tipo\n",
    "type(lista_vazia)"
   ]
  },
  {
   "cell_type": "code",
   "execution_count": null,
   "metadata": {
    "collapsed": true
   },
   "outputs": [],
   "source": [
    "# Visualizando o tipo\n",
    "type(lista_vazia2)"
   ]
  },
  {
   "cell_type": "code",
   "execution_count": null,
   "metadata": {
    "collapsed": true
   },
   "outputs": [],
   "source": [
    "# Verificando o tamanho da lista quantidade de linhas \n",
    "len(lista_vazia)"
   ]
  },
  {
   "cell_type": "code",
   "execution_count": null,
   "metadata": {
    "collapsed": true
   },
   "outputs": [],
   "source": [
    "# Criando listas com elementos\n",
    "lista = [23, 56, 2, -3, 10, 2, 18, 0, 5]\n",
    "lista_reais = [1.5, -2.13, 5.14]\n",
    "lista_strings = [\"Edmilson\", \"Minas Gerais\", \"Brasil\", \"Mundo\"]\n",
    "lista_booleanos = [True, True, False, True]\n",
    "lista_misturada = [1, 2, 3.14159, \"teste\"]\n",
    "lista_misturada2 = [1, 2, 3.14159, \"teste\", [1, \"A\", 1.0]]\n",
    "listas_aninhadas = [ [1, 2, 3], [4, 5, 6], [7, 8, 9]]"
   ]
  },
  {
   "cell_type": "code",
   "execution_count": null,
   "metadata": {
    "collapsed": true
   },
   "outputs": [],
   "source": [
    "# Visualizando a lista\n",
    "lista"
   ]
  },
  {
   "cell_type": "code",
   "execution_count": null,
   "metadata": {
    "collapsed": true
   },
   "outputs": [],
   "source": [
    "lista_reais"
   ]
  },
  {
   "cell_type": "code",
   "execution_count": null,
   "metadata": {
    "collapsed": true
   },
   "outputs": [],
   "source": [
    "lista_strings"
   ]
  },
  {
   "cell_type": "code",
   "execution_count": null,
   "metadata": {
    "collapsed": true
   },
   "outputs": [],
   "source": [
    "print(lista_booleanos)"
   ]
  },
  {
   "cell_type": "code",
   "execution_count": null,
   "metadata": {
    "collapsed": true
   },
   "outputs": [],
   "source": [
    "lista_misturada"
   ]
  },
  {
   "cell_type": "code",
   "execution_count": null,
   "metadata": {
    "collapsed": true
   },
   "outputs": [],
   "source": [
    "lista_misturada2"
   ]
  },
  {
   "cell_type": "code",
   "execution_count": null,
   "metadata": {
    "collapsed": true
   },
   "outputs": [],
   "source": [
    "listas_aninhadas"
   ]
  },
  {
   "attachments": {},
   "cell_type": "markdown",
   "metadata": {},
   "source": [
    "### 2. Como acessar elementos de uma lista"
   ]
  },
  {
   "cell_type": "code",
   "execution_count": null,
   "metadata": {},
   "outputs": [],
   "source": [
    "# Criando listas com elementos\n",
    "lista = [23, 56, 20, -3, 10, 2, 18, 0, 5]\n",
    "lista_reais = [1.5, -2.13, 5.14]\n",
    "lista_strings = [\"Edmilson\", \"Minas Gerais\", \"Brasil\", \"Mundo\"]\n",
    "lista_booleanos = [True, True, False, True]\n",
    "lista_misturada = [1, 2, 3.14159, \"teste\"]\n",
    "lista_misturada2 = [1, 2, 3.14159, \"teste\", [1, \"A\", 1.0]]\n",
    "listas_aninhadas = [ [1, 2, 3], [4, 5, 6], [7, 8, 9]]"
   ]
  },
  {
   "cell_type": "code",
   "execution_count": null,
   "metadata": {
    "collapsed": true
   },
   "outputs": [],
   "source": [
    "# Acessando o índice 0 (primeira posição)\n",
    "lista[3]"
   ]
  },
  {
   "cell_type": "code",
   "execution_count": null,
   "metadata": {
    "collapsed": true
   },
   "outputs": [],
   "source": [
    "lista"
   ]
  },
  {
   "cell_type": "code",
   "execution_count": null,
   "metadata": {
    "collapsed": true
   },
   "outputs": [],
   "source": [
    "# Acessando o índice 2 (terceira posição)\n",
    "lista[2]"
   ]
  },
  {
   "cell_type": "code",
   "execution_count": null,
   "metadata": {
    "collapsed": true
   },
   "outputs": [],
   "source": [
    "# Acessando o índice 3 (quarta posição)\n",
    "lista_strings[0]"
   ]
  },
  {
   "cell_type": "code",
   "execution_count": null,
   "metadata": {
    "collapsed": true
   },
   "outputs": [],
   "source": [
    "lista_strings"
   ]
  },
  {
   "cell_type": "code",
   "execution_count": null,
   "metadata": {
    "collapsed": true
   },
   "outputs": [],
   "source": [
    "# Acessando o índice 3 (quarta posição)\n",
    "lista_misturada[3]"
   ]
  },
  {
   "cell_type": "code",
   "execution_count": null,
   "metadata": {
    "collapsed": true
   },
   "outputs": [],
   "source": [
    "lista_misturada"
   ]
  },
  {
   "cell_type": "code",
   "execution_count": null,
   "metadata": {},
   "outputs": [],
   "source": [
    "\n",
    "lista_misturada2 = [1, 2, 3.14159, \"teste\", [1, \"A\", 1.0]]\n"
   ]
  },
  {
   "cell_type": "code",
   "execution_count": null,
   "metadata": {
    "collapsed": true
   },
   "outputs": [],
   "source": [
    "# Acessando o índice 4 nos foi retornado uma lista com 3 elementos. Agora queremos acessar o índice 1 dessa lista interna\n",
    "lista_misturada2[4][2]"
   ]
  },
  {
   "cell_type": "code",
   "execution_count": null,
   "metadata": {
    "collapsed": true
   },
   "outputs": [],
   "source": [
    "lista_misturada2"
   ]
  },
  {
   "cell_type": "code",
   "execution_count": null,
   "metadata": {
    "collapsed": true
   },
   "outputs": [],
   "source": [
    "# Acessando um índice inexistente\n",
    "lista[20]"
   ]
  },
  {
   "attachments": {},
   "cell_type": "markdown",
   "metadata": {},
   "source": [
    "### 3. Como modificar elementos de uma lista"
   ]
  },
  {
   "cell_type": "code",
   "execution_count": 91,
   "metadata": {},
   "outputs": [],
   "source": [
    "# Criando listas com elementos\n",
    "lista = [23, 56, 20, -3, 10, 2, 18, 0, 5]\n",
    "lista_reais = [1.5, -2.13, 5.14]\n",
    "lista_strings = [\"Edmilson\", \"Minas Gerais\", \"Brasil\", \"Mundo\"]\n",
    "lista_booleanos = [True, True, False, True]\n",
    "lista_misturada = [1, 2, 3.14159, \"teste\"]\n",
    "lista_misturada2 = [1, 2, 3.14159, \"teste\", [1, \"A\", 1.0]]\n",
    "listas_aninhadas = [ [1, 2, 3], [4, 5, 6], [7, 8, 9]]"
   ]
  },
  {
   "cell_type": "code",
   "execution_count": null,
   "metadata": {
    "collapsed": true
   },
   "outputs": [],
   "source": [
    "# Visualizando a lista\n",
    "lista"
   ]
  },
  {
   "cell_type": "code",
   "execution_count": null,
   "metadata": {
    "collapsed": true
   },
   "outputs": [],
   "source": [
    "# Alterando o elemento do índice 1 de 56 para 18\n",
    "lista[1] = 18"
   ]
  },
  {
   "cell_type": "code",
   "execution_count": null,
   "metadata": {
    "collapsed": true
   },
   "outputs": [],
   "source": [
    "# Visualizando a alteração realizada\n",
    "lista"
   ]
  },
  {
   "cell_type": "code",
   "execution_count": null,
   "metadata": {
    "collapsed": true
   },
   "outputs": [],
   "source": [
    "# Modificando o elemento do índice 3 de -3 para 15\n",
    "lista[3] = 15"
   ]
  },
  {
   "cell_type": "code",
   "execution_count": 92,
   "metadata": {
    "collapsed": true
   },
   "outputs": [
    {
     "data": {
      "text/plain": [
       "[23, 56, 20, -3, 10, 2, 18, 0, 5]"
      ]
     },
     "execution_count": 92,
     "metadata": {},
     "output_type": "execute_result"
    }
   ],
   "source": [
    "# Visualizando a alteração realizada\n",
    "lista"
   ]
  },
  {
   "cell_type": "code",
   "execution_count": 93,
   "metadata": {
    "collapsed": true
   },
   "outputs": [],
   "source": [
    "# Modificando o elemento do índice 2. Ele recebe a soma dos dois elementos anteriores\n",
    "lista[2] = lista[0] + lista[1]"
   ]
  },
  {
   "cell_type": "code",
   "execution_count": 94,
   "metadata": {
    "collapsed": true
   },
   "outputs": [
    {
     "data": {
      "text/plain": [
       "[23, 56, 79, -3, 10, 2, 18, 0, 5]"
      ]
     },
     "execution_count": 94,
     "metadata": {},
     "output_type": "execute_result"
    }
   ],
   "source": [
    "# Visualizando a alteração realizada\n",
    "lista"
   ]
  },
  {
   "attachments": {},
   "cell_type": "markdown",
   "metadata": {},
   "source": [
    "### 4. Principais métodos de um objeto lista\n",
    "\n",
    "Método | Descrição | Exemplo\n",
    ":----- | :-------- | :------\n",
    "append | Adiciona um elemento no final da lista | `lista.append(5)`\n",
    "clear  | Apaga todos os elementos de uma lista | `lista.clear()`\n",
    "copy | Retorna uma cópia dos elementos da lista | `copia = lista.copy()`\n",
    "count | Retorna a quantidade de ocorrências de um elemento na lista | `qt = lista.count(5)`\n",
    "extend | Adiciona os elementos de outra lista passada por parâmetro | `lista.extend(outra_lista)`\n",
    "index | Retorna o índice do elemento passado por parâmetro (primeira posição) | `pos5 = lista.index(5)`\n",
    "insert | Adiciona um elemento em uma posição passada por parâmetro (adiciona no final caso a posição não exista)| `lista.insert(3, \"João\")`\n",
    "pop | Remove o elemento na posição passada por parâmetro (provoca um erro caso a posição não exista)| `elemento = lista.pop(3)`\n",
    "remove | Remove o elemento passado por parâmetro (provoca um erro caso o elemento não exista)| `lista.remove(5)`\n",
    "reverse | Inverte a ordem dos elementos de uma lista | `lista.reverse()`\n",
    "sort | Ordena os objetos de uma lista | `lista.sort()`\n",
    " | | `lista.sort(reverse=True)`"
   ]
  },
  {
   "attachments": {},
   "cell_type": "markdown",
   "metadata": {},
   "source": [
    "#### 4.1 - append()"
   ]
  },
  {
   "cell_type": "code",
   "execution_count": null,
   "metadata": {
    "collapsed": true
   },
   "outputs": [],
   "source": [
    "# Visualizando a lista antes da chamada ao método append()\n",
    "lista"
   ]
  },
  {
   "cell_type": "code",
   "execution_count": null,
   "metadata": {
    "collapsed": true
   },
   "outputs": [],
   "source": [
    "# Adicionado o 17 no final da lista\n",
    "lista.append(17)"
   ]
  },
  {
   "cell_type": "code",
   "execution_count": null,
   "metadata": {
    "collapsed": true
   },
   "outputs": [],
   "source": [
    "# Visualizando a lista após chamada ao método append()\n",
    "lista"
   ]
  },
  {
   "attachments": {},
   "cell_type": "markdown",
   "metadata": {},
   "source": [
    "#### 4.2 - clear()"
   ]
  },
  {
   "cell_type": "code",
   "execution_count": null,
   "metadata": {
    "collapsed": true
   },
   "outputs": [],
   "source": [
    "# Visualizando lista_reais antes da chamada ao método clear()\n",
    "lista_reais"
   ]
  },
  {
   "cell_type": "code",
   "execution_count": null,
   "metadata": {
    "collapsed": true
   },
   "outputs": [],
   "source": [
    "# Removendo todos os ementos de lista_reais\n",
    "lista_reais.clear()"
   ]
  },
  {
   "cell_type": "code",
   "execution_count": null,
   "metadata": {
    "collapsed": true
   },
   "outputs": [],
   "source": [
    "# Visualizando lista_reais após chamada ao método clear()\n",
    "lista_reais"
   ]
  },
  {
   "attachments": {},
   "cell_type": "markdown",
   "metadata": {},
   "source": [
    "#### 4.3 - copy()"
   ]
  },
  {
   "cell_type": "code",
   "execution_count": null,
   "metadata": {
    "collapsed": true
   },
   "outputs": [],
   "source": [
    "\n",
    "copia = lista # neste caso estou atribuindo somente um novo nome a lista"
   ]
  },
  {
   "cell_type": "code",
   "execution_count": null,
   "metadata": {
    "collapsed": true
   },
   "outputs": [],
   "source": [
    "# Visualizando o conteúdo de copia\n",
    "copia"
   ]
  },
  {
   "cell_type": "code",
   "execution_count": null,
   "metadata": {
    "collapsed": true
   },
   "outputs": [],
   "source": [
    "# Alterando o elemento do índice 0 de 23 para 5\n",
    "copia[0] = 5"
   ]
  },
  {
   "cell_type": "code",
   "execution_count": null,
   "metadata": {
    "collapsed": true
   },
   "outputs": [],
   "source": [
    "# Visualizando o conteúdo de copia\n",
    "copia"
   ]
  },
  {
   "cell_type": "code",
   "execution_count": null,
   "metadata": {
    "collapsed": true
   },
   "outputs": [],
   "source": [
    "# Visualizando o conteúdo de lista (Perceba que o elemento 23 também foi alterado na lista, e não apenas em copia)\n",
    "lista"
   ]
  },
  {
   "cell_type": "code",
   "execution_count": null,
   "metadata": {
    "collapsed": true
   },
   "outputs": [],
   "source": [
    "# Desfazendo a alteração no índice 0, modificando de 5 para 23\n",
    "lista[0] = 23"
   ]
  },
  {
   "cell_type": "code",
   "execution_count": null,
   "metadata": {
    "collapsed": true
   },
   "outputs": [],
   "source": [
    "# A maneira correta de copiar uma lista para outra é através da chamada ao método copy()\n",
    "copia = lista.copy()   # desta forma eu crio uma cópia e ficam 2 listas separadas idependentes"
   ]
  },
  {
   "cell_type": "code",
   "execution_count": null,
   "metadata": {
    "collapsed": true
   },
   "outputs": [],
   "source": [
    "# Visualizando o conteúdo de lista\n",
    "lista"
   ]
  },
  {
   "cell_type": "code",
   "execution_count": null,
   "metadata": {
    "collapsed": true
   },
   "outputs": [],
   "source": [
    "# Visualizando o conteúdo de copia\n",
    "copia"
   ]
  },
  {
   "cell_type": "code",
   "execution_count": null,
   "metadata": {
    "collapsed": true
   },
   "outputs": [],
   "source": [
    "# Alterando o elemento do índice 0 de 23 para 5\n",
    "copia[0] = 5"
   ]
  },
  {
   "cell_type": "code",
   "execution_count": null,
   "metadata": {
    "collapsed": true
   },
   "outputs": [],
   "source": [
    "# Visualizando o conteúdo de lista\n",
    "lista"
   ]
  },
  {
   "cell_type": "code",
   "execution_count": null,
   "metadata": {
    "collapsed": true
   },
   "outputs": [],
   "source": [
    "# Visualizando o conteúdo de lista - Agora sim, apenas o índice 0 de copia foi alterado\n",
    "copia"
   ]
  },
  {
   "attachments": {},
   "cell_type": "markdown",
   "metadata": {},
   "source": [
    "#### 4.4 - count()"
   ]
  },
  {
   "cell_type": "code",
   "execution_count": null,
   "metadata": {
    "collapsed": true
   },
   "outputs": [],
   "source": [
    "# Verificando quantas vezes o número 5 aparece em copia\n",
    "copia.count(5)"
   ]
  },
  {
   "attachments": {},
   "cell_type": "markdown",
   "metadata": {},
   "source": [
    "#### 4.5 - extend()"
   ]
  },
  {
   "cell_type": "code",
   "execution_count": null,
   "metadata": {
    "collapsed": true
   },
   "outputs": [],
   "source": [
    "# Suponha que temos uma lista chamada numeros que contém os elementos [1, 2, 3]\n",
    "numeros = [1, 2, 3]"
   ]
  },
  {
   "cell_type": "code",
   "execution_count": null,
   "metadata": {
    "collapsed": true
   },
   "outputs": [],
   "source": [
    "# Queremos adicionar o elementos [4, 5] à lista números e usamos o método append()\n",
    "numeros.append([4,5])"
   ]
  },
  {
   "cell_type": "code",
   "execution_count": null,
   "metadata": {
    "collapsed": true
   },
   "outputs": [],
   "source": [
    "# Ao invés de adicionarmos os elementos 4 e 5, adicionar uma lista contendo os elementos [4, 5]\n",
    "numeros"
   ]
  },
  {
   "cell_type": "code",
   "execution_count": null,
   "metadata": {
    "collapsed": true
   },
   "outputs": [],
   "source": [
    "# A maneira correta de adicionar novos elementos de uma lista, a partir de outra lista, é através do método extend()\n",
    "numeros = [1, 2, 3]\n",
    "numeros.extend([4,5])\n",
    "numeros"
   ]
  },
  {
   "attachments": {},
   "cell_type": "markdown",
   "metadata": {},
   "source": [
    "#### 4.6 - index()"
   ]
  },
  {
   "cell_type": "code",
   "execution_count": null,
   "metadata": {
    "collapsed": true
   },
   "outputs": [],
   "source": [
    "# Redefinindo os elementos da lista\n",
    "lista = [1, 3, 7, 2, 3, 8, 4]"
   ]
  },
  {
   "cell_type": "code",
   "execution_count": null,
   "metadata": {
    "collapsed": true
   },
   "outputs": [],
   "source": [
    "# O método index nos permite saber em que posição determinado elemento está armazenado\n",
    "lista.index(7)"
   ]
  },
  {
   "cell_type": "code",
   "execution_count": null,
   "metadata": {
    "collapsed": true
   },
   "outputs": [],
   "source": [
    "# Podemos guardar esse valor em uma variável\n",
    "posicao8 = lista.index(8)"
   ]
  },
  {
   "cell_type": "code",
   "execution_count": null,
   "metadata": {
    "collapsed": true
   },
   "outputs": [],
   "source": [
    "posicao8"
   ]
  },
  {
   "cell_type": "code",
   "execution_count": null,
   "metadata": {
    "collapsed": true
   },
   "outputs": [],
   "source": [
    "# O método index() retorna a posição da primeira ocorrência do elemento procurado. \n",
    "posicao3 = lista.index(3)"
   ]
  },
  {
   "cell_type": "code",
   "execution_count": null,
   "metadata": {
    "collapsed": true
   },
   "outputs": [],
   "source": [
    "posicao3"
   ]
  },
  {
   "cell_type": "code",
   "execution_count": null,
   "metadata": {
    "collapsed": true
   },
   "outputs": [],
   "source": [
    "# Caso o elemento não exista, ocorre um erro\n",
    "lista.index(19)"
   ]
  },
  {
   "attachments": {},
   "cell_type": "markdown",
   "metadata": {},
   "source": [
    "#### 4.7 - insert()"
   ]
  },
  {
   "cell_type": "code",
   "execution_count": null,
   "metadata": {
    "collapsed": true
   },
   "outputs": [],
   "source": [
    "# O método insert() permite adicionar um elemento em qualquer posição da lista. \n",
    "# Caso a posição não exista, ele insere o elemento desejado na última posição\n",
    "lista.insert(2, \"ABC\")\n",
    "lista"
   ]
  },
  {
   "cell_type": "code",
   "execution_count": null,
   "metadata": {
    "collapsed": true
   },
   "outputs": [],
   "source": [
    "lista.insert(80, \"XYZ\") # caso nao exista a posição ele adicina na ultima posicao da lista\n",
    "lista"
   ]
  },
  {
   "attachments": {},
   "cell_type": "markdown",
   "metadata": {},
   "source": [
    "#### 4.8 - pop()"
   ]
  },
  {
   "cell_type": "code",
   "execution_count": null,
   "metadata": {
    "collapsed": true
   },
   "outputs": [],
   "source": [
    "# Utilizamos o método pop() quando desejamos apagar uma posição da lista\n",
    "# Removendo o elemento no índice 2\n",
    "valor = lista.pop(2)\n",
    "# Visualizando o valor retornado\n",
    "valor"
   ]
  },
  {
   "cell_type": "code",
   "execution_count": null,
   "metadata": {
    "collapsed": true
   },
   "outputs": [],
   "source": [
    "# Visualizando a lista após a remoção \n",
    "lista"
   ]
  },
  {
   "cell_type": "code",
   "execution_count": null,
   "metadata": {
    "collapsed": true
   },
   "outputs": [],
   "source": [
    "# Removendo o elemento da última posição\n",
    "lista.pop(-1)\n",
    "# Visualizando a lista após a remoção \n",
    "lista"
   ]
  },
  {
   "cell_type": "code",
   "execution_count": null,
   "metadata": {
    "collapsed": true
   },
   "outputs": [],
   "source": [
    "# O método pop() provoca um erro caso a posição não exista\n",
    "lista.pop(45)"
   ]
  },
  {
   "attachments": {},
   "cell_type": "markdown",
   "metadata": {},
   "source": [
    "#### 4.9 - remove()"
   ]
  },
  {
   "cell_type": "code",
   "execution_count": null,
   "metadata": {
    "collapsed": true
   },
   "outputs": [],
   "source": [
    "# Utilizamos o método remove() quando desejamos apagar um elemento específico da lista\n",
    "# Visualizando lista_strings antes da remoção\n",
    "lista_strings"
   ]
  },
  {
   "cell_type": "code",
   "execution_count": null,
   "metadata": {
    "collapsed": true
   },
   "outputs": [],
   "source": [
    "# Removendo \"Rodrigo\"\n",
    "lista_strings.remove(\"Edmilson\")"
   ]
  },
  {
   "cell_type": "code",
   "execution_count": null,
   "metadata": {
    "collapsed": true
   },
   "outputs": [],
   "source": [
    "# Visualizando lista_strings após a remoção\n",
    "lista_strings"
   ]
  },
  {
   "cell_type": "code",
   "execution_count": null,
   "metadata": {
    "collapsed": true
   },
   "outputs": [],
   "source": [
    "# O método remove() provoca um erro caso o elemento não exista\n",
    "lista_strings.remove(\"China\")"
   ]
  },
  {
   "attachments": {},
   "cell_type": "markdown",
   "metadata": {},
   "source": [
    "#### 4.10 - reverse()"
   ]
  },
  {
   "cell_type": "code",
   "execution_count": null,
   "metadata": {
    "collapsed": true
   },
   "outputs": [],
   "source": [
    "# Redefinindo os elementos de lista\n",
    "lista = [1, 2, 3, 4, 5, 6]\n",
    "# Visualizando a lista antes da chamada ao método reverse()\n",
    "lista"
   ]
  },
  {
   "cell_type": "code",
   "execution_count": null,
   "metadata": {
    "collapsed": true
   },
   "outputs": [],
   "source": [
    "# Invertendo os elementos da lista\n",
    "lista.reverse()"
   ]
  },
  {
   "cell_type": "code",
   "execution_count": null,
   "metadata": {
    "collapsed": true
   },
   "outputs": [],
   "source": [
    "# Visualizando a lista após chamada ao método reverse()\n",
    "lista"
   ]
  },
  {
   "attachments": {},
   "cell_type": "markdown",
   "metadata": {},
   "source": [
    "#### 4.11 - sort()"
   ]
  },
  {
   "cell_type": "code",
   "execution_count": null,
   "metadata": {
    "collapsed": true
   },
   "outputs": [],
   "source": [
    "# Redefinindo os elementos de lista\n",
    "lista = [6, 3, 1, 4, 2, 5]\n",
    "# Visualizando a lista antes da chamada ao método sort()\n",
    "lista"
   ]
  },
  {
   "cell_type": "code",
   "execution_count": null,
   "metadata": {
    "collapsed": true
   },
   "outputs": [],
   "source": [
    "# Ordenando os elementos em ordem crescente\n",
    "lista.sort()"
   ]
  },
  {
   "cell_type": "code",
   "execution_count": null,
   "metadata": {
    "collapsed": true
   },
   "outputs": [],
   "source": [
    "# Visualizando a lista após chamada ao método sort()\n",
    "lista"
   ]
  },
  {
   "cell_type": "code",
   "execution_count": null,
   "metadata": {
    "collapsed": true
   },
   "outputs": [],
   "source": [
    "# Redefinindo os elementos de lista\n",
    "lista = [6, 3, 1, 4, 2, 5]\n",
    "# Visualizando a lista antes da chamada ao método sort()\n",
    "lista"
   ]
  },
  {
   "cell_type": "code",
   "execution_count": null,
   "metadata": {
    "collapsed": true
   },
   "outputs": [],
   "source": [
    "# Ordenando os elementos em ordem decrescente\n",
    "lista.sort(reverse=True)"
   ]
  },
  {
   "cell_type": "code",
   "execution_count": null,
   "metadata": {
    "collapsed": true
   },
   "outputs": [],
   "source": [
    "# Visualizando a lista após chamada ao método sort()\n",
    "lista"
   ]
  },
  {
   "cell_type": "code",
   "execution_count": null,
   "metadata": {
    "collapsed": true
   },
   "outputs": [],
   "source": [
    "# Ordenando lista de caracteres\n",
    "lista_letras = [\"Q\", \"W\", \"E\", \"R\", \"T\", \"Y\", \"A\", \"S\", \"D\"]\n",
    "lista_letras.sort()\n",
    "lista_letras"
   ]
  },
  {
   "cell_type": "code",
   "execution_count": null,
   "metadata": {
    "collapsed": true
   },
   "outputs": [],
   "source": [
    "# Ordenando lista de strings\n",
    "lista_strings = [\"GHI\", \"XYZ\", \"DEF\", \"ABC\", \"KLM\"]\n",
    "lista_strings.sort()\n",
    "lista_strings"
   ]
  },
  {
   "cell_type": "code",
   "execution_count": null,
   "metadata": {
    "collapsed": true
   },
   "outputs": [],
   "source": [
    "# Não é possível ordenar uma lista com elementos de diferentes tipos\n",
    "lista_misturada = [2, \"ABC\", 3.14]\n",
    "lista_misturada.sort()\n",
    "lista_misturada"
   ]
  },
  {
   "attachments": {},
   "cell_type": "markdown",
   "metadata": {},
   "source": [
    "### 5. Funções aplicáveis a uma lista\n",
    "\n",
    "Função | Descrição | Exemplo\n",
    ":----- | :-------- | :------\n",
    "len | Retorna a quantidade de elementos de uma lista | `print(len(lista))`\n",
    "max  | Retorna o maior elemento de uma lista | `maior = max(lista)`\n",
    "min | Retorna o menor elemento de uma lista | `menor = min(lista)`\n",
    "sum | Retorna o somatório dos elementos de uma lista | `soma = sum(lista)`"
   ]
  },
  {
   "cell_type": "code",
   "execution_count": null,
   "metadata": {
    "collapsed": true
   },
   "outputs": [],
   "source": [
    "# Redefinindo os elementos de lista e lista_letras\n",
    "lista = [8, 3, 21, 14, 2, 45]\n",
    "lista_letras = [\"Q\", \"W\", \"E\", \"R\", \"T\", \"Y\", \"A\", \"S\", \"D\"]"
   ]
  },
  {
   "cell_type": "code",
   "execution_count": null,
   "metadata": {
    "collapsed": true
   },
   "outputs": [],
   "source": [
    "# A função len() retorna a quantidade de elementos de uma lista\n",
    "len(lista)"
   ]
  },
  {
   "cell_type": "code",
   "execution_count": null,
   "metadata": {
    "collapsed": true
   },
   "outputs": [],
   "source": [
    "# A função max() retorna o maior elemento de uma lista\n",
    "max(lista)"
   ]
  },
  {
   "cell_type": "code",
   "execution_count": null,
   "metadata": {
    "collapsed": true
   },
   "outputs": [],
   "source": [
    "max(lista_letras)"
   ]
  },
  {
   "cell_type": "code",
   "execution_count": null,
   "metadata": {
    "collapsed": true
   },
   "outputs": [],
   "source": [
    "# A função min() retorna o menor elemento de uma lista\n",
    "min(lista)"
   ]
  },
  {
   "cell_type": "code",
   "execution_count": null,
   "metadata": {
    "collapsed": true
   },
   "outputs": [],
   "source": [
    "min(lista_letras)"
   ]
  },
  {
   "cell_type": "code",
   "execution_count": null,
   "metadata": {
    "collapsed": true
   },
   "outputs": [],
   "source": [
    "# A função sum() retorna a soma dos elementos de uma lista numérica\n",
    "sum(lista)"
   ]
  }
 ],
 "metadata": {
  "kernelspec": {
   "display_name": "Python 3",
   "language": "python",
   "name": "python3"
  },
  "language_info": {
   "codemirror_mode": {
    "name": "ipython",
    "version": 3
   },
   "file_extension": ".py",
   "mimetype": "text/x-python",
   "name": "python",
   "nbconvert_exporter": "python",
   "pygments_lexer": "ipython3",
   "version": "3.11.4"
  },
  "vscode": {
   "interpreter": {
    "hash": "23f7ff7aaca6907098356dfc8e3c55a350765cf0620a4fd83dce43a62819432a"
   }
  }
 },
 "nbformat": 4,
 "nbformat_minor": 2
}
