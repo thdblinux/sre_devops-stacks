{
 "cells": [
  {
   "attachments": {},
   "cell_type": "markdown",
   "metadata": {},
   "source": [
    "# Tipos de dados\n",
    "\n",
    "Dados comuns do nosso dia-a-dia podem ser classificados em 4 tipos:\n",
    "\n",
    "                             - Inteiros: números sem casa decimal: 10, 5, -4\n",
    "                           /\n",
    "             - Numéricos - \n",
    "           /               \\\n",
    "          /                  - Reais: números com casa decima: 3.14, 1075.18, 0.0\n",
    "- Dados - \n",
    "          \\                      - Lógicos: True ou False\n",
    "           \\                   /\n",
    "             - Não numéricos - \n",
    "                               \\\n",
    "                                 - Texto (cadeia de caracteres): \"Python\", \"José Maria da Silva\", \"34567-890\"\n",
    "                                 \n",
    "O Python possui tipos primitivos para cada um desses tipos de dados. São eles o int, float, bool e o str.\n",
    "\n",
    "# Operadores aritméticos\n",
    "\n",
    "\n",
    "| Operador | Significado   | Exemplo                    |\n",
    "|:---|:---|:---|\n",
    "|     +    | Adição        | a = 3 + 2                  |\n",
    "|     -    | Subtração     | b = 7 - a                  |\n",
    "|     *    | Multiplicação | c = a * b                  |\n",
    "|     /    | Divisão       | d = 10/3                   |\n",
    "|    //    | Quociente     | e = 10//3                  |\n",
    "|     %    | Resto         | f = 10%3                   |\n",
    "|    **    | Exponenciação | g = 2 ** 3                 |\n",
    "|    **    | Radiciação    | h = 16 ** (1/2)            |\n",
    "\n",
    "## Precedência de Operadores\n",
    "\n",
    "1. Parênteses\n",
    "2. Potenciação\n",
    "3. Multiplicação e divisão\n",
    "4. Soma e substração"
   ]
  },
  {
   "cell_type": "code",
   "execution_count": null,
   "metadata": {},
   "outputs": [],
   "source": [
    "# Adição\n",
    "3 + 2"
   ]
  },
  {
   "cell_type": "code",
   "execution_count": null,
   "metadata": {},
   "outputs": [],
   "source": [
    "# Subtração\n",
    "7-5"
   ]
  },
  {
   "cell_type": "code",
   "execution_count": null,
   "metadata": {},
   "outputs": [],
   "source": [
    "# Multiplicação"
   ]
  },
  {
   "cell_type": "code",
   "execution_count": null,
   "metadata": {},
   "outputs": [],
   "source": [
    "2 * 3"
   ]
  },
  {
   "cell_type": "code",
   "execution_count": null,
   "metadata": {},
   "outputs": [],
   "source": [
    "3 * 3.5"
   ]
  },
  {
   "cell_type": "code",
   "execution_count": null,
   "metadata": {},
   "outputs": [],
   "source": [
    "4 * 5.0"
   ]
  },
  {
   "cell_type": "code",
   "execution_count": null,
   "metadata": {},
   "outputs": [],
   "source": [
    "# Divisão\n",
    "9 / 3"
   ]
  },
  {
   "cell_type": "code",
   "execution_count": null,
   "metadata": {},
   "outputs": [],
   "source": [
    "10 / 3"
   ]
  },
  {
   "cell_type": "code",
   "execution_count": null,
   "metadata": {},
   "outputs": [],
   "source": [
    "9 / 3.0"
   ]
  },
  {
   "cell_type": "code",
   "execution_count": null,
   "metadata": {},
   "outputs": [],
   "source": [
    "# Divisão - calculando o coeficiente\n",
    "5 // 2"
   ]
  },
  {
   "cell_type": "code",
   "execution_count": null,
   "metadata": {},
   "outputs": [],
   "source": [
    "5.0 // 2"
   ]
  },
  {
   "cell_type": "code",
   "execution_count": null,
   "metadata": {},
   "outputs": [],
   "source": [
    "4 // 1.2"
   ]
  },
  {
   "cell_type": "code",
   "execution_count": null,
   "metadata": {},
   "outputs": [],
   "source": [
    "# Divisão - calculando o resto\n",
    "5 % 2"
   ]
  },
  {
   "cell_type": "code",
   "execution_count": null,
   "metadata": {},
   "outputs": [],
   "source": [
    "9 % 2.5"
   ]
  },
  {
   "cell_type": "code",
   "execution_count": null,
   "metadata": {},
   "outputs": [],
   "source": [
    "# Potenciação: (1) Exponenciação e (2) Radiciação\n",
    "# (1) Exponenciação\n",
    "3 ** 2"
   ]
  },
  {
   "cell_type": "code",
   "execution_count": null,
   "metadata": {},
   "outputs": [],
   "source": [
    "2 ** 10"
   ]
  },
  {
   "cell_type": "code",
   "execution_count": null,
   "metadata": {},
   "outputs": [],
   "source": [
    "# (2) Radiciação\n",
    "# Raiz quadrada de 9\n",
    "9 ** (1/2)"
   ]
  },
  {
   "cell_type": "code",
   "execution_count": null,
   "metadata": {},
   "outputs": [],
   "source": [
    "# Raiz quadrada de 16 (elevando a 0.5 ao invés da fração 1/2)\n",
    "16 ** 0.5"
   ]
  },
  {
   "cell_type": "code",
   "execution_count": null,
   "metadata": {},
   "outputs": [],
   "source": [
    "# Raiz cúbica de 27\n",
    "27 ** (1/3)"
   ]
  },
  {
   "attachments": {},
   "cell_type": "markdown",
   "metadata": {},
   "source": [
    "# Exercício de fixação\n",
    "\n",
    "Converter as equações em expressões aritméticas válidas no Python. \n",
    "\n",
    "Eq1.\n",
    "\n",
    "$ 2+3*4/5-6 $"
   ]
  },
  {
   "cell_type": "code",
   "execution_count": 1,
   "metadata": {},
   "outputs": [
    {
     "data": {
      "text/plain": [
       "-1.5999999999999996"
      ]
     },
     "execution_count": 1,
     "metadata": {},
     "output_type": "execute_result"
    }
   ],
   "source": [
    "2 + 3 * 4 / 5 - 6"
   ]
  },
  {
   "attachments": {},
   "cell_type": "markdown",
   "metadata": {},
   "source": [
    "Agora a mesma equação acima, mas alterando a precedência para que as operações de soma e subtração sejam executadas antes das outras. _Dica: use parênteses._"
   ]
  },
  {
   "cell_type": "code",
   "execution_count": null,
   "metadata": {},
   "outputs": [],
   "source": [
    "(2 + 3) * 4 / (5 - 6)"
   ]
  },
  {
   "attachments": {},
   "cell_type": "markdown",
   "metadata": {},
   "source": [
    "Eq2. $ \\sqrt{\\frac{(2-3)^{2}}{4}}$"
   ]
  },
  {
   "cell_type": "code",
   "execution_count": null,
   "metadata": {},
   "outputs": [],
   "source": [
    "((2-3)**2/4)**(1/2)"
   ]
  },
  {
   "attachments": {},
   "cell_type": "markdown",
   "metadata": {},
   "source": [
    "# Variáveis e o comando de atribuição\n",
    "\n",
    "## Conceito de variável\n",
    "O que é uma [variável](https://pt.wikipedia.org/wiki/Variável_\\(programação\\) \"Conceito de variável no Wikipedia\")? De forma bem simples e objetiva, uma **variável** é um espaço na memória (*memória RAM*) do seu computador, utilizada por um programa para armazenar dados. \n",
    "\n",
    "\n",
    "## Identificadores\n",
    "\n",
    "Uma variável precisa necessariamente de um nome, o qual chamamos de **identificador**. Em Python, um identificador é formado apenas por letras (_de A a Z, maiúsculas ou minúsculas, sem acentuação_), dígitos (_0 a 9_) e o _underscore_ ( \\_ ). Um identificador deve começar **obrigatoriamente** com uma letra ou *underscore*, e não pode conter espaços, caracteres especiais (@, !, \\*, -, &, ˜, etc) ou caracteres acentuados (é, à, ã, ç, í, ö, ü, û, etc..). \n",
    "\n",
    "Portanto, os caracteres permitidos em identificadores são:\n",
    "\n",
    "`ABCDEFGHIJKLMNOPQRSTUVWXYZabcdefghijklmnopqrstuvwxyz_0123456789`\n",
    "\n",
    "### Identificadores válidos e inválidos\n",
    "Portanto podemos considerar os seguintes identificadores como nomes válidos para variáveis:\n",
    "\n",
    "* nome\n",
    "* Salario\n",
    "* NUMERO10\n",
    "* i23ER21\n",
    "* \\_data\\_de\\_nascimento\\_\n",
    "\n",
    "Já os identificadores abaixo não são nomes válidos para variáveis:\n",
    "* nome do aluno (*identificadores não podem conter espaços*)\n",
    "* Salário (*contém uma letra acentuada*)\n",
    "* 10NUMERO (*começa com dígito*)\n",
    "* !23ER21 (_possui um caractere especial **!**_)\n",
    "* data-de-nascimento (_possui um caractere especial **-**_)\n",
    "\n",
    "### Identificadores significativos e não significativos\n",
    "\n",
    "Além de serem válidos, como nos exemplos acima, os **identificadores** precisam ter nomes significativos. Ou seja, ao ver um identificador, o programador deve conseguir perceber que dado está armazenado na variável.\n",
    "\n",
    "Os identificadores abaixo, embora sejam válidos, não tem nomes significativos:\n",
    "\n",
    "* i23ER1\n",
    "* _123\n",
    "* BATMAN\n",
    "* T\n",
    "\n",
    "Embora todos os identificadores acima sejam válidos, não são significativos. Que informação será armazenada nas variáveis _i23ER21_, _\\_123_, _BATMAN_ ou _T_? É difícil descobrir.\n",
    "\n",
    "Os identificadores abaixo são válidos e tem nomes significativos:\n",
    "\n",
    "* salario\n",
    "* idade\n",
    "* nome\n",
    "* nota\n",
    "* complementoenderecoparacorrespondencia\n",
    "\n",
    "Uma observação importante: para que um nome seja significativo, ele não precisa ser tão longo quanto _complementoenderecoparacorrespondencia_. Por exemplo, o que a variável `dtnasc` armazena? Se você pensou em uma data de nascimento, você acertou. Não precisamos de identificadores longos como *data\\_de\\_nascimento* para criar identificadores significativos. O ideal é utilizar identificadores mais curtos e fáceis de memorizar e utilizar como _dtnasc_.\n",
    "\n",
    "Por fim, uma última informação. Python faz diferenciação entre letras maiúsculas e minúsculas em identificadores. Portanto, os identificadores _nota, Nota e NOTA_ representam três variáveis diferentes.\n",
    "\n",
    "## Criando variáveis\n",
    "\n",
    "Variáveis em Python não são **declaradas** como em outras linguagens *(ex: Pascal, C, C++, Java, C#, etc...)* mas **criadas** a partir da atribuição de um valor, uma variável, uma expressão ou um objeto. O comando de atribuição, representado pelo sinal de igualdade (**=**), é o responsável por atribuir (ou armazenar) um valor em uma variável.\n",
    "\n",
    "Vejamos agora alguns exemplos:"
   ]
  },
  {
   "cell_type": "code",
   "execution_count": null,
   "metadata": {},
   "outputs": [],
   "source": [
    "idade = 47"
   ]
  },
  {
   "cell_type": "code",
   "execution_count": null,
   "metadata": {},
   "outputs": [],
   "source": [
    "nome = 'José Maria da Silva'"
   ]
  },
  {
   "cell_type": "code",
   "execution_count": null,
   "metadata": {},
   "outputs": [],
   "source": [
    "pi = 3.14159"
   ]
  },
  {
   "cell_type": "code",
   "execution_count": null,
   "metadata": {},
   "outputs": [],
   "source": [
    "aprovado = True"
   ]
  },
  {
   "attachments": {},
   "cell_type": "markdown",
   "metadata": {},
   "source": [
    "# Verificando tipos de dados e variáveis\n",
    "\n",
    "## type()\n",
    "\n",
    "O Python fornece o método **type()** que retorna o tipo de dados e variáveis. Seu uso é muito simples, basta colocar um objeto, o nome de uma variável ou um valor entre parênteses. "
   ]
  },
  {
   "cell_type": "code",
   "execution_count": null,
   "metadata": {},
   "outputs": [],
   "source": [
    "type(idade)"
   ]
  },
  {
   "cell_type": "code",
   "execution_count": null,
   "metadata": {},
   "outputs": [],
   "source": [
    "type(2)"
   ]
  },
  {
   "cell_type": "code",
   "execution_count": null,
   "metadata": {},
   "outputs": [],
   "source": [
    "type(nome)"
   ]
  },
  {
   "cell_type": "code",
   "execution_count": null,
   "metadata": {},
   "outputs": [],
   "source": [
    "type('python')"
   ]
  },
  {
   "cell_type": "code",
   "execution_count": null,
   "metadata": {},
   "outputs": [],
   "source": [
    "type(pi)"
   ]
  },
  {
   "cell_type": "code",
   "execution_count": null,
   "metadata": {},
   "outputs": [],
   "source": [
    "type(aprovado)"
   ]
  },
  {
   "attachments": {},
   "cell_type": "markdown",
   "metadata": {},
   "source": [
    "## isinstance()\n",
    "\n",
    "Além do método **type()** que retorna o tipo de um objeto, Python fornece o método **isinstance()** que permite verificar se um objeto ou variável (primeiro parâmetro da função) é uma instância de uma classe ou é de um determinado tipo."
   ]
  },
  {
   "cell_type": "code",
   "execution_count": 3,
   "metadata": {},
   "outputs": [
    {
     "data": {
      "text/plain": [
       "True"
      ]
     },
     "execution_count": 3,
     "metadata": {},
     "output_type": "execute_result"
    }
   ],
   "source": [
    "isinstance(5, int)"
   ]
  },
  {
   "cell_type": "code",
   "execution_count": null,
   "metadata": {},
   "outputs": [],
   "source": [
    "isinstance(5, str)"
   ]
  },
  {
   "cell_type": "code",
   "execution_count": null,
   "metadata": {},
   "outputs": [],
   "source": [
    "isinstance(5, float)"
   ]
  },
  {
   "cell_type": "code",
   "execution_count": null,
   "metadata": {},
   "outputs": [],
   "source": [
    "isinstance('Python', str)"
   ]
  },
  {
   "cell_type": "code",
   "execution_count": null,
   "metadata": {},
   "outputs": [],
   "source": [
    "isinstance('Python', int)"
   ]
  },
  {
   "attachments": {},
   "cell_type": "markdown",
   "metadata": {},
   "source": [
    "# Imprimindo valores e variáveis\n",
    "\n",
    "Python fornece o método print para impressão de valores e variáveis. \n",
    "\n",
    "Algumas células acima, nós criamos as variáveis _nome, idade, pi_ e _aprovado_ e usamos o comando de atribuição para armazenar alguns valores. Que tal imprimir esse valores?"
   ]
  },
  {
   "cell_type": "code",
   "execution_count": null,
   "metadata": {},
   "outputs": [],
   "source": [
    "print('nome')"
   ]
  },
  {
   "attachments": {},
   "cell_type": "markdown",
   "metadata": {},
   "source": [
    "Perceba que ao executar o comando *print('nome')*, a palavra **nome** foi impressa."
   ]
  },
  {
   "cell_type": "code",
   "execution_count": null,
   "metadata": {},
   "outputs": [],
   "source": [
    "print(nome)"
   ]
  },
  {
   "attachments": {},
   "cell_type": "markdown",
   "metadata": {},
   "source": [
    "Já nesse exemplo, ao executar o comando *print(nome)*, o resultado apresentado foi o nome `José Maria da Silva`.\n",
    "\n",
    "A diferença é que no primeiro exemplo pedimos para o Python imprimir o **texto** `'nome'`, enquanto que no segundo pedimos ao Python para imprimir o conteúdo da variável `nome`. A diferença está no apóstrofo (ou, como alguns costumam chamar, aspas simples). A presença de apóstrofos indica um texto, enquanto que a falta deles indica que se deseja imprimir uma variável."
   ]
  },
  {
   "cell_type": "code",
   "execution_count": null,
   "metadata": {},
   "outputs": [],
   "source": [
    "print(idade)"
   ]
  },
  {
   "cell_type": "code",
   "execution_count": null,
   "metadata": {},
   "outputs": [],
   "source": [
    "print(pi)"
   ]
  },
  {
   "cell_type": "code",
   "execution_count": null,
   "metadata": {},
   "outputs": [],
   "source": [
    "print(aprovado)"
   ]
  },
  {
   "attachments": {},
   "cell_type": "markdown",
   "metadata": {},
   "source": [
    "Quando usamos o método print com uma variável entre parênteses, ele imprime o conteúdo dessa variável, ou seja, o valor que está armazenado dentro dela.\n",
    "\n",
    "Nós podemos montar mensagens um pouco mais sofisticadas juntando texto e variáveis em um único comando print(). Para isso, vamos usar o que chamamos de concatenação, ou seja, vamos juntar texto e variáveis com o símbolo +. Veja os exemplos abaixo."
   ]
  },
  {
   "cell_type": "code",
   "execution_count": null,
   "metadata": {},
   "outputs": [],
   "source": [
    "print('Nome: '+nome)"
   ]
  },
  {
   "cell_type": "code",
   "execution_count": null,
   "metadata": {},
   "outputs": [],
   "source": [
    "# Podemos também usar a vírgula ao invés do símbolo +\n",
    "print('Nome:',nome)"
   ]
  },
  {
   "cell_type": "code",
   "execution_count": null,
   "metadata": {},
   "outputs": [],
   "source": [
    "# A forma mais utilizada na versão 3 do Python, entretanto, é usar o método format.\n",
    "print('Meu nome é {} e tenho {} anos'.format(nome, idade))"
   ]
  },
  {
   "attachments": {},
   "cell_type": "markdown",
   "metadata": {},
   "source": [
    "# Transformando equações matemáticas em expressões aritméticas\n",
    "\n",
    "### Cálculo da área e perímetro do retângulo\n",
    "\n",
    "$area = base \\times altura$\n",
    "\n",
    "$ perímetro = 2 \\times (base + altura)$"
   ]
  },
  {
   "cell_type": "code",
   "execution_count": null,
   "metadata": {},
   "outputs": [],
   "source": [
    "base = 7\n",
    "altura = 8\n",
    "area = base * altura\n",
    "perimetro = 2 * (base + altura)\n",
    "print(area)"
   ]
  },
  {
   "attachments": {},
   "cell_type": "markdown",
   "metadata": {},
   "source": [
    "### Cálculo da área e comprimento da circunferência\n",
    "\n",
    "$ area = \\pi \\times raio^{2} $\n",
    "\n",
    "$ comprimento = 2 \\times \\pi * raio $"
   ]
  },
  {
   "cell_type": "code",
   "execution_count": null,
   "metadata": {},
   "outputs": [],
   "source": [
    "raio = 2\n",
    "area = 3.14159 * raio ** 2\n",
    "comprimento = 2 * 3.14159 * raio\n",
    "print('Para o raio {}, a área = {} e o comprimento = {}'.format(raio, area, comprimento))"
   ]
  },
  {
   "attachments": {},
   "cell_type": "markdown",
   "metadata": {},
   "source": [
    "### Cálculo da distância euclidiana entre 2 pontos no plano cartesiano\n",
    "\n",
    "$ distância = \\sqrt{(x_{1}-x_{2})^{2} + (y_{1}-y_{2})^{2}} $"
   ]
  },
  {
   "cell_type": "code",
   "execution_count": null,
   "metadata": {},
   "outputs": [],
   "source": [
    "# Calculando a distância entre os pontos (3,4) e (5,6)\n",
    "x1 = 3\n",
    "y1 = 4\n",
    "x2 = 5\n",
    "y2 = 6\n",
    "dist = ((x1-x2)**2 + (y1-y2)**2)**(1/2)\n",
    "print('A distância entre os pontos({},{}) e ({},{}) = {}.'.format(x1, y1, x2, y2, dist))"
   ]
  },
  {
   "attachments": {},
   "cell_type": "markdown",
   "metadata": {},
   "source": [
    "### Cálculo do delta e das raízes de uma equação do segundo grau\n",
    "\n",
    "$ \\Delta = b^{2} - 4ac $\n",
    "\n",
    "$ x = \\frac{-b \\pm \\sqrt{\\Delta}}{2a} $"
   ]
  },
  {
   "cell_type": "code",
   "execution_count": null,
   "metadata": {},
   "outputs": [],
   "source": [
    "# Calculando o Delta e raízes x1 e x2 para a equação y = x^2 - 5x + 6\n",
    "a = 1\n",
    "b = -5\n",
    "c = 6\n",
    "delta = b**2 - 4*a*c\n",
    "x1 = (-b+delta**(1/2))/(2*a)\n",
    "x2 = (-b-delta**(1/2))/(2*a)\n",
    "print('Delta = {}, x1 = {} e x2 = {}'.format(delta, x1, x2))"
   ]
  },
  {
   "attachments": {},
   "cell_type": "markdown",
   "metadata": {},
   "source": [
    "### Cálculo da área do setor circular (fatia de um círculo)\n",
    "\n",
    "$ S = \\frac{\\alpha \\pi r^{2}}{360} $"
   ]
  },
  {
   "cell_type": "code",
   "execution_count": null,
   "metadata": {},
   "outputs": [],
   "source": [
    "# Para um círculo de raio 15, calcular a área de uma fatia com angulo = 45 graus (um pizza)\n",
    "# Isso equivale a calcular a área de uma das 8 fatias de uma pizza com 30 cm de diâmetro\n",
    "a = 45\n",
    "r = 15\n",
    "s = (a * 3.14159 * r ** 2)/360\n",
    "print('Num círculo de raio {}cm, o setor circular de ângulo {} terá área = {} cm^2.'.format(r,a,s))"
   ]
  },
  {
   "cell_type": "code",
   "execution_count": null,
   "metadata": {},
   "outputs": [],
   "source": []
  }
 ],
 "metadata": {
  "kernelspec": {
   "display_name": "Python 3",
   "language": "python",
   "name": "python3"
  },
  "language_info": {
   "codemirror_mode": {
    "name": "ipython",
    "version": 3
   },
   "file_extension": ".py",
   "mimetype": "text/x-python",
   "name": "python",
   "nbconvert_exporter": "python",
   "pygments_lexer": "ipython3",
   "version": "3.11.2"
  }
 },
 "nbformat": 4,
 "nbformat_minor": 2
}
