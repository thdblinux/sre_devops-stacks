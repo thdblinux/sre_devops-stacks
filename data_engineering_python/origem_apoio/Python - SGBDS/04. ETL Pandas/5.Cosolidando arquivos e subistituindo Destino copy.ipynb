{
 "cells": [
  {
   "cell_type": "code",
   "execution_count": 25,
   "metadata": {},
   "outputs": [],
   "source": [
    "import pandas as pd\n",
    "import os"
   ]
  },
  {
   "cell_type": "code",
   "execution_count": 26,
   "metadata": {},
   "outputs": [],
   "source": [
    "\n",
    "# Diretório dos arquivos Excel\n",
    "diretorio = (r\"K:\\Python\\Arquivos\\Origem\\arquivos_excel\\Consolidar\")\n",
    "\n",
    "# Lista para armazenar os dados dos arquivos\n",
    "dados = []\n",
    "\n",
    "# Iterar sobre os arquivos Excel no diretório\n",
    "for arquivo in os.listdir(diretorio):\n",
    "    if arquivo.endswith('.xlsx'):\n",
    "        caminho_arquivo = os.path.join(diretorio, arquivo)\n",
    "        df = pd.read_excel(caminho_arquivo)\n",
    "        dados.append(df)\n",
    "\n",
    "# Consolidar os dados em um único DataFrame\n",
    "consolidado = pd.concat(dados)\n",
    "#consolidado\n",
    "\n"
   ]
  },
  {
   "attachments": {},
   "cell_type": "markdown",
   "metadata": {},
   "source": [
    "##### Verificar se arquivo ja existe e excluir \n"
   ]
  },
  {
   "cell_type": "code",
   "execution_count": 27,
   "metadata": {},
   "outputs": [],
   "source": [
    "# Caminho da pasta onde será salvo o arquivo Excel\n",
    "pasta_destino = r'K:\\\\Python\\Arquivos\\\\Origem\\\\arquivos_excel\\\\Consolidar\\\\Arquivos consolidados\\\\'\n",
    "\n",
    "# Nome do arquivo Excel (variável)\n",
    "nome_arquivo = 'VendasGeraldelete.xlsx'\n",
    "\n",
    "# Caminho completo do arquivo Excel\n",
    "Caminho_Completo = pasta_destino + nome_arquivo \n",
    "\n",
    "# Verificar se o arquivo Excel já existe\n",
    "if os.path.exists(Caminho_Completo):\n",
    "    # Excluir o arquivo existente\n",
    "    os.remove(Caminho_Completo)\n",
    "    #print(f\"Arquivo {nome_arquivo} existente foi excluído.\")\n",
    "\n",
    "\n",
    "# Salvar o DataFrame como arquivo Excel\n",
    "consolidado.to_excel(Caminho_Completo, index=False)\n"
   ]
  }
 ],
 "metadata": {
  "kernelspec": {
   "display_name": "Python 3",
   "language": "python",
   "name": "python3"
  },
  "language_info": {
   "codemirror_mode": {
    "name": "ipython",
    "version": 3
   },
   "file_extension": ".py",
   "mimetype": "text/x-python",
   "name": "python",
   "nbconvert_exporter": "python",
   "pygments_lexer": "ipython3",
   "version": "3.11.4"
  },
  "orig_nbformat": 4
 },
 "nbformat": 4,
 "nbformat_minor": 2
}
