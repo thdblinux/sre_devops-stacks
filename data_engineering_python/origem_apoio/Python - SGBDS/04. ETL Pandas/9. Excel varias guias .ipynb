{
 "cells": [
  {
   "cell_type": "code",
   "execution_count": null,
   "metadata": {},
   "outputs": [],
   "source": [
    "import pandas as pd"
   ]
  },
  {
   "cell_type": "code",
   "execution_count": null,
   "metadata": {},
   "outputs": [],
   "source": [
    "# extração padrão\n",
    "df = pd.read_excel(r\"K:\\Python\\Arquivos\\Origem\\arquivos_excel\\Caquinha.xlsx\") \n",
    "display(df)"
   ]
  },
  {
   "cell_type": "code",
   "execution_count": null,
   "metadata": {},
   "outputs": [],
   "source": [
    "# extração selecionando guia espesifica (sheet_name + nome da guia excel)\n",
    "df = pd.read_excel(r\"K:\\Python\\Arquivos\\Origem\\arquivos_excel\\Caquinha.xlsx\" ,sheet_name='Produto (2)' ) \n",
    "display(df)"
   ]
  },
  {
   "cell_type": "code",
   "execution_count": null,
   "metadata": {},
   "outputs": [],
   "source": [
    "# extração selecionando guia espesifica (sheet_name + nome da guia excel)\n",
    "TabelaProduto = pd.read_excel(r\"K:\\Python\\Arquivos\\Origem\\arquivos_excel\\Caquinha.xlsx\" , sheet_name= 'Planilha2')\n",
    "display(TabelaProduto)"
   ]
  },
  {
   "cell_type": "code",
   "execution_count": null,
   "metadata": {},
   "outputs": [],
   "source": [
    "# extração selecionando guia espesifica + pula linha (sheet_name + nome da guia excel + skiprows pula quantas linhas quiser )\n",
    "#skiprows pula linha\n",
    "tabelaProduto = pd.read_excel(r\"K:\\Python\\Arquivos\\Origem\\arquivos_excel\\Caquinha.xlsx\" , sheet_name= 'Planilha2',skiprows=3)\n",
    "display(tabelaProduto)"
   ]
  },
  {
   "cell_type": "code",
   "execution_count": null,
   "metadata": {},
   "outputs": [],
   "source": [
    "# escolhendo coluns espefificas (usecols  )\n",
    "tabelaProduto2 = pd.read_excel(r\"K:\\Python\\Arquivos\\Origem\\arquivos_excel\\Caquinha.xlsx\" , sheet_name= 'Vendas')\n",
    "display(tabelaProduto2)"
   ]
  },
  {
   "cell_type": "code",
   "execution_count": null,
   "metadata": {},
   "outputs": [],
   "source": [
    "# escolhendo coluns espefificas (usecols)\n",
    "produto = pd.read_excel(r\"K:\\Python\\Arquivos\\Origem\\arquivos_excel\\Caquinha.xlsx\" , sheet_name= 'Vendas',usecols='A:B')\n",
    "display(produto)"
   ]
  },
  {
   "cell_type": "code",
   "execution_count": null,
   "metadata": {},
   "outputs": [],
   "source": [
    "# escolhendo coluns espefificas (usecols  )\n",
    "Loja = pd.read_excel(r\"K:\\Python\\Arquivos\\Origem\\arquivos_excel\\Caquinha.xlsx\" , sheet_name= 'Vendas',usecols= 'F:G')\n",
    "display(Loja)"
   ]
  },
  {
   "cell_type": "code",
   "execution_count": null,
   "metadata": {},
   "outputs": [],
   "source": [
    "# escolhendo coluns espefificas (usecols  )\n",
    "tabelaProduto2 = pd.read_excel(r\"K:\\Python\\Arquivos\\Origem\\arquivos_excel\\Caquinha.xlsx\" , sheet_name= 'Vendas')\n",
    "display(tabelaProduto2)"
   ]
  },
  {
   "cell_type": "code",
   "execution_count": null,
   "metadata": {},
   "outputs": [],
   "source": [
    "# escolhendo coluns espefificas (usecols)  + usando uma lista \n",
    "Produto = pd.read_excel(r\"K:\\Python\\Arquivos\\Origem\\arquivos_excel\\Caquinha.xlsx\" , sheet_name= 'Vendas',usecols= [0,1,2])\n",
    "display(Produto)"
   ]
  },
  {
   "cell_type": "code",
   "execution_count": null,
   "metadata": {},
   "outputs": [],
   "source": [
    "# escolhendo coluns espefificas (usecols)  + usando uma lista \n",
    "Loja = pd.read_excel(r\"K:\\Python\\Arquivos\\Origem\\arquivos_excel\\Caquinha.xlsx\" , sheet_name= 'Vendas',usecols= [5,6,7])\n",
    "display(Loja)"
   ]
  },
  {
   "cell_type": "code",
   "execution_count": null,
   "metadata": {},
   "outputs": [],
   "source": [
    "# escolhendo coluns espefificas    usecols + skiprows\n",
    "planilha4 = pd.read_excel(r\"K:\\Python\\Arquivos\\Origem\\arquivos_excel\\Caquinha.xlsx\" , sheet_name= 'Planilha4')\n",
    "display(planilha4)"
   ]
  },
  {
   "cell_type": "code",
   "execution_count": null,
   "metadata": {},
   "outputs": [],
   "source": [
    "# escolhendo coluns espefificas    usecols + skiprows\n",
    "planilha4 = pd.read_excel(r\"K:\\Python\\Arquivos\\Origem\\arquivos_excel\\Caquinha.xlsx\" , sheet_name= \"Planilha4\",usecols=\"g:h\",skiprows=7)\n",
    "display(planilha4)"
   ]
  },
  {
   "cell_type": "code",
   "execution_count": null,
   "metadata": {},
   "outputs": [],
   "source": [
    "#skiprows = pula linha \n",
    "#nrows = seleciona até a quantidade de linhas que voce quiser\n",
    "LojaProduto = pd.read_excel(r\"K:\\Python\\Arquivos\\Origem\\arquivos_excel\\Caquinha.xlsx\" , sheet_name= 'Produto - Loja')\n",
    "display(LojaProduto)"
   ]
  },
  {
   "cell_type": "code",
   "execution_count": null,
   "metadata": {},
   "outputs": [],
   "source": [
    "#skiprows = pula linha \n",
    "#nrows = seleciona até a quantidade de linhas que voce quiser \n",
    "produto = pd.read_excel(r\"K:\\Python\\Arquivos\\Origem\\arquivos_excel\\Caquinha.xlsx\" , sheet_name= 'Produto - Loja' , nrows= 11)\n",
    "display(produto)"
   ]
  },
  {
   "cell_type": "code",
   "execution_count": null,
   "metadata": {},
   "outputs": [],
   "source": [
    "#skiprows = pula linha \n",
    "#nrows = seleciona até a quantidade de linhas que voce quiser \n",
    "Loja = pd.read_excel(r\"K:\\Python\\Arquivos\\Origem\\arquivos_excel\\Caquinha.xlsx\" , sheet_name= 'Produto - Loja' , skiprows= 13)\n",
    "display(Loja)"
   ]
  },
  {
   "cell_type": "code",
   "execution_count": null,
   "metadata": {},
   "outputs": [],
   "source": [
    "Loja = pd.read_excel(r\"K:\\Python\\Arquivos\\Origem\\arquivos_excel\\Caquinha.xlsx\" , sheet_name= 'Produto - Loja' ,usecols='G:H', skiprows=13)\n",
    "display(Loja)"
   ]
  },
  {
   "cell_type": "code",
   "execution_count": null,
   "metadata": {},
   "outputs": [],
   "source": [
    "Loja = pd.read_excel(r\"K:\\Python\\Arquivos\\Origem\\arquivos_excel\\Caquinha.xlsx\" , sheet_name= 'Produto - Loja' ,usecols='G:H', nrows=11)\n",
    "display(Loja)"
   ]
  }
 ],
 "metadata": {
  "kernelspec": {
   "display_name": "Python 3",
   "language": "python",
   "name": "python3"
  },
  "language_info": {
   "codemirror_mode": {
    "name": "ipython",
    "version": 3
   },
   "file_extension": ".py",
   "mimetype": "text/x-python",
   "name": "python",
   "nbconvert_exporter": "python",
   "pygments_lexer": "ipython3",
   "version": "3.11.4"
  },
  "orig_nbformat": 4
 },
 "nbformat": 4,
 "nbformat_minor": 2
}
