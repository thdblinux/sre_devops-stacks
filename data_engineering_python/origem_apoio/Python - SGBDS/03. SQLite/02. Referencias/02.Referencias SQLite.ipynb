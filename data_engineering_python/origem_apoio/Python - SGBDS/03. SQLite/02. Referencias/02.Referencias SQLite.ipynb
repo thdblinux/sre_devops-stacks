{
 "cells": [
  {
   "cell_type": "markdown",
   "metadata": {},
   "source": [
    "SQLiteStudio\n",
    "https://sqlitestudio.pl/\n",
    "\n",
    "wikipedia\n",
    "https://pt.wikipedia.org/wiki/SQLite\n",
    "\n",
    "SQLite Site Oficial\n",
    "https://www.sqlite.org/\n",
    "\n",
    "\n",
    "Documentação Python \n",
    "https://docs.python.org/pt-br/3/library/sqlite3.html\n",
    "\n",
    "Manual do usuario \n",
    "https://github.com/pawelsalawa/sqlitestudio/wiki/User_Manual\n",
    "\n",
    "Documentação SQLITE\n",
    "https://sqlite.org/lang.html"
   ]
  }
 ],
 "metadata": {
  "kernelspec": {
   "display_name": "sgbds",
   "language": "python",
   "name": "python3"
  },
  "language_info": {
   "codemirror_mode": {
    "name": "ipython",
    "version": 3
   },
   "file_extension": ".py",
   "mimetype": "text/x-python",
   "name": "python",
   "nbconvert_exporter": "python",
   "pygments_lexer": "ipython3",
   "version": "3.11.4"
  }
 },
 "nbformat": 4,
 "nbformat_minor": 2
}
