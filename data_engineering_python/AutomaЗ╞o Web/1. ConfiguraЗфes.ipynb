{
 "cells": [
  {
   "cell_type": "markdown",
   "metadata": {},
   "source": [
    "https://selenium-python.readthedocs.io/index.html"
   ]
  },
  {
   "cell_type": "code",
   "execution_count": null,
   "metadata": {},
   "outputs": [],
   "source": [
    "\"\"\"\n",
    "Drivers\n",
    "Chrome:\thttps://sites.google.com/chromium.org/driver/\n",
    "Edge:\thttps://developer.microsoft.com/en-us/microsoft-edge/tools/webdriver/\n",
    "Firefox:\thttps://github.com/mozilla/geckodriver/releases\n",
    "Safari:\thttps://webkit.org/blog/6900/webdriver-support-in-safari-10/\n",
    "\n",
    "\"\"\""
   ]
  },
  {
   "cell_type": "code",
   "execution_count": null,
   "metadata": {},
   "outputs": [],
   "source": [
    "#pip install selenium\n",
    "#pip install beautifulsoup4\n",
    "#pip install lxml\n",
    "#pip install webdriver-manager\n",
    "#pip install --upgrade selenium"
   ]
  },
  {
   "cell_type": "markdown",
   "metadata": {},
   "source": [
    "Webdriver Manual"
   ]
  },
  {
   "cell_type": "markdown",
   "metadata": {},
   "source": [
    "https://chromedriver.chromium.org/downloads"
   ]
  },
  {
   "cell_type": "code",
   "execution_count": 1,
   "metadata": {},
   "outputs": [
    {
     "name": "stderr",
     "output_type": "stream",
     "text": [
      "C:\\Users\\edmil\\AppData\\Local\\Temp\\ipykernel_23612\\1542188768.py:7: DeprecationWarning: executable_path has been deprecated, please pass in a Service object\n",
      "  Navegador = webdriver.Chrome(executable_path=CaminhoWD)\n"
     ]
    }
   ],
   "source": [
    "from selenium import webdriver\n",
    "\n",
    "# Caminho para o executável do ChromeDriver\n",
    "CaminhoWD = r\"C:\\Users\\edmil\\Downloads\\chromedriver_win32\\chromedriver.exe\"\n",
    "\n",
    "# Inicializar o navegador Chrome\n",
    "Navegador = webdriver.Chrome(executable_path=CaminhoWD)\n",
    "\n",
    "# Exemplo: abrindo paginas Web\n",
    "Link= \"https://www.google.com.br\"\n",
    "Navegador.get(Link)\n",
    "# Fechar o navegador\n",
    "# Navegador.quit()\n",
    "\n"
   ]
  },
  {
   "cell_type": "code",
   "execution_count": null,
   "metadata": {},
   "outputs": [],
   "source": [
    "#Navegador.quit()"
   ]
  },
  {
   "cell_type": "markdown",
   "metadata": {},
   "source": [
    "Web Driver Automatico"
   ]
  },
  {
   "cell_type": "markdown",
   "metadata": {},
   "source": [
    "Instalação Automática: A biblioteca verifica a versão do Google Chrome instalada em sua máquina e faz o download e a instalação automática da versão correspondente do ChromeDriver. Isso garante que o ChromeDriver seja compatível com a versão do Chrome em execução.\n",
    "\n",
    "Compatibilidade Garantida: Você não precisa se preocupar em encontrar e baixar manualmente a versão correta do ChromeDriver. A biblioteca cuida disso automaticamente para você, garantindo que você tenha a versão apropriada do ChromeDriver.\n",
    "\n",
    "Facilidade de Uso: Com apenas uma linha de código, você pode configurar e instalar o ChromeDriver usando a biblioteca. Isso torna o processo de configuração mais simples e rápido.\n",
    "\n",
    "Manutenção Simplificada: À medida que você atualiza o Google Chrome em sua máquina, a biblioteca acompanha automaticamente as mudanças e ajusta o ChromeDriver, se necessário, para que você não precise se preocupar com a compatibilidade.\n",
    "\n",
    "Redução de Erros: A utilização da biblioteca evita erros de configuração manual, como usar uma versão incompatível do ChromeDriver com a versão do Google Chrome. Isso ajuda a melhorar a estabilidade de seus scripts de automação."
   ]
  },
  {
   "cell_type": "code",
   "execution_count": null,
   "metadata": {},
   "outputs": [],
   "source": [
    "#pip install chromedriver-autoinstaller\n",
    "\n",
    "from selenium import webdriver\n",
    "import chromedriver_autoinstaller\n",
    "\n",
    "# Instalação automática do ChromeDriver (commicação entre cod e navegador)\n",
    "chromedriver_autoinstaller.install()\n",
    "\n",
    "# Inicializar o navegador Chrome\n",
    "Navegador = webdriver.Chrome()"
   ]
  },
  {
   "cell_type": "code",
   "execution_count": null,
   "metadata": {},
   "outputs": [],
   "source": [
    "# Exemplo: abrindo paginas Web\n",
    "Link = \"https://www.google.com.br\"\n",
    "Navegador.get(Link)"
   ]
  },
  {
   "cell_type": "code",
   "execution_count": null,
   "metadata": {},
   "outputs": [],
   "source": [
    "Navegador.quit()"
   ]
  }
 ],
 "metadata": {
  "kernelspec": {
   "display_name": "Python 3",
   "language": "python",
   "name": "python3"
  },
  "language_info": {
   "codemirror_mode": {
    "name": "ipython",
    "version": 3
   },
   "file_extension": ".py",
   "mimetype": "text/x-python",
   "name": "python",
   "nbconvert_exporter": "python",
   "pygments_lexer": "ipython3",
   "version": "3.11.4"
  },
  "orig_nbformat": 4,
  "vscode": {
   "interpreter": {
    "hash": "a57426fb5a895e7994acdccb4105a3d2c9b529c888313fada7d835b1a6a6bb78"
   }
  }
 },
 "nbformat": 4,
 "nbformat_minor": 2
}
