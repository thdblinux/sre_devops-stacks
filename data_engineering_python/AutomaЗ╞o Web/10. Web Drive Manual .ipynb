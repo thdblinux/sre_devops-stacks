{
 "cells": [
  {
   "cell_type": "code",
   "execution_count": null,
   "metadata": {},
   "outputs": [],
   "source": [
    "#pip install selenium\n",
    "#pip install beautifulsoup4\n",
    "# pip install lxml\n",
    "#pip install webdriver-manager\n",
    "#pip install tqdm --upgrade\n",
    "# pip install --upgrade selenium\n",
    "\n",
    "# link web drive https://chromedriver.chromium.org/downloads"
   ]
  },
  {
   "cell_type": "code",
   "execution_count": null,
   "metadata": {},
   "outputs": [],
   "source": [
    "\n",
    "from selenium import webdriver\n",
    "from selenium.webdriver.chrome.service import Service as ChromeService\n",
    "from selenium.webdriver.chrome.options import Options as ChromeOptions\n",
    "from selenium.webdriver.common.by import By \n",
    "from time import sleep\n",
    "\n",
    "# Configurar o caminho para o ChromeDriver na pasta de rede comando do google web\n",
    "chrome_driver = r\"C:\\Users\\edmil\\Downloads\\chromedriver_win32\\chromedriver.exe\"\n",
    "\n",
    "# Configurar as preferências do Chrome para salvar automaticamente os downloads na pasta de destino\n",
    "pasta_destino = r\"C:\\Users\\edmil\\OneDrive\\Documentos\\Dpersonalizado\"\n",
    "\n",
    "preferencias = {\n",
    "    \"download.default_directory\": pasta_destino\n",
    "    \n",
    "}\n",
    "\n",
    "# Configurar as opções do Chrome\n",
    "options = ChromeOptions()\n",
    "options.add_experimental_option(\"prefs\", preferencias) # adicinar preferencias \n",
    "options.headless = False                               # Mostrar navegador ao executar automação headless = False   mostrar navegador headless = True Não mostrar o navegador   \n",
    "\n",
    "# Configurar serviço do ChromeDriver\n",
    "chrome_service = ChromeService(executable_path=chrome_driver)\n",
    "\n",
    "# Instanciar o navegador Chrome passando o Service e as opções\n",
    "navegador = webdriver.Chrome(service=chrome_service, options=options)\n",
    "\n",
    "# Agora o Chrome será iniciado a partir do executável do Chrome Portable e controlado pelo ChromeDriver.\n",
    "Link = \"https://rpachallenge.com/\"\n",
    "navegador.get(Link)\n",
    "\n"
   ]
  }
 ],
 "metadata": {
  "kernelspec": {
   "display_name": "Python 3",
   "language": "python",
   "name": "python3"
  },
  "language_info": {
   "codemirror_mode": {
    "name": "ipython",
    "version": 3
   },
   "file_extension": ".py",
   "mimetype": "text/x-python",
   "name": "python",
   "nbconvert_exporter": "python",
   "pygments_lexer": "ipython3",
   "version": "3.11.4"
  },
  "orig_nbformat": 4,
  "vscode": {
   "interpreter": {
    "hash": "65e8fd229e2741703fd844d86403b1db819ae136a2b123b30ee92ea94ff4db91"
   }
  }
 },
 "nbformat": 4,
 "nbformat_minor": 2
}
