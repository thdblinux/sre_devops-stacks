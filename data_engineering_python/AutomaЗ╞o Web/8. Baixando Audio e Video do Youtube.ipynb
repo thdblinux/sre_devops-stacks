{
 "cells": [
  {
   "cell_type": "code",
   "execution_count": null,
   "metadata": {},
   "outputs": [],
   "source": [
    "\"\"\"\n",
    "\n",
    "Vídeo totalmente instruncional para automação WEB\n",
    "OBS: Audio e video ultilizado nas aulas são de minha autoria \n",
    "Vou Mostrar isso ao decorrer da Aula\n",
    "\n",
    "\"\"\""
   ]
  },
  {
   "cell_type": "code",
   "execution_count": null,
   "metadata": {},
   "outputs": [],
   "source": [
    "#pip install pytube     #no terminal\n",
    "#!pip install pytube    #direto no código\n",
    "#!pip install --u pytube"
   ]
  },
  {
   "cell_type": "markdown",
   "metadata": {},
   "source": [
    "Formato Audio mp3"
   ]
  },
  {
   "cell_type": "code",
   "execution_count": null,
   "metadata": {},
   "outputs": [],
   "source": [
    "from pytube import YouTube\n",
    "\n",
    "#onde vou salvar\n",
    "pasta=r\"C:\\Users\\edmil\\Downloads\"\n",
    "\n",
    "# URL do vídeo do YouTube\n",
    "url = 'urldovideo'\n",
    "\n",
    "# Crie um objeto YouTube\n",
    "yt = YouTube(url)\n",
    "\n",
    "# Filtro melhor audio\n",
    "audio_stream = yt.streams.filter(only_audio=True).first()\n",
    "\n",
    "# Nome personalizado para o arquivo de áudio\n",
    "nome_arquivo = \"teste.mp3\"\n",
    "\n",
    "# Baixe o áudio\n",
    "audio_stream.download(output_path=pasta ,  filename=nome_arquivo)\n",
    "\n",
    "print(\"Áudio baixado com sucesso!\")\n"
   ]
  },
  {
   "cell_type": "markdown",
   "metadata": {},
   "source": [
    "Baixando Video"
   ]
  },
  {
   "cell_type": "code",
   "execution_count": null,
   "metadata": {},
   "outputs": [],
   "source": [
    "from pytube import YouTube\n",
    "\n",
    "# Pasta onde você vai salvar o vídeo\n",
    "pasta = r\"C:\\Users\\edmil\\Downloads\"\n",
    "\n",
    "# URL do vídeo do YouTube\n",
    "url = 'urldovideo'\n",
    "\n",
    "# Crie um objeto YouTube\n",
    "yt = YouTube(url)\n",
    "\n",
    "# Escolha a resolução do vídeo desejada (por exemplo, 720p)\n",
    "resolucao_desejada = '720p'\n",
    "\n",
    "# Filtre as streams de vídeo por resolução e obtenha a primeira correspondente\n",
    "video_stream = yt.streams.filter(res=resolucao_desejada, file_extension='mp4').first()\n",
    "\n",
    "# Nome personalizado para o arquivo de vídeo\n",
    "nome_arquivo = \"testevideo.mp4\"\n",
    "\n",
    "# Baixe o vídeo com o nome personalizado\n",
    "video_stream.download(output_path=pasta, filename=nome_arquivo)\n",
    "\n",
    "print(\"Video baixado com sucesso!\")\n"
   ]
  }
 ],
 "metadata": {
  "kernelspec": {
   "display_name": "Python 3",
   "language": "python",
   "name": "python3"
  },
  "language_info": {
   "codemirror_mode": {
    "name": "ipython",
    "version": 3
   },
   "file_extension": ".py",
   "mimetype": "text/x-python",
   "name": "python",
   "nbconvert_exporter": "python",
   "pygments_lexer": "ipython3",
   "version": "3.11.4"
  },
  "orig_nbformat": 4
 },
 "nbformat": 4,
 "nbformat_minor": 2
}
