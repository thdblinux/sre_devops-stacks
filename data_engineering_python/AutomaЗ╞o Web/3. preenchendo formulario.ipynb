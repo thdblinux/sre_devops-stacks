{
 "cells": [
  {
   "cell_type": "markdown",
   "metadata": {},
   "source": [
    "https://forms.gle/sG2dD6N6cgGyqKso7"
   ]
  },
  {
   "cell_type": "code",
   "execution_count": 38,
   "metadata": {},
   "outputs": [
    {
     "data": {
      "text/plain": [
       "'c:\\\\Users\\\\edmil\\\\AppData\\\\Local\\\\Programs\\\\Python\\\\Python311\\\\Lib\\\\site-packages\\\\chromedriver_autoinstaller\\\\116\\\\chromedriver.exe'"
      ]
     },
     "execution_count": 38,
     "metadata": {},
     "output_type": "execute_result"
    }
   ],
   "source": [
    "\n",
    "from selenium import webdriver\n",
    "import chromedriver_autoinstaller\n",
    "from selenium.webdriver.common.by import By \n",
    "from time import sleep\n",
    "from selenium.webdriver.common.keys import Keys\n",
    "\n",
    "# Instalação automática do ChromeDriver (commicação entre cod e navegador)\n",
    "chromedriver_autoinstaller.install()"
   ]
  },
  {
   "cell_type": "code",
   "execution_count": 39,
   "metadata": {},
   "outputs": [],
   "source": [
    "# Inicializar o navegador Chrome\n",
    "navegador = webdriver.Chrome()\n",
    "Link = \"https://forms.gle/sG2dD6N6cgGyqKso7\"\n",
    "navegador.get(Link)"
   ]
  },
  {
   "cell_type": "code",
   "execution_count": null,
   "metadata": {},
   "outputs": [],
   "source": [
    "sleep(3)\n",
    "nome =      navegador.find_element(by= By.XPATH,value='//*[@id=\"mG61Hd\"]/div[2]/div/div[2]/div[1]/div/div/div[2]/div/div[1]/div/div[1]/input').send_keys(\"Edmilson teste 2\")\n",
    "Sobrenome=  navegador.find_element(by= By.XPATH,value='//*[@id=\"mG61Hd\"]/div[2]/div/div[2]/div[2]/div/div/div[2]/div/div[1]/div/div[1]/input').send_keys('Alves')\n",
    "Email=      navegador.find_element(by= By.XPATH,value='//*[@id=\"mG61Hd\"]/div[2]/div/div[2]/div[3]/div/div/div[2]/div/div[1]/div/div[1]/input').send_keys('Alves@teste.com.br')\n",
    "Celular=    navegador.find_element(by= By.XPATH,value='//*[@id=\"mG61Hd\"]/div[2]/div/div[2]/div[4]/div/div/div[2]/div/div[1]/div/div[1]/input').send_keys('3002568884689')\n",
    "Estado=     navegador.find_element(by= By.XPATH,value='//*[@id=\"mG61Hd\"]/div[2]/div/div[2]/div[5]/div/div/div[2]/div/div[1]/div/div[1]/input').send_keys('MG')\n",
    "Rua=        navegador.find_element(by= By.XPATH,value='//*[@id=\"mG61Hd\"]/div[2]/div/div[2]/div[6]/div/div/div[2]/div/div[1]/div/div[1]/input').send_keys('Rua de Cima')\n",
    "numero=     navegador.find_element(by= By.XPATH,value='//*[@id=\"mG61Hd\"]/div[2]/div/div[2]/div[7]/div/div/div[2]/div/div[1]/div/div[1]/input').send_keys('36656885')\n",
    "Adicional=  navegador.find_element(by= By.XPATH,value='//*[@id=\"mG61Hd\"]/div[2]/div/div[2]/div[8]/div/div/div[2]/div/div[1]/div/div[1]/input').send_keys('Bloco 4')\n",
    "Enviar =    navegador.find_element(by= By.XPATH,value='//*[@id=\"mG61Hd\"]/div[2]/div/div[3]/div[1]/div[1]/div/span/span').click()\n",
    "sleep(2)\n",
    "navegador.get(Link)"
   ]
  },
  {
   "cell_type": "code",
   "execution_count": null,
   "metadata": {},
   "outputs": [],
   "source": [
    "#navegador.quit()"
   ]
  }
 ],
 "metadata": {
  "kernelspec": {
   "display_name": "Python 3",
   "language": "python",
   "name": "python3"
  },
  "language_info": {
   "codemirror_mode": {
    "name": "ipython",
    "version": 3
   },
   "file_extension": ".py",
   "mimetype": "text/x-python",
   "name": "python",
   "nbconvert_exporter": "python",
   "pygments_lexer": "ipython3",
   "version": "3.11.4"
  },
  "orig_nbformat": 4
 },
 "nbformat": 4,
 "nbformat_minor": 2
}
