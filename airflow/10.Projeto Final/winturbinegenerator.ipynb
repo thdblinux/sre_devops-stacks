{
 "cells": [
  {
   "cell_type": "code",
   "execution_count": null,
   "id": "e47eed12-b649-4a54-814a-b230d65df247",
   "metadata": {},
   "outputs": [
    {
     "name": "stdout",
     "output_type": "stream",
     "text": [
      "22.279809506572597\n"
     ]
    }
   ],
   "source": [
    "import json\n",
    "from random import uniform\n",
    "import time\n",
    "from datetime import datetime\n",
    "id = 0\n",
    "while True:\n",
    "    id += 1\n",
    "    dados_pf = uniform(0.7,1)\n",
    "\n",
    "    dados_hp = uniform(70,80)\n",
    "\n",
    "    dados_tp = uniform(20,25)\n",
    "    registro = {'idtemp' : str(id), 'powerfactor' : str(dados_pf),'hydraulicpressure' : str(dados_hp) ,\n",
    "                'temperature' : str(dados_tp) ,'timestamp' : str(datetime.now()) }\n",
    "    \n",
    "    with open('C:/Users/usuario/Desktop/airflow/data/data.json', 'w') as fp:\n",
    "        json.dump(registro, fp)\n",
    "  \n",
    "    time.sleep(5000)"
   ]
  },
  {
   "cell_type": "code",
   "execution_count": null,
   "id": "40f9ef45-986f-4830-b0c9-ad00cebdafc1",
   "metadata": {},
   "outputs": [],
   "source": []
  },
  {
   "cell_type": "code",
   "execution_count": null,
   "id": "6d97a305-2730-4bc4-8aaa-6f9ebaf6d0a7",
   "metadata": {},
   "outputs": [],
   "source": []
  }
 ],
 "metadata": {
  "kernelspec": {
   "display_name": "Python 3 (ipykernel)",
   "language": "python",
   "name": "python3"
  },
  "language_info": {
   "codemirror_mode": {
    "name": "ipython",
    "version": 3
   },
   "file_extension": ".py",
   "mimetype": "text/x-python",
   "name": "python",
   "nbconvert_exporter": "python",
   "pygments_lexer": "ipython3",
   "version": "3.9.13"
  }
 },
 "nbformat": 4,
 "nbformat_minor": 5
}
